{
 "cells": [
  {
   "cell_type": "code",
   "execution_count": 1,
   "metadata": {},
   "outputs": [
    {
     "name": "stderr",
     "output_type": "stream",
     "text": [
      "Using TensorFlow backend.\n"
     ]
    }
   ],
   "source": [
    "import numpy as np\n",
    "import pandas as pd\n",
    "import time\n",
    "from keras.models import Sequential, load_model\n",
    "from keras.callbacks import EarlyStopping\n",
    "from keras.layers import Input, Dense, Conv2D, Dropout, LSTM, Flatten, TimeDistributed\n",
    "from keras.preprocessing.image import ImageDataGenerator, array_to_img, img_to_array, load_img\n",
    "import matplotlib.pyplot as plt\n",
    "import mpl_toolkits.mplot3d.axes3d as p3\n",
    "import matplotlib.animation as animation\n",
    "from mpl_toolkits.mplot3d import Axes3D\n",
    "%matplotlib inline\n",
    "from scipy.spatial.transform import Rotation as R"
   ]
  },
  {
   "cell_type": "code",
   "execution_count": 2,
   "metadata": {},
   "outputs": [],
   "source": [
    "def make_relative(tgts):\n",
    "    '''starts points at zeros and have targets describe\n",
    "    the shift in the frame'''\n",
    "    m=tgts.copy()\n",
    "    m.iloc[:,:3]=tgts.iloc[:,:3].diff().fillna(0)\n",
    "    return m"
   ]
  },
  {
   "cell_type": "code",
   "execution_count": 3,
   "metadata": {},
   "outputs": [],
   "source": [
    "def filter_by_timestamp_closest(imageids, groundtruths):\n",
    "    images=imageids[(imageids.timestamp>groundtruths.timestamp.iloc[0])&\n",
    "                   (imageids.timestamp<groundtruths.timestamp.iloc[-1])]\n",
    "    images['groundid']=[groundtruths.timestamp[groundtruths.timestamp<ts\n",
    "                            ].idxmax() for ts in images.timestamp]\n",
    "    gg=ground.iloc[images['groundid']].reset_index()\n",
    "    nn=images.image_name.reset_index()\n",
    "    gg['image_name']=nn.image_name\n",
    "    return gg"
   ]
  },
  {
   "cell_type": "code",
   "execution_count": 4,
   "metadata": {},
   "outputs": [],
   "source": [
    "def reverse_transform_relative(tgts,orig):\n",
    "    a,b,c=orig.iloc[0,0],orig.iloc[0,1],orig.iloc[0,2]\n",
    "    m=tgts.copy()\n",
    "    m[:,0]=np.r_[a,m[1:,0]].cumsum().astype(float)\n",
    "    m[:,1]=np.r_[b,m[1:,1]].cumsum().astype(float)\n",
    "    m[:,2]=np.r_[c,m[1:,2]].cumsum().astype(float)\n",
    "    return m"
   ]
  },
  {
   "cell_type": "code",
   "execution_count": 6,
   "metadata": {},
   "outputs": [
    {
     "name": "stdout",
     "output_type": "stream",
     "text": [
      "\u001b[0m\u001b[01;34mdrone_indoor_forward_10\u001b[0m/\r\n"
     ]
    }
   ],
   "source": [
    "ls indoor"
   ]
  },
  {
   "cell_type": "code",
   "execution_count": 5,
   "metadata": {},
   "outputs": [
    {
     "name": "stdout",
     "output_type": "stream",
     "text": [
      "drone number: 3\n"
     ]
    }
   ],
   "source": [
    "x=input('drone number: ')"
   ]
  },
  {
   "cell_type": "code",
   "execution_count": 6,
   "metadata": {},
   "outputs": [],
   "source": [
    "df=pd.read_csv(f'indoor/drone_{x}/groundtruth.txt', sep=' ', float_precision='high')\n",
    "df.drop(labels=['qw','#'],axis=1,inplace=True)\n",
    "ground=df.rename(columns={'qz':'qw','qy':'qz','qx':'qy','tz':'qx','ty':'tz','tx':'ty','timestamp':'tx','id':'timestamp'})"
   ]
  },
  {
   "cell_type": "code",
   "execution_count": 7,
   "metadata": {},
   "outputs": [],
   "source": [
    "df=pd.read_csv(f'indoor/drone_{x}/images.txt', sep=' ',float_precision='high')\n",
    "cols=df.columns\n",
    "df.rename(columns={k:v for k,v in zip(df.columns[1:3],df.columns[2:])},inplace=True)\n",
    "imdf=df.iloc[:,1:3]"
   ]
  },
  {
   "cell_type": "code",
   "execution_count": 8,
   "metadata": {
    "scrolled": false
   },
   "outputs": [
    {
     "name": "stderr",
     "output_type": "stream",
     "text": [
      "/home/poxlox/anaconda3/lib/python3.7/site-packages/ipykernel_launcher.py:5: SettingWithCopyWarning: \n",
      "A value is trying to be set on a copy of a slice from a DataFrame.\n",
      "Try using .loc[row_indexer,col_indexer] = value instead\n",
      "\n",
      "See the caveats in the documentation: http://pandas.pydata.org/pandas-docs/stable/indexing.html#indexing-view-versus-copy\n",
      "  \"\"\"\n"
     ]
    }
   ],
   "source": [
    "targets=filter_by_timestamp_closest(imdf,ground)"
   ]
  },
  {
   "cell_type": "code",
   "execution_count": 11,
   "metadata": {},
   "outputs": [],
   "source": [
    "targets.to_pickle('targets_drone_3.pkl')"
   ]
  },
  {
   "cell_type": "code",
   "execution_count": 13,
   "metadata": {},
   "outputs": [],
   "source": [
    "images=np.array([[img_to_array(load_img(f'indoor/drone_{x}/'+targets.image_name.iloc[thing],color_mode='grayscale')),\n",
    "            img_to_array(load_img(f'indoor/drone_{x}/'+targets.image_name.iloc[thing+1],color_mode='grayscale'))] for thing in range(len(targets)-1)])"
   ]
  },
  {
   "cell_type": "code",
   "execution_count": 14,
   "metadata": {},
   "outputs": [],
   "source": [
    "images=np.array(images)"
   ]
  },
  {
   "cell_type": "code",
   "execution_count": 10,
   "metadata": {},
   "outputs": [],
   "source": [
    "targets=targets.iloc[1:,2:-1]"
   ]
  },
  {
   "cell_type": "code",
   "execution_count": 16,
   "metadata": {},
   "outputs": [],
   "source": [
    "reltargets=np.array(make_relative(targets))"
   ]
  },
  {
   "cell_type": "code",
   "execution_count": 14,
   "metadata": {},
   "outputs": [],
   "source": [
    "# inputshape=images[0].shape"
   ]
  },
  {
   "cell_type": "code",
   "execution_count": 45,
   "metadata": {},
   "outputs": [],
   "source": [
    "# m1=Sequential()\n",
    "# m1.add(TimeDistributed(Conv2D(filters=64, kernel_size=(7,7), strides=(2,2),\n",
    "#         padding='SAME', activation='relu',input_shape=inputshape))) #1\n",
    "# m1.add(TimeDistributed(Conv2D(128, (5,5),strides=(2,2),padding='SAME', activation='relu'))) #2\n",
    "# m1.add(TimeDistributed(Conv2D(256, (5,5),strides=(2,2),padding='SAME', activation='relu'))) #3\n",
    "# m1.add(TimeDistributed(Conv2D(256, (3,3),strides=(1,1),padding='SAME', activation='relu'))) #4\n",
    "# m1.add(TimeDistributed(Conv2D(512, (3,3),strides=(2,2),padding='SAME', activation='relu'))) #5\n",
    "# m1.add(TimeDistributed(Conv2D(512, (3,3),strides=(1,1),padding='SAME', activation='relu'))) #6\n",
    "# m1.add(TimeDistributed(Conv2D(512, (3,3),strides=(2,2),padding='SAME', activation='relu'))) #7\n",
    "# m1.add(TimeDistributed(Conv2D(512, (3,3),strides=(2,2),padding='SAME', activation='relu'))) #8\n",
    "# m1.add(TimeDistributed(Conv2D(1024, (3,3),strides=(2,2),padding='SAME'))) #9\n",
    "# m1.add(TimeDistributed(Flatten()))\n",
    "# m1.add(LSTM(1000, activation='sigmoid',recurrent_activation='tanh',return_sequences=True))\n",
    "# m1.add(LSTM(1000, activation='sigmoid',recurrent_activation='tanh'))\n",
    "# m1.add(Dense(7,activation='linear'))\n",
    "# m1.compile(optimizer='Adagrad',lr=.0001,loss=['mse'])\n"
   ]
  },
  {
   "cell_type": "code",
   "execution_count": 7,
   "metadata": {},
   "outputs": [],
   "source": [
    "m1=load_model('saves/relmodel_v3_165932.h5')"
   ]
  },
  {
   "cell_type": "code",
   "execution_count": 73,
   "metadata": {},
   "outputs": [],
   "source": [
    "es=EarlyStopping(monitor='loss',patience=4)"
   ]
  },
  {
   "cell_type": "code",
   "execution_count": 74,
   "metadata": {
    "collapsed": true
   },
   "outputs": [
    {
     "name": "stdout",
     "output_type": "stream",
     "text": [
      "Epoch 1/200\n",
      "1245/1245 [==============================] - 59s 47ms/step - loss: 0.0973\n",
      "Epoch 2/200\n",
      "1245/1245 [==============================] - 58s 47ms/step - loss: 0.0889\n",
      "Epoch 3/200\n",
      "1245/1245 [==============================] - 59s 47ms/step - loss: 0.0866\n",
      "Epoch 4/200\n",
      "1245/1245 [==============================] - 57s 46ms/step - loss: 0.0847\n",
      "Epoch 5/200\n",
      "1245/1245 [==============================] - 59s 47ms/step - loss: 0.0837\n",
      "Epoch 6/200\n",
      "1245/1245 [==============================] - 59s 47ms/step - loss: 0.0829\n",
      "Epoch 7/200\n",
      "1245/1245 [==============================] - 59s 47ms/step - loss: 0.0817\n",
      "Epoch 8/200\n",
      "1245/1245 [==============================] - 59s 47ms/step - loss: 0.0824\n",
      "Epoch 9/200\n",
      "1245/1245 [==============================] - 59s 48ms/step - loss: 0.0814\n",
      "Epoch 10/200\n",
      "1245/1245 [==============================] - 59s 48ms/step - loss: 0.0803\n",
      "Epoch 11/200\n",
      "1245/1245 [==============================] - 59s 48ms/step - loss: 0.0805\n",
      "Epoch 12/200\n",
      "1245/1245 [==============================] - 59s 47ms/step - loss: 0.0799\n",
      "Epoch 13/200\n",
      "1245/1245 [==============================] - 59s 47ms/step - loss: 0.0793\n",
      "Epoch 14/200\n",
      "1245/1245 [==============================] - 59s 48ms/step - loss: 0.0786\n",
      "Epoch 15/200\n",
      "1245/1245 [==============================] - 79s 64ms/step - loss: 0.0797\n",
      "Epoch 16/200\n",
      "1245/1245 [==============================] - 66s 53ms/step - loss: 0.0779\n",
      "Epoch 17/200\n",
      "1245/1245 [==============================] - 60s 48ms/step - loss: 0.0780\n",
      "Epoch 18/200\n",
      "1245/1245 [==============================] - 59s 47ms/step - loss: 0.0768\n",
      "Epoch 19/200\n",
      "1245/1245 [==============================] - 59s 48ms/step - loss: 0.0786\n",
      "Epoch 20/200\n",
      "1245/1245 [==============================] - 60s 48ms/step - loss: 0.0772\n",
      "Epoch 21/200\n",
      "1245/1245 [==============================] - 59s 48ms/step - loss: 0.0769\n",
      "Epoch 22/200\n",
      "1245/1245 [==============================] - 59s 47ms/step - loss: 0.0764\n",
      "Epoch 23/200\n",
      "1245/1245 [==============================] - 59s 47ms/step - loss: 0.0758\n",
      "Epoch 24/200\n",
      "1245/1245 [==============================] - 59s 47ms/step - loss: 0.0758\n",
      "Epoch 25/200\n",
      "1245/1245 [==============================] - 59s 48ms/step - loss: 0.0760\n",
      "Epoch 26/200\n",
      "1245/1245 [==============================] - 60s 48ms/step - loss: 0.0755\n",
      "Epoch 27/200\n",
      "1245/1245 [==============================] - 58s 47ms/step - loss: 0.0755\n",
      "Epoch 28/200\n",
      "1245/1245 [==============================] - 59s 47ms/step - loss: 0.0747\n",
      "Epoch 29/200\n",
      "1245/1245 [==============================] - 59s 47ms/step - loss: 0.0748\n",
      "Epoch 30/200\n",
      "1245/1245 [==============================] - 58s 47ms/step - loss: 0.0752\n",
      "Epoch 31/200\n",
      "1245/1245 [==============================] - 58s 47ms/step - loss: 0.0741\n",
      "Epoch 32/200\n",
      "1245/1245 [==============================] - 59s 47ms/step - loss: 0.0757\n",
      "Epoch 33/200\n",
      "1245/1245 [==============================] - 58s 47ms/step - loss: 0.0743\n",
      "Epoch 34/200\n",
      "1245/1245 [==============================] - 59s 47ms/step - loss: 0.0737\n",
      "Epoch 35/200\n",
      "1245/1245 [==============================] - 59s 48ms/step - loss: 0.0738\n",
      "Epoch 36/200\n",
      "1245/1245 [==============================] - 59s 47ms/step - loss: 0.0737\n",
      "Epoch 37/200\n",
      "1245/1245 [==============================] - 59s 47ms/step - loss: 0.0746\n",
      "Epoch 38/200\n",
      "1245/1245 [==============================] - 59s 48ms/step - loss: 0.0731\n",
      "Epoch 39/200\n",
      "1245/1245 [==============================] - 59s 47ms/step - loss: 0.0728\n",
      "Epoch 40/200\n",
      "1245/1245 [==============================] - 59s 48ms/step - loss: 0.0739\n",
      "Epoch 41/200\n",
      "1245/1245 [==============================] - 59s 48ms/step - loss: 0.0743\n",
      "Epoch 42/200\n",
      "1245/1245 [==============================] - 58s 47ms/step - loss: 0.0736\n",
      "Epoch 43/200\n",
      "1245/1245 [==============================] - 58s 46ms/step - loss: 0.0733\n"
     ]
    },
    {
     "data": {
      "text/plain": [
       "<keras.callbacks.History at 0x7fcfc2a48748>"
      ]
     },
     "execution_count": 74,
     "metadata": {},
     "output_type": "execute_result"
    }
   ],
   "source": [
    "m1.fit(images, reltargets,epochs=200,batch_size=71,callbacks=[es])"
   ]
  },
  {
   "cell_type": "code",
   "execution_count": 109,
   "metadata": {},
   "outputs": [],
   "source": [
    "m1.save(f'relmodel_{time.strftime(\"%H%M%S\")}.h5')"
   ]
  },
  {
   "cell_type": "code",
   "execution_count": 17,
   "metadata": {},
   "outputs": [],
   "source": [
    "preds1=m1.predict(images)"
   ]
  },
  {
   "cell_type": "code",
   "execution_count": 18,
   "metadata": {},
   "outputs": [],
   "source": [
    "relpreds=reverse_transform_relative(preds1,targets)"
   ]
  },
  {
   "cell_type": "code",
   "execution_count": 19,
   "metadata": {},
   "outputs": [],
   "source": [
    "checkpreds=reverse_transform_relative(reltargets,targets)"
   ]
  },
  {
   "cell_type": "code",
   "execution_count": 20,
   "metadata": {},
   "outputs": [
    {
     "data": {
      "image/png": "[encoded data removed]",
      "text/plain": [
       "<Figure size 432x288 with 1 Axes>"
      ]
     },
     "metadata": {
      "needs_background": "light"
     },
     "output_type": "display_data"
    }
   ],
   "source": [
    "fig = plt.figure()\n",
    "ax = fig.add_subplot(111, projection='3d')\n",
    "ax.plot(targets.iloc[:,0],targets.iloc[:,1],targets.iloc[:,2])\n",
    "plt.show()"
   ]
  },
  {
   "cell_type": "code",
   "execution_count": 21,
   "metadata": {},
   "outputs": [
    {
     "data": {
      "image/png": "[encoded data removed]",
      "text/plain": [
       "<Figure size 432x288 with 1 Axes>"
      ]
     },
     "metadata": {
      "needs_background": "light"
     },
     "output_type": "display_data"
    }
   ],
   "source": [
    "fig = plt.figure()\n",
    "ax = fig.add_subplot(111, projection='3d')\n",
    "ax.plot(relpreds[:,0],relpreds[:,1],relpreds[:,2])\n",
    "plt.show()"
   ]
  },
  {
   "cell_type": "code",
   "execution_count": 22,
   "metadata": {},
   "outputs": [],
   "source": [
    "mang=len(relpreds[:,0])"
   ]
  },
  {
   "cell_type": "code",
   "execution_count": 80,
   "metadata": {},
   "outputs": [],
   "source": [
    "div=mang//60"
   ]
  },
  {
   "cell_type": "code",
   "execution_count": 81,
   "metadata": {},
   "outputs": [],
   "source": [
    "intervals=mang//div"
   ]
  },
  {
   "cell_type": "code",
   "execution_count": 138,
   "metadata": {},
   "outputs": [
    {
     "data": {
      "text/plain": [
       "(1292, 2, 260, 346, 1)"
      ]
     },
     "execution_count": 138,
     "metadata": {},
     "output_type": "execute_result"
    }
   ],
   "source": [
    "d[3][0].shape"
   ]
  },
  {
   "cell_type": "code",
   "execution_count": 99,
   "metadata": {},
   "outputs": [],
   "source": []
  },
  {
   "cell_type": "code",
   "execution_count": 6,
   "metadata": {},
   "outputs": [
    {
     "name": "stderr",
     "output_type": "stream",
     "text": [
      "/home/poxlox/anaconda3/lib/python3.7/site-packages/ipykernel_launcher.py:5: SettingWithCopyWarning: \n",
      "A value is trying to be set on a copy of a slice from a DataFrame.\n",
      "Try using .loc[row_indexer,col_indexer] = value instead\n",
      "\n",
      "See the caveats in the documentation: http://pandas.pydata.org/pandas-docs/stable/indexing.html#indexing-view-versus-copy\n",
      "  \"\"\"\n"
     ]
    }
   ],
   "source": [
    "dronenumbers=[3,5,6,7,9]\n",
    "d={}\n",
    "for x in dronenumbers:\n",
    "    df=pd.read_csv(f'indoor/drone_{x}/groundtruth.txt', sep=' ', float_precision='high')\n",
    "    df.drop(labels=['qw','#'],axis=1,inplace=True)\n",
    "    ground=df.rename(columns={'qz':'qw','qy':'qz','qx':'qy','tz':'qx','ty':'tz','tx':'ty','timestamp':'tx','id':'timestamp'})\n",
    "    df=pd.read_csv(f'indoor/drone_{x}/images.txt', sep=' ',float_precision='high')\n",
    "    cols=df.columns\n",
    "    df.rename(columns={k:v for k,v in zip(df.columns[1:3],df.columns[2:])},inplace=True)\n",
    "    imdf=df.iloc[:,1:3]\n",
    "    targets=filter_by_timestamp_closest(imdf,ground)\n",
    "    images=np.array([[img_to_array(load_img(f'indoor/drone_{x}/'+targets.image_name.iloc[thing],color_mode='grayscale')),\n",
    "            img_to_array(load_img(f'indoor/drone_{x}/'+targets.image_name.iloc[thing+1],color_mode='grayscale'))] for thing in range(len(targets)-1)])\n",
    "    images=np.array(images)\n",
    "    targets=targets.iloc[1:,2:-1]\n",
    "    reltargets=np.array(make_relative(targets))\n",
    "    d[x]=[images,reltargets]"
   ]
  },
  {
   "cell_type": "code",
   "execution_count": 108,
   "metadata": {},
   "outputs": [
    {
     "name": "stdout",
     "output_type": "stream",
     "text": [
      "1292\n",
      "1292\n",
      "1642\n",
      "1642\n",
      "1104\n",
      "1104\n",
      "2705\n",
      "2705\n",
      "1245\n",
      "1245\n"
     ]
    }
   ],
   "source": [
    "for x in d.values():\n",
    "    print(len(x[0]))\n",
    "    print(len(x[1]))"
   ]
  },
  {
   "cell_type": "code",
   "execution_count": 8,
   "metadata": {
    "collapsed": true
   },
   "outputs": [
    {
     "name": "stderr",
     "output_type": "stream",
     "text": [
      "/home/ubuntu/anaconda3/envs/tensorflow_p36/lib/python3.6/site-packages/ipykernel/__main__.py:5: SettingWithCopyWarning: \n",
      "A value is trying to be set on a copy of a slice from a DataFrame.\n",
      "Try using .loc[row_indexer,col_indexer] = value instead\n",
      "\n",
      "See the caveats in the documentation: http://pandas.pydata.org/pandas-docs/stable/indexing.html#indexing-view-versus-copy\n"
     ]
    },
    {
     "name": "stdout",
     "output_type": "stream",
     "text": [
      "Epoch 1/200\n",
      "1104/1104 [==============================] - 68s 61ms/step - loss: 0.1076\n",
      "Epoch 2/200\n",
      "1104/1104 [==============================] - 51s 46ms/step - loss: 0.0924\n",
      "Epoch 3/200\n",
      "1104/1104 [==============================] - 52s 47ms/step - loss: 0.0887\n",
      "Epoch 4/200\n",
      "1104/1104 [==============================] - 52s 47ms/step - loss: 0.0866\n",
      "Epoch 5/200\n",
      "1104/1104 [==============================] - 52s 47ms/step - loss: 0.0871\n",
      "Epoch 6/200\n",
      "1104/1104 [==============================] - 52s 47ms/step - loss: 0.0867\n",
      "Epoch 7/200\n",
      "1104/1104 [==============================] - 52s 47ms/step - loss: 0.0853\n",
      "Epoch 8/200\n",
      "1104/1104 [==============================] - 53s 48ms/step - loss: 0.0853\n",
      "Epoch 9/200\n",
      "1104/1104 [==============================] - 52s 47ms/step - loss: 0.0833\n",
      "Epoch 10/200\n",
      "1104/1104 [==============================] - 52s 47ms/step - loss: 0.0823\n",
      "Epoch 11/200\n",
      "1104/1104 [==============================] - 53s 48ms/step - loss: 0.0825\n",
      "Epoch 12/200\n",
      "1104/1104 [==============================] - 52s 47ms/step - loss: 0.0825\n",
      "Epoch 13/200\n",
      "1104/1104 [==============================] - 52s 47ms/step - loss: 0.0817\n",
      "Epoch 14/200\n",
      "1104/1104 [==============================] - 53s 48ms/step - loss: 0.0818\n",
      "Epoch 15/200\n",
      "1104/1104 [==============================] - 51s 47ms/step - loss: 0.0808\n",
      "Epoch 16/200\n",
      "1104/1104 [==============================] - 52s 47ms/step - loss: 0.0798\n",
      "Epoch 17/200\n",
      "1104/1104 [==============================] - 53s 48ms/step - loss: 0.0804\n",
      "Epoch 18/200\n",
      "1104/1104 [==============================] - 52s 47ms/step - loss: 0.0788\n",
      "Epoch 19/200\n",
      "1104/1104 [==============================] - 67s 61ms/step - loss: 0.0788\n",
      "Epoch 20/200\n",
      "1104/1104 [==============================] - 100s 91ms/step - loss: 0.0800\n",
      "Epoch 21/200\n",
      "1104/1104 [==============================] - 104s 94ms/step - loss: 0.0784\n",
      "Epoch 22/200\n",
      "1104/1104 [==============================] - 101s 91ms/step - loss: 0.0786\n",
      "Epoch 23/200\n",
      "1104/1104 [==============================] - 102s 92ms/step - loss: 0.0774\n",
      "Epoch 24/200\n",
      "1104/1104 [==============================] - 102s 93ms/step - loss: 0.0776\n",
      "Epoch 25/200\n",
      "1104/1104 [==============================] - 97s 88ms/step - loss: 0.0775\n",
      "Epoch 26/200\n",
      "1104/1104 [==============================] - 102s 92ms/step - loss: 0.0789\n",
      "Epoch 27/200\n",
      "1104/1104 [==============================] - 103s 93ms/step - loss: 0.0768\n",
      "Epoch 28/200\n",
      "1104/1104 [==============================] - 102s 92ms/step - loss: 0.0766\n",
      "Epoch 29/200\n",
      "1104/1104 [==============================] - 101s 91ms/step - loss: 0.0768\n",
      "Epoch 30/200\n",
      "1104/1104 [==============================] - 102s 93ms/step - loss: 0.0765\n",
      "Epoch 31/200\n",
      "1104/1104 [==============================] - 102s 93ms/step - loss: 0.0766\n",
      "Epoch 32/200\n",
      "1104/1104 [==============================] - 102s 93ms/step - loss: 0.0765\n",
      "Epoch 33/200\n",
      "1104/1104 [==============================] - 103s 93ms/step - loss: 0.0768\n",
      "Epoch 34/200\n",
      "1104/1104 [==============================] - 102s 92ms/step - loss: 0.0759\n",
      "Epoch 35/200\n",
      "1104/1104 [==============================] - 102s 92ms/step - loss: 0.0766\n",
      "Epoch 36/200\n",
      "1104/1104 [==============================] - 101s 92ms/step - loss: 0.0754\n",
      "Epoch 37/200\n",
      "1104/1104 [==============================] - 103s 93ms/step - loss: 0.0756\n",
      "Epoch 38/200\n",
      "1104/1104 [==============================] - 103s 94ms/step - loss: 0.0754\n",
      "Epoch 39/200\n",
      "1104/1104 [==============================] - 100s 91ms/step - loss: 0.0749\n",
      "Epoch 40/200\n",
      "1104/1104 [==============================] - 100s 90ms/step - loss: 0.0762\n",
      "Epoch 41/200\n",
      "1104/1104 [==============================] - 105s 95ms/step - loss: 0.0758\n",
      "Epoch 42/200\n",
      "1104/1104 [==============================] - 99s 89ms/step - loss: 0.0745\n",
      "Epoch 43/200\n",
      "1104/1104 [==============================] - 103s 93ms/step - loss: 0.0740\n",
      "Epoch 44/200\n",
      "1104/1104 [==============================] - 104s 94ms/step - loss: 0.0745\n",
      "Epoch 45/200\n",
      "1104/1104 [==============================] - 101s 92ms/step - loss: 0.0750\n",
      "Epoch 46/200\n",
      "1104/1104 [==============================] - 101s 91ms/step - loss: 0.0748\n",
      "Epoch 47/200\n",
      "1104/1104 [==============================] - 103s 93ms/step - loss: 0.0739\n",
      "Epoch 48/200\n",
      "1104/1104 [==============================] - 98s 89ms/step - loss: 0.0743\n",
      "Epoch 49/200\n",
      "1104/1104 [==============================] - 101s 91ms/step - loss: 0.0746\n",
      "Epoch 50/200\n",
      "1104/1104 [==============================] - 103s 93ms/step - loss: 0.0731\n",
      "Epoch 51/200\n",
      "1104/1104 [==============================] - 101s 91ms/step - loss: 0.0735\n",
      "Epoch 52/200\n",
      "1104/1104 [==============================] - 102s 93ms/step - loss: 0.0738\n",
      "Epoch 53/200\n",
      "1104/1104 [==============================] - 102s 92ms/step - loss: 0.0734\n",
      "Epoch 54/200\n",
      "1104/1104 [==============================] - 102s 92ms/step - loss: 0.0751\n",
      "Epoch 55/200\n",
      "1104/1104 [==============================] - 100s 90ms/step - loss: 0.0737\n",
      "Epoch 56/200\n",
      "1104/1104 [==============================] - 102s 93ms/step - loss: 0.0740\n",
      "Epoch 57/200\n",
      "1104/1104 [==============================] - 101s 92ms/step - loss: 0.0734\n",
      "Epoch 58/200\n",
      "1104/1104 [==============================] - 102s 92ms/step - loss: 0.0730\n",
      "Epoch 59/200\n",
      "1104/1104 [==============================] - 102s 93ms/step - loss: 0.0729\n",
      "Epoch 60/200\n",
      "1104/1104 [==============================] - 100s 91ms/step - loss: 0.0739\n",
      "Epoch 61/200\n",
      "1104/1104 [==============================] - 103s 93ms/step - loss: 0.0739\n",
      "Epoch 62/200\n",
      "1104/1104 [==============================] - 102s 93ms/step - loss: 0.0744\n",
      "Epoch 63/200\n",
      "1104/1104 [==============================] - 101s 92ms/step - loss: 0.0735\n",
      "Epoch 64/200\n",
      "1104/1104 [==============================] - 100s 90ms/step - loss: 0.0738\n",
      "Epoch 65/200\n",
      "1104/1104 [==============================] - 100s 90ms/step - loss: 0.0724\n",
      "Epoch 66/200\n",
      "1104/1104 [==============================] - 101s 91ms/step - loss: 0.0735\n",
      "Epoch 67/200\n",
      "1104/1104 [==============================] - 100s 90ms/step - loss: 0.0724\n",
      "Epoch 68/200\n",
      "1104/1104 [==============================] - 102s 93ms/step - loss: 0.0733\n",
      "Epoch 69/200\n",
      "1104/1104 [==============================] - 103s 93ms/step - loss: 0.0727\n",
      "Epoch 70/200\n",
      "1104/1104 [==============================] - 104s 94ms/step - loss: 0.0723\n",
      "Epoch 71/200\n",
      "1104/1104 [==============================] - 99s 90ms/step - loss: 0.0727\n",
      "Epoch 72/200\n",
      "1104/1104 [==============================] - 103s 93ms/step - loss: 0.0726\n",
      "Epoch 73/200\n",
      "1104/1104 [==============================] - 101s 91ms/step - loss: 0.0728\n",
      "Epoch 74/200\n",
      "1104/1104 [==============================] - 102s 92ms/step - loss: 0.0721\n",
      "Epoch 75/200\n",
      "1104/1104 [==============================] - 102s 93ms/step - loss: 0.0715\n",
      "Epoch 76/200\n",
      "1104/1104 [==============================] - 103s 93ms/step - loss: 0.0731\n",
      "Epoch 77/200\n",
      "1104/1104 [==============================] - 101s 91ms/step - loss: 0.0717\n",
      "Epoch 78/200\n",
      "1104/1104 [==============================] - 99s 89ms/step - loss: 0.0725\n",
      "Epoch 79/200\n",
      "1104/1104 [==============================] - 102s 93ms/step - loss: 0.0722\n",
      "Epoch 80/200\n",
      "1104/1104 [==============================] - 102s 93ms/step - loss: 0.0720\n",
      "Epoch 81/200\n",
      "1104/1104 [==============================] - 100s 91ms/step - loss: 0.0718\n",
      "Epoch 82/200\n",
      "1104/1104 [==============================] - 101s 91ms/step - loss: 0.0719\n",
      "Epoch 83/200\n",
      "1104/1104 [==============================] - 101s 91ms/step - loss: 0.0720\n",
      "Epoch 84/200\n",
      "1104/1104 [==============================] - 105s 95ms/step - loss: 0.0722\n",
      "Epoch 85/200\n",
      "1104/1104 [==============================] - 101s 91ms/step - loss: 0.0723\n",
      "Epoch 1/200\n",
      "2705/2705 [==============================] - 246s 91ms/step - loss: 0.1017\n",
      "Epoch 2/200\n",
      "2705/2705 [==============================] - 249s 92ms/step - loss: 0.0919\n",
      "Epoch 3/200\n",
      "2705/2705 [==============================] - 249s 92ms/step - loss: 0.0876\n",
      "Epoch 4/200\n",
      "2705/2705 [==============================] - 250s 92ms/step - loss: 0.0846\n",
      "Epoch 5/200\n",
      "2705/2705 [==============================] - 247s 91ms/step - loss: 0.0830\n",
      "Epoch 6/200\n",
      "2705/2705 [==============================] - 244s 90ms/step - loss: 0.0843\n",
      "Epoch 7/200\n",
      "2705/2705 [==============================] - 251s 93ms/step - loss: 0.0811\n",
      "Epoch 8/200\n",
      "2705/2705 [==============================] - 251s 93ms/step - loss: 0.0804\n",
      "Epoch 9/200\n",
      "2705/2705 [==============================] - 247s 91ms/step - loss: 0.0796\n",
      "Epoch 10/200\n",
      "2705/2705 [==============================] - 247s 91ms/step - loss: 0.0785\n",
      "Epoch 11/200\n",
      "2705/2705 [==============================] - 247s 91ms/step - loss: 0.0783\n",
      "Epoch 12/200\n",
      "2705/2705 [==============================] - 246s 91ms/step - loss: 0.0761\n",
      "Epoch 13/200\n",
      "2705/2705 [==============================] - 245s 90ms/step - loss: 0.0756\n",
      "Epoch 14/200\n",
      "2705/2705 [==============================] - 246s 91ms/step - loss: 0.0744\n",
      "Epoch 15/200\n",
      "2705/2705 [==============================] - 248s 92ms/step - loss: 0.0737\n",
      "Epoch 16/200\n",
      "2705/2705 [==============================] - 248s 92ms/step - loss: 0.0734\n",
      "Epoch 17/200\n",
      "2705/2705 [==============================] - 246s 91ms/step - loss: 0.0726\n",
      "Epoch 18/200\n",
      "2705/2705 [==============================] - 247s 91ms/step - loss: 0.0722\n",
      "Epoch 19/200\n",
      "2705/2705 [==============================] - 254s 94ms/step - loss: 0.0728\n",
      "Epoch 20/200\n",
      "2705/2705 [==============================] - 246s 91ms/step - loss: 0.0706\n",
      "Epoch 21/200\n",
      "2705/2705 [==============================] - 251s 93ms/step - loss: 0.0721\n",
      "Epoch 22/200\n",
      "2705/2705 [==============================] - 245s 91ms/step - loss: 0.0704\n",
      "Epoch 23/200\n",
      "2705/2705 [==============================] - 253s 93ms/step - loss: 0.0733\n",
      "Epoch 24/200\n",
      "2705/2705 [==============================] - 250s 92ms/step - loss: 0.0703\n",
      "Epoch 25/200\n",
      "2705/2705 [==============================] - 249s 92ms/step - loss: 0.0694\n",
      "Epoch 26/200\n",
      "2705/2705 [==============================] - 250s 92ms/step - loss: 0.0699\n",
      "Epoch 27/200\n",
      "2705/2705 [==============================] - 247s 91ms/step - loss: 0.0687\n",
      "Epoch 28/200\n",
      "2705/2705 [==============================] - 245s 91ms/step - loss: 0.0691\n",
      "Epoch 29/200\n",
      "2705/2705 [==============================] - 247s 91ms/step - loss: 0.0686\n",
      "Epoch 30/200\n",
      "2705/2705 [==============================] - 250s 92ms/step - loss: 0.0690\n",
      "Epoch 31/200\n",
      "2705/2705 [==============================] - 248s 92ms/step - loss: 0.0680\n",
      "Epoch 32/200\n",
      "2705/2705 [==============================] - 250s 93ms/step - loss: 0.0682\n",
      "Epoch 33/200\n",
      "2705/2705 [==============================] - 252s 93ms/step - loss: 0.0680\n",
      "Epoch 34/200\n",
      "2705/2705 [==============================] - 247s 91ms/step - loss: 0.0677\n",
      "Epoch 35/200\n",
      "2705/2705 [==============================] - 246s 91ms/step - loss: 0.0672\n",
      "Epoch 36/200\n",
      "2705/2705 [==============================] - 251s 93ms/step - loss: 0.0678\n",
      "Epoch 37/200\n",
      "2705/2705 [==============================] - 246s 91ms/step - loss: 0.0670\n",
      "Epoch 38/200\n",
      "2705/2705 [==============================] - 247s 91ms/step - loss: 0.0677\n",
      "Epoch 39/200\n",
      "2705/2705 [==============================] - 249s 92ms/step - loss: 0.0662\n",
      "Epoch 40/200\n",
      "2705/2705 [==============================] - 251s 93ms/step - loss: 0.0663\n",
      "Epoch 41/200\n",
      "2705/2705 [==============================] - 252s 93ms/step - loss: 0.0696\n",
      "Epoch 42/200\n",
      "2705/2705 [==============================] - 248s 92ms/step - loss: 0.0678\n",
      "Epoch 43/200\n",
      "2705/2705 [==============================] - 248s 92ms/step - loss: 0.0671\n",
      "Epoch 44/200\n",
      "2705/2705 [==============================] - 248s 92ms/step - loss: 0.0662\n",
      "Epoch 45/200\n",
      "2705/2705 [==============================] - 248s 92ms/step - loss: 0.0659\n",
      "Epoch 46/200\n",
      "2705/2705 [==============================] - 249s 92ms/step - loss: 0.0657\n",
      "Epoch 47/200\n",
      "2705/2705 [==============================] - 246s 91ms/step - loss: 0.0661\n",
      "Epoch 48/200\n",
      "2705/2705 [==============================] - 250s 92ms/step - loss: 0.0658\n",
      "Epoch 49/200\n",
      "2705/2705 [==============================] - 245s 91ms/step - loss: 0.0652\n",
      "Epoch 50/200\n",
      "2705/2705 [==============================] - 246s 91ms/step - loss: 0.0652\n",
      "Epoch 51/200\n",
      "2705/2705 [==============================] - 249s 92ms/step - loss: 0.0654\n",
      "Epoch 52/200\n",
      "2705/2705 [==============================] - 250s 92ms/step - loss: 0.0654\n",
      "Epoch 53/200\n",
      "2705/2705 [==============================] - 245s 90ms/step - loss: 0.0660\n",
      "Epoch 54/200\n",
      "2705/2705 [==============================] - 251s 93ms/step - loss: 0.0644\n",
      "Epoch 55/200\n",
      "2705/2705 [==============================] - 197s 73ms/step - loss: 0.0645\n",
      "Epoch 56/200\n",
      "2705/2705 [==============================] - 128s 47ms/step - loss: 0.0644\n",
      "Epoch 57/200\n",
      "2705/2705 [==============================] - 129s 48ms/step - loss: 0.0652\n",
      "Epoch 58/200\n",
      "2705/2705 [==============================] - 127s 47ms/step - loss: 0.0644\n",
      "Epoch 59/200\n",
      "2705/2705 [==============================] - 128s 47ms/step - loss: 0.0649\n",
      "Epoch 60/200\n",
      "2705/2705 [==============================] - 128s 47ms/step - loss: 0.0643\n",
      "Epoch 61/200\n",
      "2705/2705 [==============================] - 128s 47ms/step - loss: 0.0644\n",
      "Epoch 62/200\n",
      "2705/2705 [==============================] - 127s 47ms/step - loss: 0.0641\n",
      "Epoch 63/200\n",
      "2705/2705 [==============================] - 128s 47ms/step - loss: 0.0647\n",
      "Epoch 64/200\n",
      "2705/2705 [==============================] - 128s 47ms/step - loss: 0.0638\n",
      "Epoch 65/200\n",
      "2705/2705 [==============================] - 127s 47ms/step - loss: 0.0660\n",
      "Epoch 66/200\n",
      "2705/2705 [==============================] - 128s 47ms/step - loss: 0.0637\n",
      "Epoch 67/200\n",
      "2705/2705 [==============================] - 127s 47ms/step - loss: 0.0635\n",
      "Epoch 68/200\n",
      "2705/2705 [==============================] - 127s 47ms/step - loss: 0.0638\n",
      "Epoch 69/200\n",
      "2705/2705 [==============================] - 128s 47ms/step - loss: 0.0646\n",
      "Epoch 70/200\n",
      "2705/2705 [==============================] - 127s 47ms/step - loss: 0.0648\n",
      "Epoch 71/200\n",
      "2705/2705 [==============================] - 128s 47ms/step - loss: 0.0630\n",
      "Epoch 72/200\n",
      "2705/2705 [==============================] - 127s 47ms/step - loss: 0.0631\n",
      "Epoch 73/200\n",
      "2705/2705 [==============================] - 128s 47ms/step - loss: 0.0622\n",
      "Epoch 74/200\n",
      "2705/2705 [==============================] - 128s 47ms/step - loss: 0.0629\n",
      "Epoch 75/200\n",
      "2705/2705 [==============================] - 129s 48ms/step - loss: 0.0623\n",
      "Epoch 76/200\n",
      "2705/2705 [==============================] - 128s 47ms/step - loss: 0.0632\n",
      "Epoch 77/200\n",
      "2705/2705 [==============================] - 128s 47ms/step - loss: 0.0626\n",
      "Epoch 78/200\n",
      "2705/2705 [==============================] - 127s 47ms/step - loss: 0.0621\n",
      "Epoch 79/200\n",
      "2705/2705 [==============================] - 127s 47ms/step - loss: 0.0633\n",
      "Epoch 80/200\n",
      "2705/2705 [==============================] - 128s 47ms/step - loss: 0.0624\n",
      "Epoch 81/200\n",
      "2705/2705 [==============================] - 128s 47ms/step - loss: 0.0624\n",
      "Epoch 82/200\n",
      "2705/2705 [==============================] - 128s 47ms/step - loss: 0.0621\n",
      "Epoch 83/200\n",
      "2705/2705 [==============================] - 128s 47ms/step - loss: 0.0628\n",
      "Epoch 84/200\n",
      "2705/2705 [==============================] - 127s 47ms/step - loss: 0.0631\n",
      "Epoch 85/200\n",
      "2705/2705 [==============================] - 128s 47ms/step - loss: 0.0627\n",
      "Epoch 86/200\n",
      "2705/2705 [==============================] - 127s 47ms/step - loss: 0.0617\n",
      "Epoch 87/200\n",
      "2705/2705 [==============================] - 128s 47ms/step - loss: 0.0622\n",
      "Epoch 88/200\n",
      "2705/2705 [==============================] - 127s 47ms/step - loss: 0.0616\n",
      "Epoch 89/200\n",
      "2705/2705 [==============================] - 128s 47ms/step - loss: 0.0613\n",
      "Epoch 90/200\n",
      "2705/2705 [==============================] - 128s 47ms/step - loss: 0.0623\n",
      "Epoch 91/200\n",
      "2705/2705 [==============================] - 127s 47ms/step - loss: 0.0617\n",
      "Epoch 92/200\n",
      "2705/2705 [==============================] - 129s 48ms/step - loss: 0.0606\n",
      "Epoch 93/200\n",
      "2705/2705 [==============================] - 127s 47ms/step - loss: 0.0612\n",
      "Epoch 94/200\n",
      "2705/2705 [==============================] - 128s 47ms/step - loss: 0.0614\n",
      "Epoch 95/200\n",
      "2705/2705 [==============================] - 127s 47ms/step - loss: 0.0607\n",
      "Epoch 96/200\n",
      "2705/2705 [==============================] - 126s 47ms/step - loss: 0.0610\n",
      "Epoch 97/200\n",
      "2705/2705 [==============================] - 128s 47ms/step - loss: 0.0605\n",
      "Epoch 98/200\n",
      "2705/2705 [==============================] - 128s 47ms/step - loss: 0.0614\n",
      "Epoch 99/200\n",
      "2705/2705 [==============================] - 128s 47ms/step - loss: 0.0607\n",
      "Epoch 100/200\n",
      "2705/2705 [==============================] - 127s 47ms/step - loss: 0.0607\n",
      "Epoch 101/200\n",
      "2705/2705 [==============================] - 128s 47ms/step - loss: 0.0602\n",
      "Epoch 102/200\n"
     ]
    },
    {
     "name": "stdout",
     "output_type": "stream",
     "text": [
      "2705/2705 [==============================] - 127s 47ms/step - loss: 0.0597\n",
      "Epoch 103/200\n",
      "2705/2705 [==============================] - 128s 47ms/step - loss: 0.0611\n",
      "Epoch 104/200\n",
      "2705/2705 [==============================] - 127s 47ms/step - loss: 0.0597\n",
      "Epoch 105/200\n",
      "2705/2705 [==============================] - 127s 47ms/step - loss: 0.0602\n",
      "Epoch 106/200\n",
      "2705/2705 [==============================] - 128s 47ms/step - loss: 0.0605\n",
      "Epoch 107/200\n",
      "2705/2705 [==============================] - 128s 47ms/step - loss: 0.0600\n",
      "Epoch 108/200\n",
      "2705/2705 [==============================] - 129s 48ms/step - loss: 0.0603\n",
      "Epoch 109/200\n",
      "2705/2705 [==============================] - 127s 47ms/step - loss: 0.0602\n",
      "Epoch 110/200\n",
      "2705/2705 [==============================] - 127s 47ms/step - loss: 0.0602\n",
      "Epoch 111/200\n",
      "2705/2705 [==============================] - 128s 47ms/step - loss: 0.0604\n",
      "Epoch 112/200\n",
      "2705/2705 [==============================] - 128s 47ms/step - loss: 0.0602\n",
      "Epoch 113/200\n",
      "2705/2705 [==============================] - 129s 48ms/step - loss: 0.0601\n",
      "Epoch 114/200\n",
      "2705/2705 [==============================] - 127s 47ms/step - loss: 0.0614\n"
     ]
    },
    {
     "ename": "RuntimeError",
     "evalue": "Can't decrement id ref count (file write failed: time = Sat Nov  9 20:19:20 2019\n, filename = 'relmodel_201920.h5', file descriptor = 43, errno = 28, error message = 'No space left on device', buf = 0x560913833b00, total write size = 12544, bytes this sub-write = 12544, bytes actually written = 18446744073709551615, offset = 19160)",
     "output_type": "error",
     "traceback": [
      "\u001b[0;31m---------------------------------------------------------------------------\u001b[0m",
      "\u001b[0;31mRuntimeError\u001b[0m                              Traceback (most recent call last)",
      "\u001b[0;32mh5py/_objects.pyx\u001b[0m in \u001b[0;36mh5py._objects.ObjectID.__dealloc__\u001b[0;34m()\u001b[0m\n",
      "\u001b[0;31mRuntimeError\u001b[0m: Can't decrement id ref count (file write failed: time = Sat Nov  9 20:19:20 2019\n, filename = 'relmodel_201920.h5', file descriptor = 43, errno = 28, error message = 'No space left on device', buf = 0x560913833b00, total write size = 12544, bytes this sub-write = 12544, bytes actually written = 18446744073709551615, offset = 19160)"
     ]
    },
    {
     "name": "stderr",
     "output_type": "stream",
     "text": [
      "Exception ignored in: 'h5py._objects.ObjectID.__dealloc__'\n",
      "Traceback (most recent call last):\n",
      "  File \"h5py/_objects.pyx\", line 193, in h5py._objects.ObjectID.__dealloc__\n",
      "RuntimeError: Can't decrement id ref count (file write failed: time = Sat Nov  9 20:19:20 2019\n",
      ", filename = 'relmodel_201920.h5', file descriptor = 43, errno = 28, error message = 'No space left on device', buf = 0x560913833b00, total write size = 12544, bytes this sub-write = 12544, bytes actually written = 18446744073709551615, offset = 19160)\n"
     ]
    },
    {
     "ename": "RuntimeError",
     "evalue": "Can't decrement id ref count (file write failed: time = Sat Nov  9 20:19:21 2019\n, filename = 'relmodel_201920.h5', file descriptor = 43, errno = 28, error message = 'No space left on device', buf = 0x560901a8f410, total write size = 256, bytes this sub-write = 256, bytes actually written = 18446744073709551615, offset = 31704)",
     "output_type": "error",
     "traceback": [
      "\u001b[0;31m---------------------------------------------------------------------------\u001b[0m",
      "\u001b[0;31mRuntimeError\u001b[0m                              Traceback (most recent call last)",
      "\u001b[0;32mh5py/_objects.pyx\u001b[0m in \u001b[0;36mh5py._objects.ObjectID.__dealloc__\u001b[0;34m()\u001b[0m\n",
      "\u001b[0;31mRuntimeError\u001b[0m: Can't decrement id ref count (file write failed: time = Sat Nov  9 20:19:21 2019\n, filename = 'relmodel_201920.h5', file descriptor = 43, errno = 28, error message = 'No space left on device', buf = 0x560901a8f410, total write size = 256, bytes this sub-write = 256, bytes actually written = 18446744073709551615, offset = 31704)"
     ]
    },
    {
     "name": "stderr",
     "output_type": "stream",
     "text": [
      "Exception ignored in: 'h5py._objects.ObjectID.__dealloc__'\n",
      "Traceback (most recent call last):\n",
      "  File \"h5py/_objects.pyx\", line 193, in h5py._objects.ObjectID.__dealloc__\n",
      "RuntimeError: Can't decrement id ref count (file write failed: time = Sat Nov  9 20:19:21 2019\n",
      ", filename = 'relmodel_201920.h5', file descriptor = 43, errno = 28, error message = 'No space left on device', buf = 0x560901a8f410, total write size = 256, bytes this sub-write = 256, bytes actually written = 18446744073709551615, offset = 31704)\n"
     ]
    },
    {
     "ename": "RuntimeError",
     "evalue": "Unable to flush file's cached information (file write failed: time = Sat Nov  9 20:19:21 2019\n, filename = 'relmodel_201920.h5', file descriptor = 43, errno = 28, error message = 'No space left on device', buf = 0x560912a93570, total write size = 6872, bytes this sub-write = 6872, bytes actually written = 18446744073709551615, offset = 4096)",
     "output_type": "error",
     "traceback": [
      "\u001b[0;31m---------------------------------------------------------------------------\u001b[0m",
      "\u001b[0;31mOSError\u001b[0m                                   Traceback (most recent call last)",
      "\u001b[0;32m~/anaconda3/envs/tensorflow_p36/lib/python3.6/site-packages/keras/engine/saving.py\u001b[0m in \u001b[0;36msave_model\u001b[0;34m(model, filepath, overwrite, include_optimizer)\u001b[0m\n\u001b[1;32m    381\u001b[0m     \u001b[0;32mtry\u001b[0m\u001b[0;34m:\u001b[0m\u001b[0;34m\u001b[0m\u001b[0m\n\u001b[0;32m--> 382\u001b[0;31m         \u001b[0m_serialize_model\u001b[0m\u001b[0;34m(\u001b[0m\u001b[0mmodel\u001b[0m\u001b[0;34m,\u001b[0m \u001b[0mf\u001b[0m\u001b[0;34m,\u001b[0m \u001b[0minclude_optimizer\u001b[0m\u001b[0;34m)\u001b[0m\u001b[0;34m\u001b[0m\u001b[0m\n\u001b[0m\u001b[1;32m    383\u001b[0m     \u001b[0;32mfinally\u001b[0m\u001b[0;34m:\u001b[0m\u001b[0;34m\u001b[0m\u001b[0m\n",
      "\u001b[0;32m~/anaconda3/envs/tensorflow_p36/lib/python3.6/site-packages/keras/engine/saving.py\u001b[0m in \u001b[0;36m_serialize_model\u001b[0;34m(model, f, include_optimizer)\u001b[0m\n\u001b[1;32m    113\u001b[0m         \u001b[0;32mfor\u001b[0m \u001b[0mname\u001b[0m\u001b[0;34m,\u001b[0m \u001b[0mval\u001b[0m \u001b[0;32min\u001b[0m \u001b[0mzip\u001b[0m\u001b[0;34m(\u001b[0m\u001b[0mweight_names\u001b[0m\u001b[0;34m,\u001b[0m \u001b[0mweight_values\u001b[0m\u001b[0;34m)\u001b[0m\u001b[0;34m:\u001b[0m\u001b[0;34m\u001b[0m\u001b[0m\n\u001b[0;32m--> 114\u001b[0;31m             \u001b[0mlayer_group\u001b[0m\u001b[0;34m[\u001b[0m\u001b[0mname\u001b[0m\u001b[0;34m]\u001b[0m \u001b[0;34m=\u001b[0m \u001b[0mval\u001b[0m\u001b[0;34m\u001b[0m\u001b[0m\n\u001b[0m\u001b[1;32m    115\u001b[0m     \u001b[0;32mif\u001b[0m \u001b[0minclude_optimizer\u001b[0m \u001b[0;32mand\u001b[0m \u001b[0mmodel\u001b[0m\u001b[0;34m.\u001b[0m\u001b[0moptimizer\u001b[0m\u001b[0;34m:\u001b[0m\u001b[0;34m\u001b[0m\u001b[0m\n",
      "\u001b[0;32m~/anaconda3/envs/tensorflow_p36/lib/python3.6/site-packages/keras/utils/io_utils.py\u001b[0m in \u001b[0;36m__setitem__\u001b[0;34m(self, attr, val)\u001b[0m\n\u001b[1;32m    222\u001b[0m             \u001b[0;32melse\u001b[0m\u001b[0;34m:\u001b[0m\u001b[0;34m\u001b[0m\u001b[0m\n\u001b[0;32m--> 223\u001b[0;31m                 \u001b[0mdataset\u001b[0m\u001b[0;34m[\u001b[0m\u001b[0;34m:\u001b[0m\u001b[0;34m]\u001b[0m \u001b[0;34m=\u001b[0m \u001b[0mval\u001b[0m\u001b[0;34m\u001b[0m\u001b[0m\n\u001b[0m\u001b[1;32m    224\u001b[0m         \u001b[0;32melif\u001b[0m \u001b[0misinstance\u001b[0m\u001b[0;34m(\u001b[0m\u001b[0mval\u001b[0m\u001b[0;34m,\u001b[0m \u001b[0mlist\u001b[0m\u001b[0;34m)\u001b[0m\u001b[0;34m:\u001b[0m\u001b[0;34m\u001b[0m\u001b[0m\n",
      "\u001b[0;32mh5py/_objects.pyx\u001b[0m in \u001b[0;36mh5py._objects.with_phil.wrapper\u001b[0;34m()\u001b[0m\n",
      "\u001b[0;32mh5py/_objects.pyx\u001b[0m in \u001b[0;36mh5py._objects.with_phil.wrapper\u001b[0;34m()\u001b[0m\n",
      "\u001b[0;32m~/anaconda3/envs/tensorflow_p36/lib/python3.6/site-packages/h5py/_hl/dataset.py\u001b[0m in \u001b[0;36m__setitem__\u001b[0;34m(self, args, val)\u001b[0m\n\u001b[1;32m    631\u001b[0m         \u001b[0;32mfor\u001b[0m \u001b[0mfspace\u001b[0m \u001b[0;32min\u001b[0m \u001b[0mselection\u001b[0m\u001b[0;34m.\u001b[0m\u001b[0mbroadcast\u001b[0m\u001b[0;34m(\u001b[0m\u001b[0mmshape\u001b[0m\u001b[0;34m)\u001b[0m\u001b[0;34m:\u001b[0m\u001b[0;34m\u001b[0m\u001b[0m\n\u001b[0;32m--> 632\u001b[0;31m             \u001b[0mself\u001b[0m\u001b[0;34m.\u001b[0m\u001b[0mid\u001b[0m\u001b[0;34m.\u001b[0m\u001b[0mwrite\u001b[0m\u001b[0;34m(\u001b[0m\u001b[0mmspace\u001b[0m\u001b[0;34m,\u001b[0m \u001b[0mfspace\u001b[0m\u001b[0;34m,\u001b[0m \u001b[0mval\u001b[0m\u001b[0;34m,\u001b[0m \u001b[0mmtype\u001b[0m\u001b[0;34m,\u001b[0m \u001b[0mdxpl\u001b[0m\u001b[0;34m=\u001b[0m\u001b[0mself\u001b[0m\u001b[0;34m.\u001b[0m\u001b[0m_dxpl\u001b[0m\u001b[0;34m)\u001b[0m\u001b[0;34m\u001b[0m\u001b[0m\n\u001b[0m\u001b[1;32m    633\u001b[0m \u001b[0;34m\u001b[0m\u001b[0m\n",
      "\u001b[0;32mh5py/_objects.pyx\u001b[0m in \u001b[0;36mh5py._objects.with_phil.wrapper\u001b[0;34m()\u001b[0m\n",
      "\u001b[0;32mh5py/_objects.pyx\u001b[0m in \u001b[0;36mh5py._objects.with_phil.wrapper\u001b[0;34m()\u001b[0m\n",
      "\u001b[0;32mh5py/h5d.pyx\u001b[0m in \u001b[0;36mh5py.h5d.DatasetID.write\u001b[0;34m()\u001b[0m\n",
      "\u001b[0;32mh5py/_proxy.pyx\u001b[0m in \u001b[0;36mh5py._proxy.dset_rw\u001b[0;34m()\u001b[0m\n",
      "\u001b[0;32mh5py/_proxy.pyx\u001b[0m in \u001b[0;36mh5py._proxy.H5PY_H5Dwrite\u001b[0;34m()\u001b[0m\n",
      "\u001b[0;31mOSError\u001b[0m: Can't prepare for writing data (file write failed: time = Sat Nov  9 20:19:21 2019\n, filename = 'relmodel_201920.h5', file descriptor = 43, errno = 28, error message = 'No space left on device', buf = 0x56090723f940, total write size = 819200, bytes this sub-write = 819200, bytes actually written = 18446744073709551615, offset = 35888)",
      "\nDuring handling of the above exception, another exception occurred:\n",
      "\u001b[0;31mRuntimeError\u001b[0m                              Traceback (most recent call last)",
      "\u001b[0;32m<ipython-input-8-0aaaa5a7ca24>\u001b[0m in \u001b[0;36m<module>\u001b[0;34m()\u001b[0m\n\u001b[1;32m     14\u001b[0m     \u001b[0mreltargets\u001b[0m\u001b[0;34m=\u001b[0m\u001b[0mnp\u001b[0m\u001b[0;34m.\u001b[0m\u001b[0marray\u001b[0m\u001b[0;34m(\u001b[0m\u001b[0mmake_relative\u001b[0m\u001b[0;34m(\u001b[0m\u001b[0mtargets\u001b[0m\u001b[0;34m)\u001b[0m\u001b[0;34m)\u001b[0m\u001b[0;34m\u001b[0m\u001b[0m\n\u001b[1;32m     15\u001b[0m     \u001b[0mm1\u001b[0m\u001b[0;34m.\u001b[0m\u001b[0mfit\u001b[0m\u001b[0;34m(\u001b[0m\u001b[0mimages\u001b[0m\u001b[0;34m,\u001b[0m \u001b[0mreltargets\u001b[0m\u001b[0;34m,\u001b[0m\u001b[0mepochs\u001b[0m\u001b[0;34m=\u001b[0m\u001b[0;36m200\u001b[0m\u001b[0;34m,\u001b[0m\u001b[0mbatch_size\u001b[0m\u001b[0;34m=\u001b[0m\u001b[0;36m71\u001b[0m\u001b[0;34m,\u001b[0m\u001b[0mcallbacks\u001b[0m\u001b[0;34m=\u001b[0m\u001b[0;34m[\u001b[0m\u001b[0mes\u001b[0m\u001b[0;34m]\u001b[0m\u001b[0;34m)\u001b[0m\u001b[0;34m\u001b[0m\u001b[0m\n\u001b[0;32m---> 16\u001b[0;31m     \u001b[0mm1\u001b[0m\u001b[0;34m.\u001b[0m\u001b[0msave\u001b[0m\u001b[0;34m(\u001b[0m\u001b[0;34mf'relmodel_{time.strftime(\"%H%M%S\")}.h5'\u001b[0m\u001b[0;34m)\u001b[0m\u001b[0;34m\u001b[0m\u001b[0m\n\u001b[0m\u001b[1;32m     17\u001b[0m     \u001b[0mpreds1\u001b[0m\u001b[0;34m=\u001b[0m\u001b[0mm1\u001b[0m\u001b[0;34m.\u001b[0m\u001b[0mpredict\u001b[0m\u001b[0;34m(\u001b[0m\u001b[0mimages\u001b[0m\u001b[0;34m)\u001b[0m\u001b[0;34m\u001b[0m\u001b[0m\n\u001b[1;32m     18\u001b[0m     \u001b[0mrelpreds\u001b[0m\u001b[0;34m=\u001b[0m\u001b[0mreverse_transform_relative\u001b[0m\u001b[0;34m(\u001b[0m\u001b[0mpreds1\u001b[0m\u001b[0;34m,\u001b[0m\u001b[0mtargets\u001b[0m\u001b[0;34m)\u001b[0m\u001b[0;34m\u001b[0m\u001b[0m\n",
      "\u001b[0;32m~/anaconda3/envs/tensorflow_p36/lib/python3.6/site-packages/keras/engine/network.py\u001b[0m in \u001b[0;36msave\u001b[0;34m(self, filepath, overwrite, include_optimizer)\u001b[0m\n\u001b[1;32m   1088\u001b[0m             \u001b[0;32mraise\u001b[0m \u001b[0mNotImplementedError\u001b[0m\u001b[0;34m\u001b[0m\u001b[0m\n\u001b[1;32m   1089\u001b[0m         \u001b[0;32mfrom\u001b[0m \u001b[0;34m.\u001b[0m\u001b[0;34m.\u001b[0m\u001b[0mmodels\u001b[0m \u001b[0;32mimport\u001b[0m \u001b[0msave_model\u001b[0m\u001b[0;34m\u001b[0m\u001b[0m\n\u001b[0;32m-> 1090\u001b[0;31m         \u001b[0msave_model\u001b[0m\u001b[0;34m(\u001b[0m\u001b[0mself\u001b[0m\u001b[0;34m,\u001b[0m \u001b[0mfilepath\u001b[0m\u001b[0;34m,\u001b[0m \u001b[0moverwrite\u001b[0m\u001b[0;34m,\u001b[0m \u001b[0minclude_optimizer\u001b[0m\u001b[0;34m)\u001b[0m\u001b[0;34m\u001b[0m\u001b[0m\n\u001b[0m\u001b[1;32m   1091\u001b[0m \u001b[0;34m\u001b[0m\u001b[0m\n\u001b[1;32m   1092\u001b[0m     \u001b[0;32mdef\u001b[0m \u001b[0msave_weights\u001b[0m\u001b[0;34m(\u001b[0m\u001b[0mself\u001b[0m\u001b[0;34m,\u001b[0m \u001b[0mfilepath\u001b[0m\u001b[0;34m,\u001b[0m \u001b[0moverwrite\u001b[0m\u001b[0;34m=\u001b[0m\u001b[0;32mTrue\u001b[0m\u001b[0;34m)\u001b[0m\u001b[0;34m:\u001b[0m\u001b[0;34m\u001b[0m\u001b[0m\n",
      "\u001b[0;32m~/anaconda3/envs/tensorflow_p36/lib/python3.6/site-packages/keras/engine/saving.py\u001b[0m in \u001b[0;36msave_model\u001b[0;34m(model, filepath, overwrite, include_optimizer)\u001b[0m\n\u001b[1;32m    383\u001b[0m     \u001b[0;32mfinally\u001b[0m\u001b[0;34m:\u001b[0m\u001b[0;34m\u001b[0m\u001b[0m\n\u001b[1;32m    384\u001b[0m         \u001b[0;32mif\u001b[0m \u001b[0mopened_new_file\u001b[0m\u001b[0;34m:\u001b[0m\u001b[0;34m\u001b[0m\u001b[0m\n\u001b[0;32m--> 385\u001b[0;31m             \u001b[0mf\u001b[0m\u001b[0;34m.\u001b[0m\u001b[0mclose\u001b[0m\u001b[0;34m(\u001b[0m\u001b[0;34m)\u001b[0m\u001b[0;34m\u001b[0m\u001b[0m\n\u001b[0m\u001b[1;32m    386\u001b[0m \u001b[0;34m\u001b[0m\u001b[0m\n\u001b[1;32m    387\u001b[0m \u001b[0;34m\u001b[0m\u001b[0m\n",
      "\u001b[0;32m~/anaconda3/envs/tensorflow_p36/lib/python3.6/site-packages/keras/utils/io_utils.py\u001b[0m in \u001b[0;36mclose\u001b[0;34m(self)\u001b[0m\n\u001b[1;32m    328\u001b[0m     \u001b[0;32mdef\u001b[0m \u001b[0mclose\u001b[0m\u001b[0;34m(\u001b[0m\u001b[0mself\u001b[0m\u001b[0;34m)\u001b[0m\u001b[0;34m:\u001b[0m\u001b[0;34m\u001b[0m\u001b[0m\n\u001b[1;32m    329\u001b[0m         \u001b[0;32mif\u001b[0m \u001b[0misinstance\u001b[0m\u001b[0;34m(\u001b[0m\u001b[0mself\u001b[0m\u001b[0;34m.\u001b[0m\u001b[0mdata\u001b[0m\u001b[0;34m,\u001b[0m \u001b[0mh5py\u001b[0m\u001b[0;34m.\u001b[0m\u001b[0mGroup\u001b[0m\u001b[0;34m)\u001b[0m\u001b[0;34m:\u001b[0m\u001b[0;34m\u001b[0m\u001b[0m\n\u001b[0;32m--> 330\u001b[0;31m             \u001b[0mself\u001b[0m\u001b[0;34m.\u001b[0m\u001b[0mdata\u001b[0m\u001b[0;34m.\u001b[0m\u001b[0mfile\u001b[0m\u001b[0;34m.\u001b[0m\u001b[0mflush\u001b[0m\u001b[0;34m(\u001b[0m\u001b[0;34m)\u001b[0m\u001b[0;34m\u001b[0m\u001b[0m\n\u001b[0m\u001b[1;32m    331\u001b[0m             \u001b[0;32mif\u001b[0m \u001b[0mself\u001b[0m\u001b[0;34m.\u001b[0m\u001b[0m_is_file\u001b[0m\u001b[0;34m:\u001b[0m\u001b[0;34m\u001b[0m\u001b[0m\n\u001b[1;32m    332\u001b[0m                 \u001b[0mself\u001b[0m\u001b[0;34m.\u001b[0m\u001b[0mdata\u001b[0m\u001b[0;34m.\u001b[0m\u001b[0mclose\u001b[0m\u001b[0;34m(\u001b[0m\u001b[0;34m)\u001b[0m\u001b[0;34m\u001b[0m\u001b[0m\n",
      "\u001b[0;32m~/anaconda3/envs/tensorflow_p36/lib/python3.6/site-packages/h5py/_hl/files.py\u001b[0m in \u001b[0;36mflush\u001b[0;34m(self)\u001b[0m\n\u001b[1;32m    349\u001b[0m         \"\"\"\n\u001b[1;32m    350\u001b[0m         \u001b[0;32mwith\u001b[0m \u001b[0mphil\u001b[0m\u001b[0;34m:\u001b[0m\u001b[0;34m\u001b[0m\u001b[0m\n\u001b[0;32m--> 351\u001b[0;31m             \u001b[0mh5f\u001b[0m\u001b[0;34m.\u001b[0m\u001b[0mflush\u001b[0m\u001b[0;34m(\u001b[0m\u001b[0mself\u001b[0m\u001b[0;34m.\u001b[0m\u001b[0mfid\u001b[0m\u001b[0;34m)\u001b[0m\u001b[0;34m\u001b[0m\u001b[0m\n\u001b[0m\u001b[1;32m    352\u001b[0m \u001b[0;34m\u001b[0m\u001b[0m\n\u001b[1;32m    353\u001b[0m     \u001b[0;34m@\u001b[0m\u001b[0mwith_phil\u001b[0m\u001b[0;34m\u001b[0m\u001b[0m\n",
      "\u001b[0;32mh5py/_objects.pyx\u001b[0m in \u001b[0;36mh5py._objects.with_phil.wrapper\u001b[0;34m()\u001b[0m\n",
      "\u001b[0;32mh5py/_objects.pyx\u001b[0m in \u001b[0;36mh5py._objects.with_phil.wrapper\u001b[0;34m()\u001b[0m\n",
      "\u001b[0;32mh5py/h5f.pyx\u001b[0m in \u001b[0;36mh5py.h5f.flush\u001b[0;34m()\u001b[0m\n",
      "\u001b[0;31mRuntimeError\u001b[0m: Unable to flush file's cached information (file write failed: time = Sat Nov  9 20:19:21 2019\n, filename = 'relmodel_201920.h5', file descriptor = 43, errno = 28, error message = 'No space left on device', buf = 0x560912a93570, total write size = 6872, bytes this sub-write = 6872, bytes actually written = 18446744073709551615, offset = 4096)"
     ]
    }
   ],
   "source": [
    "for x in [6,7,9]:\n",
    "    df=pd.read_csv(f'indoor/drone_{x}/groundtruth.txt', sep=' ', float_precision='high')\n",
    "    df.drop(labels=['qw','#'],axis=1,inplace=True)\n",
    "    ground=df.rename(columns={'qz':'qw','qy':'qz','qx':'qy','tz':'qx','ty':'tz','tx':'ty','timestamp':'tx','id':'timestamp'})\n",
    "    df=pd.read_csv(f'indoor/drone_{x}/images.txt', sep=' ',float_precision='high')\n",
    "    cols=df.columns\n",
    "    df.rename(columns={k:v for k,v in zip(df.columns[1:3],df.columns[2:])},inplace=True)\n",
    "    imdf=df.iloc[:,1:3]\n",
    "    targets=filter_by_timestamp_closest(imdf,ground)\n",
    "    images=np.array([[img_to_array(load_img(f'indoor/drone_{x}/'+targets.image_name.iloc[thing],color_mode='grayscale')),\n",
    "            img_to_array(load_img(f'indoor/drone_{x}/'+targets.image_name.iloc[thing+1],color_mode='grayscale'))] for thing in range(len(targets)-1)])\n",
    "    images=np.array(images)\n",
    "    targets=targets.iloc[1:,2:-1]\n",
    "    reltargets=np.array(make_relative(targets))\n",
    "    m1.fit(images, reltargets,epochs=200,batch_size=71,callbacks=[es])\n",
    "    m1.save(f'relmodel_{time.strftime(\"%H%M%S\")}.h5')\n",
    "    preds1=m1.predict(images)\n",
    "    relpreds=reverse_transform_relative(preds1,targets)"
   ]
  },
  {
   "cell_type": "code",
   "execution_count": 41,
   "metadata": {},
   "outputs": [
    {
     "data": {
      "image/png": "[encoded data removed]",
      "text/plain": [
       "<Figure size 432x288 with 1 Axes>"
      ]
     },
     "metadata": {
      "needs_background": "light"
     },
     "output_type": "display_data"
    }
   ],
   "source": [
    "fig = plt.figure()\n",
    "ax = fig.add_subplot(111)\n",
    "ax.plot(targets.iloc[:,0],targets.iloc[:,1])\n",
    "plt.show()"
   ]
  },
  {
   "cell_type": "code",
   "execution_count": 44,
   "metadata": {
    "scrolled": true
   },
   "outputs": [
    {
     "data": {
      "text/plain": [
       "[<matplotlib.lines.Line2D at 0x7f14320e7588>]"
      ]
     },
     "execution_count": 44,
     "metadata": {},
     "output_type": "execute_result"
    },
    {
     "data": {
      "image/png": "[encoded data removed]",
      "text/plain": [
       "<Figure size 432x288 with 1 Axes>"
      ]
     },
     "metadata": {
      "needs_background": "light"
     },
     "output_type": "display_data"
    }
   ],
   "source": [
    "fig = plt.figure()\n",
    "ax=fig.add_subplot(111)\n",
    "ax.plot(checkpreds[:,0],checkpreds[:,1])"
   ]
  },
  {
   "cell_type": "code",
   "execution_count": 1,
   "metadata": {},
   "outputs": [
    {
     "data": {
      "text/plain": [
       "1"
      ]
     },
     "execution_count": 1,
     "metadata": {},
     "output_type": "execute_result"
    }
   ],
   "source": [
    "1"
   ]
  },
  {
   "cell_type": "code",
   "execution_count": 7,
   "metadata": {},
   "outputs": [],
   "source": [
    "trainimgs=np.array([d[x][0]for x in dronenumbers])\n",
    "trainlabels=np.array([d[x][1]for x in dronenumbers])\n",
    "trainimgs=np.vstack(trainimgs)\n",
    "oldtrainlabels=np.vstack(trainlabels)\n",
    "testimgs=images\n",
    "oldtestlabels=reltargets\n",
    "tt=oldtestlabels[:,3:]\n",
    "testrots=[R.from_quat(bb).as_euler('zyx') for bb in tt]\n",
    "tt=oldtrainlabels[:,3:]\n",
    "trainrots=[R.from_quat(bb).as_euler('zyx') for bb in tt]\n",
    "trainlabels=np.concatenate((oldtrainlabels[:,:3],trainrots), axis=1)\n",
    "testlabels=np.concatenate((oldtestlabels[:,:3],testrots), axis=1)"
   ]
  },
  {
   "cell_type": "code",
   "execution_count": 9,
   "metadata": {},
   "outputs": [],
   "source": [
    "tt=oldtestlabels[:,3:]\n",
    "testrots=[R.from_quat(bb).as_euler('zyx') for bb in tt]\n",
    "tt=oldtrainlabels[:,3:]\n",
    "trainrots=[R.from_quat(bb).as_euler('zyx') for bb in tt]"
   ]
  },
  {
   "cell_type": "code",
   "execution_count": 10,
   "metadata": {},
   "outputs": [],
   "source": [
    "trainlabels=np.concatenate((oldtrainlabels[:,:3],trainrots), axis=1)\n",
    "testlabels=np.concatenate((oldtestlabels[:,:3],testrots), axis=1)"
   ]
  },
  {
   "cell_type": "code",
   "execution_count": 11,
   "metadata": {
    "scrolled": true
   },
   "outputs": [
    {
     "data": {
      "text/plain": [
       "(7988, 2, 260, 346, 1)"
      ]
     },
     "execution_count": 11,
     "metadata": {},
     "output_type": "execute_result"
    }
   ],
   "source": [
    "trainimgs.shape"
   ]
  },
  {
   "cell_type": "code",
   "execution_count": 12,
   "metadata": {},
   "outputs": [
    {
     "data": {
      "text/plain": [
       "(7988, 6)"
      ]
     },
     "execution_count": 12,
     "metadata": {},
     "output_type": "execute_result"
    }
   ],
   "source": [
    "trainlabels.shape"
   ]
  },
  {
   "cell_type": "code",
   "execution_count": 13,
   "metadata": {},
   "outputs": [],
   "source": [
    "inputshape=trainimgs[0].shape\n",
    "m1=Sequential()\n",
    "m1.add(TimeDistributed(Conv2D(filters=64, kernel_size=(7,7), strides=(2,2),\n",
    "        padding='SAME', activation='relu',input_shape=inputshape))) #1\n",
    "m1.add(TimeDistributed(Conv2D(128, (5,5),strides=(2,2),padding='SAME', activation='relu'))) #2\n",
    "m1.add(Dropout(0.1))\n",
    "m1.add(TimeDistributed(Conv2D(256, (5,5),strides=(2,2),padding='SAME', activation='relu'))) #3\n",
    "m1.add(Dropout(0.1))\n",
    "m1.add(TimeDistributed(Conv2D(256, (3,3),strides=(1,1),padding='SAME', activation='relu'))) #4\n",
    "m1.add(Dropout(0.1))\n",
    "m1.add(TimeDistributed(Conv2D(512, (3,3),strides=(2,2),padding='SAME', activation='relu'))) #5\n",
    "m1.add(Dropout(0.1))\n",
    "m1.add(TimeDistributed(Conv2D(512, (3,3),strides=(1,1),padding='SAME', activation='relu'))) #6\n",
    "m1.add(Dropout(0.1))\n",
    "m1.add(TimeDistributed(Conv2D(512, (3,3),strides=(2,2),padding='SAME', activation='relu'))) #7\n",
    "m1.add(Dropout(0.1))\n",
    "m1.add(TimeDistributed(Conv2D(512, (3,3),strides=(2,2),padding='SAME', activation='relu'))) #8\n",
    "m1.add(Dropout(0.1))\n",
    "m1.add(TimeDistributed(Conv2D(1024, (3,3),strides=(2,2),padding='SAME'))) #9\n",
    "m1.add(Dropout(0.15))\n",
    "m1.add(TimeDistributed(Flatten()))\n",
    "m1.add(LSTM(1000, activation='sigmoid',recurrent_activation='tanh',return_sequences=True))\n",
    "m1.add(LSTM(1000, activation='sigmoid',recurrent_activation='tanh'))\n",
    "m1.add(Dense(6,activation='linear'))\n",
    "m1.compile(optimizer='Adagrad',lr=.0001,loss=['mse'])\n"
   ]
  },
  {
   "cell_type": "code",
   "execution_count": 14,
   "metadata": {},
   "outputs": [],
   "source": [
    "es=EarlyStopping(monitor='val_loss',restore_best_weights=True, patience=3)"
   ]
  },
  {
   "cell_type": "code",
   "execution_count": null,
   "metadata": {},
   "outputs": [
    {
     "name": "stdout",
     "output_type": "stream",
     "text": [
      "Train on 7988 samples, validate on 1245 samples\n",
      "Epoch 1/200\n"
     ]
    }
   ],
   "source": [
    "m1.fit(trainimgs,trainlabels,epochs=200,batch_size=600,callbacks=[es],validation_data=(testimgs,testlabels))"
   ]
  },
  {
   "cell_type": "code",
   "execution_count": 22,
   "metadata": {},
   "outputs": [],
   "source": [
    "m1.save(f'relmodel_v2_{time.strftime(\"%H%M%S\")}.h5')"
   ]
  },
  {
   "cell_type": "code",
   "execution_count": null,
   "metadata": {},
   "outputs": [],
   "source": [
    "# this shit isn't working and im dying"
   ]
  }
 ],
 "metadata": {
  "kernelspec": {
   "display_name": "Python 3",
   "language": "python",
   "name": "python3"
  },
  "language_info": {
   "codemirror_mode": {
    "name": "ipython",
    "version": 3
   },
   "file_extension": ".py",
   "mimetype": "text/x-python",
   "name": "python",
   "nbconvert_exporter": "python",
   "pygments_lexer": "ipython3",
   "version": "3.7.3"
  }
 },
 "nbformat": 4,
 "nbformat_minor": 2
}
