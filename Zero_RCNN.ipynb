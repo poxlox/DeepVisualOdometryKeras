{
 "cells": [
  {
   "cell_type": "code",
   "execution_count": 1,
   "metadata": {},
   "outputs": [
    {
     "name": "stderr",
     "output_type": "stream",
     "text": [
      "Using TensorFlow backend.\n"
     ]
    }
   ],
   "source": [
    "import numpy as np\n",
    "import pandas as pd\n",
    "import time\n",
    "from keras.models import Sequential, load_model\n",
    "from keras.callbacks import EarlyStopping\n",
    "from keras.layers import Input, Dense, Conv2D, Dropout, LSTM, Flatten, TimeDistributed\n",
    "from keras.preprocessing.image import ImageDataGenerator, array_to_img, img_to_array, load_img\n",
    "import matplotlib.pyplot as plt\n",
    "import mpl_toolkits.mplot3d.axes3d as p3\n",
    "import matplotlib.animation as animation\n",
    "from scipy.spatial.transform import Rotation as R"
   ]
  },
  {
   "cell_type": "code",
   "execution_count": 2,
   "metadata": {},
   "outputs": [],
   "source": [
    "def filter_by_timestamp_closest(imageids, groundtruths):\n",
    "    images=imageids[(imageids.timestamp>groundtruths.timestamp.iloc[0])&\n",
    "                   (imageids.timestamp<groundtruths.timestamp.iloc[-1])]\n",
    "    images['groundid']=[groundtruths.timestamp[groundtruths.timestamp<ts\n",
    "                            ].idxmax() for ts in images.timestamp]\n",
    "    gg=ground.iloc[images['groundid']].reset_index()\n",
    "    nn=images.image_name.reset_index()\n",
    "    gg['image_name']=nn.image_name\n",
    "    return gg"
   ]
  },
  {
   "cell_type": "code",
   "execution_count": 3,
   "metadata": {},
   "outputs": [],
   "source": [
    "def start_at_zeros(tgts):\n",
    "    '''transforms the absolute positions in targets to\n",
    "    have a starting point of zero'''\n",
    "    m=tgts.copy()\n",
    "    for idx in range(3):\n",
    "        m.iloc[:,idx]=tgts.iloc[:,idx]-tgts.iloc[0,idx]\n",
    "    return m"
   ]
  },
  {
   "cell_type": "code",
   "execution_count": 4,
   "metadata": {},
   "outputs": [],
   "source": [
    "def reverse_transform_zero(tgts,orig):\n",
    "    m=tgts.copy()\n",
    "    for idx in range(3):\n",
    "        m[:,idx]=tgts[:,idx]+orig.iloc[0,idx]\n",
    "    return m"
   ]
  },
  {
   "cell_type": "code",
   "execution_count": 5,
   "metadata": {},
   "outputs": [
    {
     "name": "stdout",
     "output_type": "stream",
     "text": [
      "\u001b[0m\u001b[01;34mdrone_10\u001b[0m/  \u001b[01;34mdrone_6\u001b[0m/  \u001b[01;31mdrone_indoor_forward_10.zip\u001b[0m  \u001b[01;31mdrone_indoor_forward_6.zip\u001b[0m\r\n",
      "\u001b[01;34mdrone_3\u001b[0m/   \u001b[01;34mdrone_7\u001b[0m/  \u001b[01;31mdrone_indoor_forward_3.zip\u001b[0m   \u001b[01;31mdrone_indoor_forward_7.zip\u001b[0m\r\n",
      "\u001b[01;34mdrone_5\u001b[0m/   \u001b[01;34mdrone_9\u001b[0m/  \u001b[01;31mdrone_indoor_forward_5.zip\u001b[0m   \u001b[01;31mdrone_indoor_forward_9.zip\u001b[0m\r\n"
     ]
    }
   ],
   "source": [
    "ls indoor"
   ]
  },
  {
   "cell_type": "code",
   "execution_count": null,
   "metadata": {},
   "outputs": [],
   "source": [
    "# imagestargets={}\n",
    "# testset=[]\n",
    "# for x in [3,5,6,7,9]:\n",
    "#     df=pd.read_csv(f'indoor/drone_{x}/groundtruth.txt', sep=' ', float_precision='high')\n",
    "#     df.drop(labels=['qw','#'],axis=1,inplace=True)\n",
    "#     ground=df.rename(columns={'qz':'qw','qy':'qz','qx':'qy','tz':'qx','ty':'tz','tx':'ty','timestamp':'tx','id':'timestamp'})\n",
    "#     df=pd.read_csv(f'indoor/drone_{x}/images.txt', sep=' ',float_precision='high')\n",
    "#     cols=df.columns\n",
    "#     df.rename(columns={k:v for k,v in zip(df.columns[1:3],df.columns[2:])},inplace=True)\n",
    "#     imdf=df.iloc[:,1:3]\n",
    "#     targets=filter_by_timestamp_closest(imdf,ground)\n",
    "#     images=np.array([[img_to_array(load_img(f'indoor/drone_{x}/'+targets.image_name.iloc[thing],color_mode='grayscale')),\n",
    "#                 img_to_array(load_img(f'indoor/drone_{x}/'+targets.image_name.iloc[thing+1],color_mode='grayscale'))] for thing in range(len(targets)-1)])\n",
    "#     images=np.array(images)\n",
    "#     targets=targets.iloc[1:,2:-1]\n",
    "#     zerotargets=np.array(start_at_zeros(targets))"
   ]
  },
  {
   "cell_type": "code",
   "execution_count": 25,
   "metadata": {},
   "outputs": [],
   "source": [
    "def load_drone_data(dronenum):\n",
    "    x=dronenum\n",
    "    df=pd.read_csv(f'indoor/drone_{x}/groundtruth.txt', sep=' ', float_precision='high')\n",
    "    df.drop(labels=['qw','#'],axis=1,inplace=True)\n",
    "    ground=df.rename(columns={'qz':'qw','qy':'qz','qx':'qy','tz':'qx','ty':'tz','tx':'ty','timestamp':'tx','id':'timestamp'})\n",
    "    df=pd.read_csv(f'indoor/drone_{x}/images.txt', sep=' ',float_precision='high')\n",
    "    cols=df.columns\n",
    "    df.rename(columns={k:v for k,v in zip(df.columns[1:3],df.columns[2:])},inplace=True)\n",
    "    imdf=df.iloc[:,1:3]\n",
    "    targets=filter_by_timestamp_closest(imdf,ground)\n",
    "    images=np.array([[img_to_array(load_img(f'indoor/drone_{x}/'+targets.image_name.iloc[thing],color_mode='grayscale')),\n",
    "                img_to_array(load_img(f'indoor/drone_{x}/'+targets.image_name.iloc[thing+1],color_mode='grayscale'))] for thing in range(len(targets)-1)])\n",
    "    images=np.array(images)\n",
    "    targets=targets.iloc[1:,2:-1]\n",
    "    zerotargets=np.array(start_at_zeros(targets))"
   ]
  },
  {
   "cell_type": "code",
   "execution_count": 26,
   "metadata": {},
   "outputs": [
    {
     "name": "stdout",
     "output_type": "stream",
     "text": [
      "3\n"
     ]
    }
   ],
   "source": [
    "load_drone_data()"
   ]
  },
  {
   "cell_type": "code",
   "execution_count": 27,
   "metadata": {},
   "outputs": [
    {
     "name": "stdout",
     "output_type": "stream",
     "text": [
      "drone number: 3\n"
     ]
    }
   ],
   "source": [
    "x=input('drone number: ')"
   ]
  },
  {
   "cell_type": "code",
   "execution_count": 28,
   "metadata": {},
   "outputs": [],
   "source": [
    "df=pd.read_csv(f'indoor/drone_{x}/groundtruth.txt', sep=' ', float_precision='high')\n",
    "df.drop(labels=['qw','#'],axis=1,inplace=True)\n",
    "ground=df.rename(columns={'qz':'qw','qy':'qz','qx':'qy','tz':'qx','ty':'tz','tx':'ty','timestamp':'tx','id':'timestamp'})"
   ]
  },
  {
   "cell_type": "code",
   "execution_count": 29,
   "metadata": {},
   "outputs": [],
   "source": [
    "df=pd.read_csv(f'indoor/drone_{x}/images.txt', sep=' ',float_precision='high')\n",
    "cols=df.columns\n",
    "df.rename(columns={k:v for k,v in zip(df.columns[1:3],df.columns[2:])},inplace=True)\n",
    "imdf=df.iloc[:,1:3]"
   ]
  },
  {
   "cell_type": "code",
   "execution_count": 30,
   "metadata": {},
   "outputs": [
    {
     "name": "stderr",
     "output_type": "stream",
     "text": [
      "/home/poxlox/anaconda3/lib/python3.7/site-packages/ipykernel_launcher.py:5: SettingWithCopyWarning: \n",
      "A value is trying to be set on a copy of a slice from a DataFrame.\n",
      "Try using .loc[row_indexer,col_indexer] = value instead\n",
      "\n",
      "See the caveats in the documentation: http://pandas.pydata.org/pandas-docs/stable/indexing.html#indexing-view-versus-copy\n",
      "  \"\"\"\n"
     ]
    }
   ],
   "source": [
    "targets=filter_by_timestamp_closest(imdf,ground)"
   ]
  },
  {
   "cell_type": "code",
   "execution_count": 31,
   "metadata": {},
   "outputs": [],
   "source": [
    "images=np.array([[img_to_array(load_img(f'indoor/drone_{x}/'+targets.image_name.iloc[thing],color_mode='grayscale')),\n",
    "            img_to_array(load_img(f'indoor/drone_{x}/'+targets.image_name.iloc[thing+1],color_mode='grayscale'))] for thing in range(len(targets)-1)])"
   ]
  },
  {
   "cell_type": "code",
   "execution_count": 32,
   "metadata": {},
   "outputs": [],
   "source": [
    "images=np.array(images)"
   ]
  },
  {
   "cell_type": "code",
   "execution_count": 33,
   "metadata": {},
   "outputs": [],
   "source": [
    "targets=targets.iloc[1:,2:-1]"
   ]
  },
  {
   "cell_type": "code",
   "execution_count": 34,
   "metadata": {},
   "outputs": [],
   "source": [
    "zerotargets=np.array(start_at_zeros(targets))"
   ]
  },
  {
   "cell_type": "code",
   "execution_count": 34,
   "metadata": {},
   "outputs": [],
   "source": [
    "# inputshape=images[0].shape"
   ]
  },
  {
   "cell_type": "code",
   "execution_count": 35,
   "metadata": {},
   "outputs": [],
   "source": [
    "# m0=Sequential()\n",
    "# m0.add(TimeDistributed(Conv2D(filters=64, kernel_size=(7,7), strides=(2,2),\n",
    "#         padding='SAME', activation='relu',input_shape=inputshape))) #1\n",
    "# m0.add(TimeDistributed(Conv2D(128, (5,5),strides=(2,2),padding='SAME', activation='relu'))) #2\n",
    "# m0.add(TimeDistributed(Conv2D(256, (5,5),strides=(2,2),padding='SAME', activation='relu'))) #3\n",
    "# m0.add(TimeDistributed(Conv2D(256, (3,3),strides=(1,1),padding='SAME', activation='relu'))) #4\n",
    "# m0.add(TimeDistributed(Conv2D(512, (3,3),strides=(2,2),padding='SAME', activation='relu'))) #5\n",
    "# m0.add(TimeDistributed(Conv2D(512, (3,3),strides=(1,1),padding='SAME', activation='relu'))) #6\n",
    "# m0.add(TimeDistributed(Conv2D(512, (3,3),strides=(2,2),padding='SAME', activation='relu'))) #7\n",
    "# m0.add(TimeDistributed(Conv2D(512, (3,3),strides=(2,2),padding='SAME', activation='relu'))) #8\n",
    "# m0.add(TimeDistributed(Conv2D(1024, (3,3),strides=(2,2),padding='SAME'))) #9\n",
    "# m0.add(TimeDistributed(Flatten()))\n",
    "# m0.add(LSTM(1000, activation='sigmoid',recurrent_activation='tanh',return_sequences=True))\n",
    "# m0.add(LSTM(1000, activation='sigmoid',recurrent_activation='tanh'))\n",
    "# m0.add(Dense(7,activation='linear'))\n",
    "# m0.compile(optimizer='Adagrad',lr=.0001,loss=['mse'])"
   ]
  },
  {
   "cell_type": "code",
   "execution_count": 41,
   "metadata": {},
   "outputs": [],
   "source": [
    "es=EarlyStopping(monitor='loss',patience=4)"
   ]
  },
  {
   "cell_type": "code",
   "execution_count": 13,
   "metadata": {},
   "outputs": [],
   "source": [
    "m0=load_model('saves/zermodel_020029_v2.h5')"
   ]
  },
  {
   "cell_type": "code",
   "execution_count": 42,
   "metadata": {
    "collapsed": true
   },
   "outputs": [
    {
     "name": "stdout",
     "output_type": "stream",
     "text": [
      "Epoch 1/200\n",
      "1245/1245 [==============================] - 57s 46ms/step - loss: 6.0102\n",
      "Epoch 2/200\n",
      "1245/1245 [==============================] - 58s 46ms/step - loss: 3.3917\n",
      "Epoch 3/200\n",
      "1245/1245 [==============================] - 57s 45ms/step - loss: 2.9460\n",
      "Epoch 4/200\n",
      "1245/1245 [==============================] - 58s 46ms/step - loss: 2.5392\n",
      "Epoch 5/200\n",
      "1245/1245 [==============================] - 58s 46ms/step - loss: 2.3894\n",
      "Epoch 6/200\n",
      "1245/1245 [==============================] - 58s 47ms/step - loss: 2.2555\n",
      "Epoch 7/200\n",
      "1245/1245 [==============================] - 57s 46ms/step - loss: 2.0486\n",
      "Epoch 8/200\n",
      "1245/1245 [==============================] - 58s 46ms/step - loss: 2.0149\n",
      "Epoch 9/200\n",
      "1245/1245 [==============================] - 58s 47ms/step - loss: 1.8912\n",
      "Epoch 10/200\n",
      "1245/1245 [==============================] - 57s 45ms/step - loss: 1.7276\n",
      "Epoch 11/200\n",
      "1245/1245 [==============================] - 57s 46ms/step - loss: 1.6116\n",
      "Epoch 12/200\n",
      "1245/1245 [==============================] - 58s 46ms/step - loss: 1.6130\n",
      "Epoch 13/200\n",
      "1245/1245 [==============================] - 57s 46ms/step - loss: 1.3147\n",
      "Epoch 14/200\n",
      "1245/1245 [==============================] - 57s 46ms/step - loss: 1.5427\n",
      "Epoch 15/200\n",
      "1245/1245 [==============================] - 57s 46ms/step - loss: 1.2307\n",
      "Epoch 16/200\n",
      "1245/1245 [==============================] - 57s 46ms/step - loss: 1.0523\n",
      "Epoch 17/200\n",
      "1245/1245 [==============================] - 58s 46ms/step - loss: 1.1571\n",
      "Epoch 18/200\n",
      "1245/1245 [==============================] - 57s 46ms/step - loss: 1.0815\n",
      "Epoch 19/200\n",
      "1245/1245 [==============================] - 56s 45ms/step - loss: 1.0549\n",
      "Epoch 20/200\n",
      "1245/1245 [==============================] - 58s 46ms/step - loss: 0.8423\n",
      "Epoch 21/200\n",
      "1245/1245 [==============================] - 57s 46ms/step - loss: 0.9470\n",
      "Epoch 22/200\n",
      "1245/1245 [==============================] - 57s 46ms/step - loss: 0.9323\n",
      "Epoch 23/200\n",
      "1245/1245 [==============================] - 57s 46ms/step - loss: 0.9281\n",
      "Epoch 24/200\n",
      "1245/1245 [==============================] - 58s 46ms/step - loss: 0.7325\n",
      "Epoch 25/200\n",
      "1245/1245 [==============================] - 58s 47ms/step - loss: 0.7243\n",
      "Epoch 26/200\n",
      "1245/1245 [==============================] - 56s 45ms/step - loss: 0.8503\n",
      "Epoch 27/200\n",
      "1245/1245 [==============================] - 57s 46ms/step - loss: 0.6889\n",
      "Epoch 28/200\n",
      "1245/1245 [==============================] - 57s 46ms/step - loss: 0.6096\n",
      "Epoch 29/200\n",
      "1245/1245 [==============================] - 57s 46ms/step - loss: 0.6229\n",
      "Epoch 30/200\n",
      "1245/1245 [==============================] - 57s 46ms/step - loss: 0.6114\n",
      "Epoch 31/200\n",
      "1245/1245 [==============================] - 57s 46ms/step - loss: 0.5714\n",
      "Epoch 32/200\n",
      "1245/1245 [==============================] - 57s 46ms/step - loss: 0.5199\n",
      "Epoch 33/200\n",
      "1245/1245 [==============================] - 57s 46ms/step - loss: 0.5007\n",
      "Epoch 34/200\n",
      "1245/1245 [==============================] - 56s 45ms/step - loss: 0.4680\n",
      "Epoch 35/200\n",
      "1245/1245 [==============================] - 58s 46ms/step - loss: 0.4695\n",
      "Epoch 36/200\n",
      "1245/1245 [==============================] - 57s 46ms/step - loss: 0.8425\n",
      "Epoch 37/200\n",
      "1245/1245 [==============================] - 58s 46ms/step - loss: 0.4197\n",
      "Epoch 38/200\n",
      "1245/1245 [==============================] - 57s 46ms/step - loss: 0.3948\n",
      "Epoch 39/200\n",
      "1245/1245 [==============================] - 57s 46ms/step - loss: 0.3791\n",
      "Epoch 40/200\n",
      "1245/1245 [==============================] - 57s 46ms/step - loss: 0.3782\n",
      "Epoch 41/200\n",
      "1245/1245 [==============================] - 57s 46ms/step - loss: 0.4385\n",
      "Epoch 42/200\n",
      "1245/1245 [==============================] - 57s 46ms/step - loss: 0.3670\n",
      "Epoch 43/200\n",
      "1245/1245 [==============================] - 57s 46ms/step - loss: 0.3549\n",
      "Epoch 44/200\n",
      "1245/1245 [==============================] - 57s 45ms/step - loss: 0.3381\n",
      "Epoch 45/200\n",
      "1245/1245 [==============================] - 57s 45ms/step - loss: 0.3375\n",
      "Epoch 46/200\n",
      "1245/1245 [==============================] - 57s 46ms/step - loss: 0.3779\n",
      "Epoch 47/200\n",
      "1245/1245 [==============================] - 57s 46ms/step - loss: 0.3123\n",
      "Epoch 48/200\n",
      "1245/1245 [==============================] - 57s 45ms/step - loss: 0.3678\n",
      "Epoch 49/200\n",
      "1245/1245 [==============================] - 57s 46ms/step - loss: 0.3191\n",
      "Epoch 50/200\n",
      "1245/1245 [==============================] - 57s 46ms/step - loss: 0.3431\n",
      "Epoch 51/200\n",
      "1245/1245 [==============================] - 58s 47ms/step - loss: 0.3133\n"
     ]
    },
    {
     "data": {
      "text/plain": [
       "<keras.callbacks.History at 0x7fca865b7898>"
      ]
     },
     "execution_count": 42,
     "metadata": {},
     "output_type": "execute_result"
    }
   ],
   "source": [
    "m0.fit(images, zerotargets,epochs=200,batch_size=76,callbacks=[es])"
   ]
  },
  {
   "cell_type": "code",
   "execution_count": 75,
   "metadata": {},
   "outputs": [],
   "source": [
    "m0.save(f'zermodel_{time.strftime(\"%H%M%S\")}.h5')"
   ]
  },
  {
   "cell_type": "code",
   "execution_count": 35,
   "metadata": {},
   "outputs": [],
   "source": [
    "preds0=m0.predict(images)"
   ]
  },
  {
   "cell_type": "code",
   "execution_count": 19,
   "metadata": {
    "collapsed": true
   },
   "outputs": [
    {
     "name": "stderr",
     "output_type": "stream",
     "text": [
      "/home/ubuntu/anaconda3/envs/tensorflow_p36/lib/python3.6/site-packages/ipykernel/__main__.py:5: SettingWithCopyWarning: \n",
      "A value is trying to be set on a copy of a slice from a DataFrame.\n",
      "Try using .loc[row_indexer,col_indexer] = value instead\n",
      "\n",
      "See the caveats in the documentation: http://pandas.pydata.org/pandas-docs/stable/indexing.html#indexing-view-versus-copy\n"
     ]
    },
    {
     "name": "stdout",
     "output_type": "stream",
     "text": [
      "Epoch 1/200\n",
      "1104/1104 [==============================] - 127s 115ms/step - loss: 5.1138\n",
      "Epoch 2/200\n",
      "1104/1104 [==============================] - 101s 91ms/step - loss: 3.6639\n",
      "Epoch 3/200\n",
      "1104/1104 [==============================] - 105s 95ms/step - loss: 3.2747\n",
      "Epoch 4/200\n",
      "1104/1104 [==============================] - 102s 93ms/step - loss: 3.0223\n",
      "Epoch 5/200\n",
      "1104/1104 [==============================] - 103s 93ms/step - loss: 2.9510\n",
      "Epoch 6/200\n",
      "1104/1104 [==============================] - 105s 95ms/step - loss: 2.7699\n",
      "Epoch 7/200\n",
      "1104/1104 [==============================] - 103s 93ms/step - loss: 2.3882\n",
      "Epoch 8/200\n",
      "1104/1104 [==============================] - 101s 92ms/step - loss: 2.5758\n",
      "Epoch 9/200\n",
      "1104/1104 [==============================] - 100s 90ms/step - loss: 2.3988\n",
      "Epoch 10/200\n",
      "1104/1104 [==============================] - 101s 92ms/step - loss: 2.0883\n",
      "Epoch 11/200\n",
      "1104/1104 [==============================] - 102s 92ms/step - loss: 2.0036\n",
      "Epoch 12/200\n",
      "1104/1104 [==============================] - 103s 94ms/step - loss: 1.9337\n",
      "Epoch 13/200\n",
      "1104/1104 [==============================] - 101s 92ms/step - loss: 1.9498\n",
      "Epoch 14/200\n",
      "1104/1104 [==============================] - 102s 92ms/step - loss: 1.9032\n",
      "Epoch 15/200\n",
      "1104/1104 [==============================] - 102s 92ms/step - loss: 1.7036\n",
      "Epoch 16/200\n",
      "1104/1104 [==============================] - 100s 91ms/step - loss: 1.5783\n",
      "Epoch 17/200\n",
      "1104/1104 [==============================] - 103s 93ms/step - loss: 1.6517\n",
      "Epoch 18/200\n",
      "1104/1104 [==============================] - 99s 90ms/step - loss: 1.6464\n",
      "Epoch 19/200\n",
      "1104/1104 [==============================] - 98s 89ms/step - loss: 1.3838\n",
      "Epoch 20/200\n",
      "1104/1104 [==============================] - 104s 94ms/step - loss: 1.5601\n",
      "Epoch 21/200\n",
      "1104/1104 [==============================] - 105s 95ms/step - loss: 1.2292\n",
      "Epoch 22/200\n",
      "1104/1104 [==============================] - 101s 92ms/step - loss: 1.3747\n",
      "Epoch 23/200\n",
      "1104/1104 [==============================] - 102s 92ms/step - loss: 1.2434\n",
      "Epoch 24/200\n",
      "1104/1104 [==============================] - 101s 92ms/step - loss: 1.1612\n",
      "Epoch 25/200\n",
      "1104/1104 [==============================] - 103s 93ms/step - loss: 1.1779\n",
      "Epoch 26/200\n",
      "1104/1104 [==============================] - 102s 93ms/step - loss: 1.1242\n",
      "Epoch 27/200\n",
      "1104/1104 [==============================] - 104s 94ms/step - loss: 1.1013\n",
      "Epoch 28/200\n",
      "1104/1104 [==============================] - 99s 90ms/step - loss: 1.0369\n",
      "Epoch 29/200\n",
      "1104/1104 [==============================] - 107s 97ms/step - loss: 1.0012\n",
      "Epoch 30/200\n",
      "1104/1104 [==============================] - 104s 94ms/step - loss: 1.0278\n",
      "Epoch 31/200\n",
      "1104/1104 [==============================] - 101s 92ms/step - loss: 1.0282\n",
      "Epoch 32/200\n",
      "1104/1104 [==============================] - 100s 90ms/step - loss: 0.9229\n",
      "Epoch 33/200\n",
      "1104/1104 [==============================] - 103s 93ms/step - loss: 1.1047\n",
      "Epoch 34/200\n",
      "1104/1104 [==============================] - 101s 91ms/step - loss: 0.9317\n",
      "Epoch 35/200\n",
      "1104/1104 [==============================] - 104s 94ms/step - loss: 0.8178\n",
      "Epoch 36/200\n",
      "1104/1104 [==============================] - 104s 94ms/step - loss: 0.8492\n",
      "Epoch 37/200\n",
      "1104/1104 [==============================] - 103s 93ms/step - loss: 0.9288\n",
      "Epoch 38/200\n",
      "1104/1104 [==============================] - 104s 94ms/step - loss: 0.7930\n",
      "Epoch 39/200\n",
      "1104/1104 [==============================] - 100s 91ms/step - loss: 0.8936\n",
      "Epoch 40/200\n",
      "1104/1104 [==============================] - 103s 93ms/step - loss: 0.7552\n",
      "Epoch 41/200\n",
      "1104/1104 [==============================] - 101s 91ms/step - loss: 0.9214\n",
      "Epoch 42/200\n",
      "1104/1104 [==============================] - 100s 91ms/step - loss: 0.8373\n",
      "Epoch 43/200\n",
      "1104/1104 [==============================] - 103s 93ms/step - loss: 0.7400\n",
      "Epoch 44/200\n",
      "1104/1104 [==============================] - 103s 93ms/step - loss: 0.7251\n",
      "Epoch 45/200\n",
      "1104/1104 [==============================] - 102s 92ms/step - loss: 0.7347\n",
      "Epoch 46/200\n",
      "1104/1104 [==============================] - 102s 93ms/step - loss: 0.6163\n",
      "Epoch 47/200\n",
      "1104/1104 [==============================] - 101s 91ms/step - loss: 0.5953\n",
      "Epoch 48/200\n",
      "1104/1104 [==============================] - 102s 93ms/step - loss: 0.6191\n",
      "Epoch 49/200\n",
      "1104/1104 [==============================] - 103s 93ms/step - loss: 0.5938\n",
      "Epoch 50/200\n",
      "1104/1104 [==============================] - 103s 93ms/step - loss: 0.9092\n",
      "Epoch 51/200\n",
      "1104/1104 [==============================] - 101s 92ms/step - loss: 0.5876\n",
      "Epoch 52/200\n",
      "1104/1104 [==============================] - 100s 91ms/step - loss: 0.6063\n",
      "Epoch 53/200\n",
      "1104/1104 [==============================] - 100s 90ms/step - loss: 0.5314\n",
      "Epoch 54/200\n",
      "1104/1104 [==============================] - 104s 94ms/step - loss: 0.6865\n",
      "Epoch 55/200\n",
      "1104/1104 [==============================] - 101s 92ms/step - loss: 0.5639\n",
      "Epoch 56/200\n",
      "1104/1104 [==============================] - 100s 91ms/step - loss: 0.5113\n",
      "Epoch 57/200\n",
      "1104/1104 [==============================] - 103s 94ms/step - loss: 0.4722\n",
      "Epoch 58/200\n",
      "1104/1104 [==============================] - 106s 96ms/step - loss: 0.5631\n",
      "Epoch 59/200\n",
      "1104/1104 [==============================] - 100s 91ms/step - loss: 0.5130\n",
      "Epoch 60/200\n",
      "1104/1104 [==============================] - 104s 94ms/step - loss: 0.5421\n",
      "Epoch 61/200\n",
      "1104/1104 [==============================] - 103s 93ms/step - loss: 0.6756\n",
      "Epoch 62/200\n",
      "1104/1104 [==============================] - 105s 95ms/step - loss: 0.4435\n",
      "Epoch 63/200\n",
      "1104/1104 [==============================] - 105s 95ms/step - loss: 0.4492\n",
      "Epoch 64/200\n",
      "1104/1104 [==============================] - 102s 92ms/step - loss: 0.4350\n",
      "Epoch 65/200\n",
      "1104/1104 [==============================] - 102s 93ms/step - loss: 0.4122\n",
      "Epoch 66/200\n",
      "1104/1104 [==============================] - 94s 85ms/step - loss: 0.4632\n",
      "Epoch 67/200\n",
      "1104/1104 [==============================] - 67s 60ms/step - loss: 0.4100\n",
      "Epoch 68/200\n",
      "1104/1104 [==============================] - 96s 87ms/step - loss: 0.4203\n",
      "Epoch 69/200\n",
      "1104/1104 [==============================] - 102s 92ms/step - loss: 0.5231\n",
      "Epoch 70/200\n",
      "1104/1104 [==============================] - 102s 92ms/step - loss: 0.4256\n",
      "Epoch 71/200\n",
      "1104/1104 [==============================] - 104s 94ms/step - loss: 0.3983\n",
      "Epoch 72/200\n",
      "1104/1104 [==============================] - 105s 95ms/step - loss: 0.4773\n",
      "Epoch 73/200\n",
      "1104/1104 [==============================] - 103s 93ms/step - loss: 0.4087\n",
      "Epoch 74/200\n",
      "1104/1104 [==============================] - 102s 92ms/step - loss: 0.3699\n",
      "Epoch 75/200\n",
      "1104/1104 [==============================] - 101s 91ms/step - loss: 0.3767\n",
      "Epoch 76/200\n",
      "1104/1104 [==============================] - 102s 92ms/step - loss: 0.3602\n",
      "Epoch 77/200\n",
      "1104/1104 [==============================] - 105s 95ms/step - loss: 0.3586\n",
      "Epoch 78/200\n",
      "1104/1104 [==============================] - 100s 91ms/step - loss: 0.4014\n",
      "Epoch 79/200\n",
      "1104/1104 [==============================] - 101s 92ms/step - loss: 0.3538\n",
      "Epoch 80/200\n",
      "1104/1104 [==============================] - 101s 92ms/step - loss: 0.3674\n",
      "Epoch 81/200\n",
      "1104/1104 [==============================] - 103s 94ms/step - loss: 0.3347\n",
      "Epoch 82/200\n",
      "1104/1104 [==============================] - 104s 95ms/step - loss: 0.3798\n",
      "Epoch 83/200\n",
      "1104/1104 [==============================] - 101s 92ms/step - loss: 0.3564\n",
      "Epoch 84/200\n",
      "1104/1104 [==============================] - 98s 89ms/step - loss: 0.3192\n",
      "Epoch 85/200\n",
      "1104/1104 [==============================] - 103s 94ms/step - loss: 0.3042\n",
      "Epoch 86/200\n",
      "1104/1104 [==============================] - 101s 92ms/step - loss: 0.3089\n",
      "Epoch 87/200\n",
      "1104/1104 [==============================] - 102s 93ms/step - loss: 0.3273\n",
      "Epoch 88/200\n",
      "1104/1104 [==============================] - 102s 92ms/step - loss: 0.2995\n",
      "Epoch 89/200\n",
      "1104/1104 [==============================] - 101s 91ms/step - loss: 0.2897\n",
      "Epoch 90/200\n",
      "1104/1104 [==============================] - 99s 90ms/step - loss: 0.3007\n",
      "Epoch 91/200\n",
      "1104/1104 [==============================] - 102s 92ms/step - loss: 0.2914\n",
      "Epoch 92/200\n",
      "1104/1104 [==============================] - 101s 91ms/step - loss: 0.3355\n",
      "Epoch 93/200\n",
      "1104/1104 [==============================] - 103s 93ms/step - loss: 0.2971\n",
      "Epoch 94/200\n",
      "1104/1104 [==============================] - 103s 93ms/step - loss: 0.2906\n",
      "Epoch 95/200\n",
      "1104/1104 [==============================] - 101s 92ms/step - loss: 0.3634\n",
      "Epoch 96/200\n",
      "1104/1104 [==============================] - 100s 90ms/step - loss: 0.2831\n",
      "Epoch 97/200\n",
      "1104/1104 [==============================] - 104s 94ms/step - loss: 0.2764\n",
      "Epoch 98/200\n",
      "1104/1104 [==============================] - 103s 94ms/step - loss: 0.3086\n",
      "Epoch 99/200\n",
      "1104/1104 [==============================] - 103s 94ms/step - loss: 0.2588\n",
      "Epoch 100/200\n",
      "1104/1104 [==============================] - 102s 92ms/step - loss: 0.2477\n",
      "Epoch 101/200\n",
      "1104/1104 [==============================] - 103s 93ms/step - loss: 0.2706\n",
      "Epoch 102/200\n",
      "1104/1104 [==============================] - 99s 90ms/step - loss: 0.2666\n",
      "Epoch 103/200\n",
      "1104/1104 [==============================] - 105s 95ms/step - loss: 0.2810\n",
      "Epoch 104/200\n",
      "1104/1104 [==============================] - 102s 93ms/step - loss: 0.2588\n",
      "Epoch 105/200\n",
      "1104/1104 [==============================] - 102s 93ms/step - loss: 0.3476\n",
      "Epoch 106/200\n",
      "1104/1104 [==============================] - 103s 93ms/step - loss: 0.2561\n",
      "Epoch 107/200\n",
      "1104/1104 [==============================] - 102s 92ms/step - loss: 0.2435\n",
      "Epoch 108/200\n",
      "1104/1104 [==============================] - 106s 96ms/step - loss: 0.2599\n",
      "Epoch 109/200\n",
      "1104/1104 [==============================] - 101s 92ms/step - loss: 0.2430\n",
      "Epoch 110/200\n",
      "1104/1104 [==============================] - 98s 89ms/step - loss: 0.2795\n",
      "Epoch 111/200\n",
      "1104/1104 [==============================] - 103s 93ms/step - loss: 0.2511\n",
      "Epoch 112/200\n",
      "1104/1104 [==============================] - 100s 90ms/step - loss: 0.2370\n",
      "Epoch 113/200\n",
      "1104/1104 [==============================] - 102s 92ms/step - loss: 0.2204\n",
      "Epoch 114/200\n",
      "1104/1104 [==============================] - 101s 91ms/step - loss: 0.2850\n",
      "Epoch 115/200\n",
      "1104/1104 [==============================] - 104s 94ms/step - loss: 0.2156\n",
      "Epoch 116/200\n",
      "1104/1104 [==============================] - 105s 95ms/step - loss: 0.2381\n",
      "Epoch 117/200\n",
      "1104/1104 [==============================] - 102s 92ms/step - loss: 0.2294\n",
      "Epoch 118/200\n",
      "1104/1104 [==============================] - 102s 93ms/step - loss: 0.2321\n",
      "Epoch 119/200\n",
      "1104/1104 [==============================] - 103s 93ms/step - loss: 0.2145\n",
      "Epoch 120/200\n",
      "1104/1104 [==============================] - 102s 92ms/step - loss: 0.2091\n",
      "Epoch 121/200\n",
      "1104/1104 [==============================] - 101s 92ms/step - loss: 0.2067\n",
      "Epoch 122/200\n",
      "1104/1104 [==============================] - 100s 90ms/step - loss: 0.2021\n",
      "Epoch 123/200\n",
      "1104/1104 [==============================] - 101s 91ms/step - loss: 0.2324\n",
      "Epoch 124/200\n",
      "1104/1104 [==============================] - 100s 91ms/step - loss: 0.2280\n",
      "Epoch 125/200\n",
      "1104/1104 [==============================] - 102s 92ms/step - loss: 0.2374\n",
      "Epoch 126/200\n",
      "1104/1104 [==============================] - 104s 94ms/step - loss: 0.1964\n",
      "Epoch 127/200\n",
      "1104/1104 [==============================] - 103s 94ms/step - loss: 0.2044\n",
      "Epoch 128/200\n",
      "1104/1104 [==============================] - 101s 92ms/step - loss: 0.2027\n",
      "Epoch 129/200\n",
      "1104/1104 [==============================] - 101s 92ms/step - loss: 0.2224\n",
      "Epoch 130/200\n",
      "1104/1104 [==============================] - 102s 93ms/step - loss: 0.1969\n",
      "Epoch 131/200\n",
      "1104/1104 [==============================] - 101s 92ms/step - loss: 0.2027\n",
      "Epoch 132/200\n",
      "1104/1104 [==============================] - 104s 94ms/step - loss: 0.1942\n",
      "Epoch 133/200\n",
      "1104/1104 [==============================] - 100s 91ms/step - loss: 0.2059\n",
      "Epoch 134/200\n",
      "1104/1104 [==============================] - 103s 94ms/step - loss: 0.2021\n",
      "Epoch 135/200\n",
      "1104/1104 [==============================] - 101s 92ms/step - loss: 0.1832\n",
      "Epoch 136/200\n",
      "1104/1104 [==============================] - 102s 93ms/step - loss: 0.1913\n",
      "Epoch 137/200\n",
      "1104/1104 [==============================] - 100s 91ms/step - loss: 0.1962\n",
      "Epoch 138/200\n",
      "1104/1104 [==============================] - 102s 92ms/step - loss: 0.2044\n",
      "Epoch 139/200\n",
      "1104/1104 [==============================] - 102s 93ms/step - loss: 0.1797\n",
      "Epoch 140/200\n",
      "1104/1104 [==============================] - 101s 91ms/step - loss: 0.2056\n",
      "Epoch 141/200\n",
      "1104/1104 [==============================] - 102s 92ms/step - loss: 0.1775\n",
      "Epoch 142/200\n",
      "1104/1104 [==============================] - 103s 94ms/step - loss: 0.2306\n",
      "Epoch 143/200\n",
      "1104/1104 [==============================] - 102s 93ms/step - loss: 0.1766\n",
      "Epoch 144/200\n",
      "1104/1104 [==============================] - 103s 94ms/step - loss: 0.1762\n",
      "Epoch 145/200\n",
      "1104/1104 [==============================] - 100s 91ms/step - loss: 0.1664\n",
      "Epoch 146/200\n",
      "1104/1104 [==============================] - 99s 90ms/step - loss: 0.1725\n",
      "Epoch 147/200\n",
      "1104/1104 [==============================] - 102s 93ms/step - loss: 0.1770\n",
      "Epoch 148/200\n",
      "1104/1104 [==============================] - 101s 92ms/step - loss: 0.1666\n",
      "Epoch 149/200\n",
      "1104/1104 [==============================] - 101s 91ms/step - loss: 0.1818\n",
      "Epoch 150/200\n",
      "1104/1104 [==============================] - 106s 96ms/step - loss: 0.1801\n",
      "Epoch 151/200\n",
      "1104/1104 [==============================] - 103s 93ms/step - loss: 0.1645\n",
      "Epoch 152/200\n",
      "1104/1104 [==============================] - 103s 93ms/step - loss: 0.1863\n",
      "Epoch 153/200\n",
      "1104/1104 [==============================] - 102s 92ms/step - loss: 0.1682\n",
      "Epoch 154/200\n",
      "1104/1104 [==============================] - 100s 91ms/step - loss: 0.1615\n",
      "Epoch 155/200\n",
      "1104/1104 [==============================] - 101s 92ms/step - loss: 0.1616\n",
      "Epoch 156/200\n",
      "1104/1104 [==============================] - 103s 93ms/step - loss: 0.1627\n",
      "Epoch 157/200\n",
      "1104/1104 [==============================] - 100s 91ms/step - loss: 0.1577\n",
      "Epoch 158/200\n",
      "1104/1104 [==============================] - 101s 91ms/step - loss: 0.1538\n",
      "Epoch 159/200\n",
      "1104/1104 [==============================] - 101s 92ms/step - loss: 0.1548\n",
      "Epoch 160/200\n",
      "1104/1104 [==============================] - 101s 91ms/step - loss: 0.1775\n",
      "Epoch 161/200\n",
      "1104/1104 [==============================] - 100s 91ms/step - loss: 0.1537\n",
      "Epoch 162/200\n",
      "1104/1104 [==============================] - 104s 94ms/step - loss: 0.1511\n",
      "Epoch 163/200\n",
      "1104/1104 [==============================] - 103s 93ms/step - loss: 0.1776\n",
      "Epoch 164/200\n",
      "1104/1104 [==============================] - 98s 89ms/step - loss: 0.1627\n",
      "Epoch 165/200\n",
      "1104/1104 [==============================] - 104s 94ms/step - loss: 0.1492\n",
      "Epoch 166/200\n",
      "1104/1104 [==============================] - 103s 93ms/step - loss: 0.1476\n",
      "Epoch 167/200\n",
      "1104/1104 [==============================] - 102s 93ms/step - loss: 0.1432\n",
      "Epoch 168/200\n",
      "1104/1104 [==============================] - 101s 92ms/step - loss: 0.1426\n",
      "Epoch 169/200\n",
      "1104/1104 [==============================] - 106s 96ms/step - loss: 0.1508\n",
      "Epoch 170/200\n",
      "1104/1104 [==============================] - 99s 90ms/step - loss: 0.1426\n",
      "Epoch 171/200\n",
      "1104/1104 [==============================] - 102s 93ms/step - loss: 0.1646\n",
      "Epoch 172/200\n",
      "1104/1104 [==============================] - 105s 95ms/step - loss: 0.1649\n",
      "Epoch 173/200\n",
      "1104/1104 [==============================] - 101s 91ms/step - loss: 0.1434\n",
      "Epoch 174/200\n",
      "1104/1104 [==============================] - 100s 91ms/step - loss: 0.1421\n",
      "Epoch 175/200\n",
      "1104/1104 [==============================] - 101s 92ms/step - loss: 0.1566\n",
      "Epoch 176/200\n",
      "1104/1104 [==============================] - 100s 91ms/step - loss: 0.1373\n",
      "Epoch 177/200\n",
      "1104/1104 [==============================] - 99s 89ms/step - loss: 0.1427\n",
      "Epoch 178/200\n",
      "1104/1104 [==============================] - 102s 92ms/step - loss: 0.1516\n",
      "Epoch 179/200\n",
      "1104/1104 [==============================] - 100s 90ms/step - loss: 0.1577\n",
      "Epoch 180/200\n",
      "1104/1104 [==============================] - 103s 93ms/step - loss: 0.1543\n",
      "Epoch 181/200\n",
      "1104/1104 [==============================] - 101s 92ms/step - loss: 0.1474\n",
      "Epoch 182/200\n",
      "1104/1104 [==============================] - 103s 94ms/step - loss: 0.1315\n",
      "Epoch 183/200\n",
      "1104/1104 [==============================] - 100s 91ms/step - loss: 0.1404\n",
      "Epoch 184/200\n",
      "1104/1104 [==============================] - 101s 91ms/step - loss: 0.1371\n",
      "Epoch 185/200\n",
      "1104/1104 [==============================] - 102s 92ms/step - loss: 0.1424\n",
      "Epoch 186/200\n"
     ]
    },
    {
     "name": "stdout",
     "output_type": "stream",
     "text": [
      "1104/1104 [==============================] - 101s 92ms/step - loss: 0.1316\n",
      "Epoch 187/200\n",
      "1104/1104 [==============================] - 104s 94ms/step - loss: 0.1283\n",
      "Epoch 188/200\n",
      "1104/1104 [==============================] - 102s 93ms/step - loss: 0.1304\n",
      "Epoch 189/200\n",
      "1104/1104 [==============================] - 104s 94ms/step - loss: 0.1547\n",
      "Epoch 190/200\n",
      "1104/1104 [==============================] - 103s 94ms/step - loss: 0.1290\n",
      "Epoch 191/200\n",
      "1104/1104 [==============================] - 101s 92ms/step - loss: 0.1354\n",
      "Epoch 192/200\n",
      "1104/1104 [==============================] - 103s 93ms/step - loss: 0.1311\n",
      "Epoch 193/200\n",
      "1104/1104 [==============================] - 102s 92ms/step - loss: 0.1854\n",
      "Epoch 194/200\n",
      "1104/1104 [==============================] - 105s 95ms/step - loss: 0.1246\n",
      "Epoch 195/200\n",
      "1104/1104 [==============================] - 100s 91ms/step - loss: 0.1208\n",
      "Epoch 196/200\n",
      "1104/1104 [==============================] - 101s 91ms/step - loss: 0.1240\n",
      "Epoch 197/200\n",
      "1104/1104 [==============================] - 101s 92ms/step - loss: 0.1329\n",
      "Epoch 198/200\n",
      "1104/1104 [==============================] - 103s 93ms/step - loss: 0.1261\n",
      "Epoch 199/200\n",
      "1104/1104 [==============================] - 104s 95ms/step - loss: 0.1210\n",
      "Epoch 200/200\n",
      "1104/1104 [==============================] - 101s 92ms/step - loss: 0.1215\n"
     ]
    },
    {
     "ename": "RuntimeError",
     "evalue": "Unable to flush file's cached information (file write failed: time = Sat Nov  9 18:12:56 2019\n, filename = 'zermodel_181251.h5', file descriptor = 43, errno = 28, error message = 'No space left on device', buf = 0x55cfac8cf1b0, total write size = 6872, bytes this sub-write = 6872, bytes actually written = 18446744073709551615, offset = 4096)",
     "output_type": "error",
     "traceback": [
      "\u001b[0;31m---------------------------------------------------------------------------\u001b[0m",
      "\u001b[0;31mOSError\u001b[0m                                   Traceback (most recent call last)",
      "\u001b[0;32m~/anaconda3/envs/tensorflow_p36/lib/python3.6/site-packages/keras/engine/saving.py\u001b[0m in \u001b[0;36msave_model\u001b[0;34m(model, filepath, overwrite, include_optimizer)\u001b[0m\n\u001b[1;32m    381\u001b[0m     \u001b[0;32mtry\u001b[0m\u001b[0;34m:\u001b[0m\u001b[0;34m\u001b[0m\u001b[0m\n\u001b[0;32m--> 382\u001b[0;31m         \u001b[0m_serialize_model\u001b[0m\u001b[0;34m(\u001b[0m\u001b[0mmodel\u001b[0m\u001b[0;34m,\u001b[0m \u001b[0mf\u001b[0m\u001b[0;34m,\u001b[0m \u001b[0minclude_optimizer\u001b[0m\u001b[0;34m)\u001b[0m\u001b[0;34m\u001b[0m\u001b[0m\n\u001b[0m\u001b[1;32m    383\u001b[0m     \u001b[0;32mfinally\u001b[0m\u001b[0;34m:\u001b[0m\u001b[0;34m\u001b[0m\u001b[0m\n",
      "\u001b[0;32m~/anaconda3/envs/tensorflow_p36/lib/python3.6/site-packages/keras/engine/saving.py\u001b[0m in \u001b[0;36m_serialize_model\u001b[0;34m(model, f, include_optimizer)\u001b[0m\n\u001b[1;32m    170\u001b[0m                 \u001b[0;32mfor\u001b[0m \u001b[0mname\u001b[0m\u001b[0;34m,\u001b[0m \u001b[0mval\u001b[0m \u001b[0;32min\u001b[0m \u001b[0mzip\u001b[0m\u001b[0;34m(\u001b[0m\u001b[0mweight_names\u001b[0m\u001b[0;34m,\u001b[0m \u001b[0mweight_values\u001b[0m\u001b[0;34m)\u001b[0m\u001b[0;34m:\u001b[0m\u001b[0;34m\u001b[0m\u001b[0m\n\u001b[0;32m--> 171\u001b[0;31m                     \u001b[0moptimizer_weights_group\u001b[0m\u001b[0;34m[\u001b[0m\u001b[0mname\u001b[0m\u001b[0;34m]\u001b[0m \u001b[0;34m=\u001b[0m \u001b[0mval\u001b[0m\u001b[0;34m\u001b[0m\u001b[0m\n\u001b[0m\u001b[1;32m    172\u001b[0m \u001b[0;34m\u001b[0m\u001b[0m\n",
      "\u001b[0;32m~/anaconda3/envs/tensorflow_p36/lib/python3.6/site-packages/keras/utils/io_utils.py\u001b[0m in \u001b[0;36m__setitem__\u001b[0;34m(self, attr, val)\u001b[0m\n\u001b[1;32m    222\u001b[0m             \u001b[0;32melse\u001b[0m\u001b[0;34m:\u001b[0m\u001b[0;34m\u001b[0m\u001b[0m\n\u001b[0;32m--> 223\u001b[0;31m                 \u001b[0mdataset\u001b[0m\u001b[0;34m[\u001b[0m\u001b[0;34m:\u001b[0m\u001b[0;34m]\u001b[0m \u001b[0;34m=\u001b[0m \u001b[0mval\u001b[0m\u001b[0;34m\u001b[0m\u001b[0m\n\u001b[0m\u001b[1;32m    224\u001b[0m         \u001b[0;32melif\u001b[0m \u001b[0misinstance\u001b[0m\u001b[0;34m(\u001b[0m\u001b[0mval\u001b[0m\u001b[0;34m,\u001b[0m \u001b[0mlist\u001b[0m\u001b[0;34m)\u001b[0m\u001b[0;34m:\u001b[0m\u001b[0;34m\u001b[0m\u001b[0m\n",
      "\u001b[0;32mh5py/_objects.pyx\u001b[0m in \u001b[0;36mh5py._objects.with_phil.wrapper\u001b[0;34m()\u001b[0m\n",
      "\u001b[0;32mh5py/_objects.pyx\u001b[0m in \u001b[0;36mh5py._objects.with_phil.wrapper\u001b[0;34m()\u001b[0m\n",
      "\u001b[0;32m~/anaconda3/envs/tensorflow_p36/lib/python3.6/site-packages/h5py/_hl/dataset.py\u001b[0m in \u001b[0;36m__setitem__\u001b[0;34m(self, args, val)\u001b[0m\n\u001b[1;32m    631\u001b[0m         \u001b[0;32mfor\u001b[0m \u001b[0mfspace\u001b[0m \u001b[0;32min\u001b[0m \u001b[0mselection\u001b[0m\u001b[0;34m.\u001b[0m\u001b[0mbroadcast\u001b[0m\u001b[0;34m(\u001b[0m\u001b[0mmshape\u001b[0m\u001b[0;34m)\u001b[0m\u001b[0;34m:\u001b[0m\u001b[0;34m\u001b[0m\u001b[0m\n\u001b[0;32m--> 632\u001b[0;31m             \u001b[0mself\u001b[0m\u001b[0;34m.\u001b[0m\u001b[0mid\u001b[0m\u001b[0;34m.\u001b[0m\u001b[0mwrite\u001b[0m\u001b[0;34m(\u001b[0m\u001b[0mmspace\u001b[0m\u001b[0;34m,\u001b[0m \u001b[0mfspace\u001b[0m\u001b[0;34m,\u001b[0m \u001b[0mval\u001b[0m\u001b[0;34m,\u001b[0m \u001b[0mmtype\u001b[0m\u001b[0;34m,\u001b[0m \u001b[0mdxpl\u001b[0m\u001b[0;34m=\u001b[0m\u001b[0mself\u001b[0m\u001b[0;34m.\u001b[0m\u001b[0m_dxpl\u001b[0m\u001b[0;34m)\u001b[0m\u001b[0;34m\u001b[0m\u001b[0m\n\u001b[0m\u001b[1;32m    633\u001b[0m \u001b[0;34m\u001b[0m\u001b[0m\n",
      "\u001b[0;32mh5py/_objects.pyx\u001b[0m in \u001b[0;36mh5py._objects.with_phil.wrapper\u001b[0;34m()\u001b[0m\n",
      "\u001b[0;32mh5py/_objects.pyx\u001b[0m in \u001b[0;36mh5py._objects.with_phil.wrapper\u001b[0;34m()\u001b[0m\n",
      "\u001b[0;32mh5py/h5d.pyx\u001b[0m in \u001b[0;36mh5py.h5d.DatasetID.write\u001b[0;34m()\u001b[0m\n",
      "\u001b[0;32mh5py/_proxy.pyx\u001b[0m in \u001b[0;36mh5py._proxy.dset_rw\u001b[0;34m()\u001b[0m\n",
      "\u001b[0;32mh5py/_proxy.pyx\u001b[0m in \u001b[0;36mh5py._proxy.H5PY_H5Dwrite\u001b[0;34m()\u001b[0m\n",
      "\u001b[0;31mOSError\u001b[0m: Can't prepare for writing data (file write failed: time = Sat Nov  9 18:12:56 2019\n, filename = 'zermodel_181251.h5', file descriptor = 43, errno = 28, error message = 'No space left on device', buf = 0x55cfa887b670, total write size = 2892432, bytes this sub-write = 2892432, bytes actually written = 18446744073709551615, offset = 309456896)",
      "\nDuring handling of the above exception, another exception occurred:\n",
      "\u001b[0;31mRuntimeError\u001b[0m                              Traceback (most recent call last)",
      "\u001b[0;32m<ipython-input-19-3bc0bbc192e4>\u001b[0m in \u001b[0;36m<module>\u001b[0;34m()\u001b[0m\n\u001b[1;32m     14\u001b[0m     \u001b[0mzerotargets\u001b[0m\u001b[0;34m=\u001b[0m\u001b[0mnp\u001b[0m\u001b[0;34m.\u001b[0m\u001b[0marray\u001b[0m\u001b[0;34m(\u001b[0m\u001b[0mstart_at_zeros\u001b[0m\u001b[0;34m(\u001b[0m\u001b[0mtargets\u001b[0m\u001b[0;34m)\u001b[0m\u001b[0;34m)\u001b[0m\u001b[0;34m\u001b[0m\u001b[0m\n\u001b[1;32m     15\u001b[0m     \u001b[0mm0\u001b[0m\u001b[0;34m.\u001b[0m\u001b[0mfit\u001b[0m\u001b[0;34m(\u001b[0m\u001b[0mimages\u001b[0m\u001b[0;34m,\u001b[0m \u001b[0mzerotargets\u001b[0m\u001b[0;34m,\u001b[0m\u001b[0mepochs\u001b[0m\u001b[0;34m=\u001b[0m\u001b[0;36m200\u001b[0m\u001b[0;34m,\u001b[0m\u001b[0mbatch_size\u001b[0m\u001b[0;34m=\u001b[0m\u001b[0;36m71\u001b[0m\u001b[0;34m,\u001b[0m\u001b[0mcallbacks\u001b[0m\u001b[0;34m=\u001b[0m\u001b[0;34m[\u001b[0m\u001b[0mes\u001b[0m\u001b[0;34m]\u001b[0m\u001b[0;34m)\u001b[0m\u001b[0;34m\u001b[0m\u001b[0m\n\u001b[0;32m---> 16\u001b[0;31m     \u001b[0mm0\u001b[0m\u001b[0;34m.\u001b[0m\u001b[0msave\u001b[0m\u001b[0;34m(\u001b[0m\u001b[0;34mf'zermodel_{time.strftime(\"%H%M%S\")}.h5'\u001b[0m\u001b[0;34m)\u001b[0m\u001b[0;34m\u001b[0m\u001b[0m\n\u001b[0m\u001b[1;32m     17\u001b[0m     \u001b[0mpreds0\u001b[0m\u001b[0;34m=\u001b[0m\u001b[0mm0\u001b[0m\u001b[0;34m.\u001b[0m\u001b[0mpredict\u001b[0m\u001b[0;34m(\u001b[0m\u001b[0mimages\u001b[0m\u001b[0;34m)\u001b[0m\u001b[0;34m\u001b[0m\u001b[0m\n\u001b[1;32m     18\u001b[0m     \u001b[0mzeropreds\u001b[0m\u001b[0;34m=\u001b[0m\u001b[0mreverse_transform_zero\u001b[0m\u001b[0;34m(\u001b[0m\u001b[0mpreds0\u001b[0m\u001b[0;34m,\u001b[0m\u001b[0mtargets\u001b[0m\u001b[0;34m)\u001b[0m\u001b[0;34m\u001b[0m\u001b[0m\n",
      "\u001b[0;32m~/anaconda3/envs/tensorflow_p36/lib/python3.6/site-packages/keras/engine/network.py\u001b[0m in \u001b[0;36msave\u001b[0;34m(self, filepath, overwrite, include_optimizer)\u001b[0m\n\u001b[1;32m   1088\u001b[0m             \u001b[0;32mraise\u001b[0m \u001b[0mNotImplementedError\u001b[0m\u001b[0;34m\u001b[0m\u001b[0m\n\u001b[1;32m   1089\u001b[0m         \u001b[0;32mfrom\u001b[0m \u001b[0;34m.\u001b[0m\u001b[0;34m.\u001b[0m\u001b[0mmodels\u001b[0m \u001b[0;32mimport\u001b[0m \u001b[0msave_model\u001b[0m\u001b[0;34m\u001b[0m\u001b[0m\n\u001b[0;32m-> 1090\u001b[0;31m         \u001b[0msave_model\u001b[0m\u001b[0;34m(\u001b[0m\u001b[0mself\u001b[0m\u001b[0;34m,\u001b[0m \u001b[0mfilepath\u001b[0m\u001b[0;34m,\u001b[0m \u001b[0moverwrite\u001b[0m\u001b[0;34m,\u001b[0m \u001b[0minclude_optimizer\u001b[0m\u001b[0;34m)\u001b[0m\u001b[0;34m\u001b[0m\u001b[0m\n\u001b[0m\u001b[1;32m   1091\u001b[0m \u001b[0;34m\u001b[0m\u001b[0m\n\u001b[1;32m   1092\u001b[0m     \u001b[0;32mdef\u001b[0m \u001b[0msave_weights\u001b[0m\u001b[0;34m(\u001b[0m\u001b[0mself\u001b[0m\u001b[0;34m,\u001b[0m \u001b[0mfilepath\u001b[0m\u001b[0;34m,\u001b[0m \u001b[0moverwrite\u001b[0m\u001b[0;34m=\u001b[0m\u001b[0;32mTrue\u001b[0m\u001b[0;34m)\u001b[0m\u001b[0;34m:\u001b[0m\u001b[0;34m\u001b[0m\u001b[0m\n",
      "\u001b[0;32m~/anaconda3/envs/tensorflow_p36/lib/python3.6/site-packages/keras/engine/saving.py\u001b[0m in \u001b[0;36msave_model\u001b[0;34m(model, filepath, overwrite, include_optimizer)\u001b[0m\n\u001b[1;32m    383\u001b[0m     \u001b[0;32mfinally\u001b[0m\u001b[0;34m:\u001b[0m\u001b[0;34m\u001b[0m\u001b[0m\n\u001b[1;32m    384\u001b[0m         \u001b[0;32mif\u001b[0m \u001b[0mopened_new_file\u001b[0m\u001b[0;34m:\u001b[0m\u001b[0;34m\u001b[0m\u001b[0m\n\u001b[0;32m--> 385\u001b[0;31m             \u001b[0mf\u001b[0m\u001b[0;34m.\u001b[0m\u001b[0mclose\u001b[0m\u001b[0;34m(\u001b[0m\u001b[0;34m)\u001b[0m\u001b[0;34m\u001b[0m\u001b[0m\n\u001b[0m\u001b[1;32m    386\u001b[0m \u001b[0;34m\u001b[0m\u001b[0m\n\u001b[1;32m    387\u001b[0m \u001b[0;34m\u001b[0m\u001b[0m\n",
      "\u001b[0;32m~/anaconda3/envs/tensorflow_p36/lib/python3.6/site-packages/keras/utils/io_utils.py\u001b[0m in \u001b[0;36mclose\u001b[0;34m(self)\u001b[0m\n\u001b[1;32m    328\u001b[0m     \u001b[0;32mdef\u001b[0m \u001b[0mclose\u001b[0m\u001b[0;34m(\u001b[0m\u001b[0mself\u001b[0m\u001b[0;34m)\u001b[0m\u001b[0;34m:\u001b[0m\u001b[0;34m\u001b[0m\u001b[0m\n\u001b[1;32m    329\u001b[0m         \u001b[0;32mif\u001b[0m \u001b[0misinstance\u001b[0m\u001b[0;34m(\u001b[0m\u001b[0mself\u001b[0m\u001b[0;34m.\u001b[0m\u001b[0mdata\u001b[0m\u001b[0;34m,\u001b[0m \u001b[0mh5py\u001b[0m\u001b[0;34m.\u001b[0m\u001b[0mGroup\u001b[0m\u001b[0;34m)\u001b[0m\u001b[0;34m:\u001b[0m\u001b[0;34m\u001b[0m\u001b[0m\n\u001b[0;32m--> 330\u001b[0;31m             \u001b[0mself\u001b[0m\u001b[0;34m.\u001b[0m\u001b[0mdata\u001b[0m\u001b[0;34m.\u001b[0m\u001b[0mfile\u001b[0m\u001b[0;34m.\u001b[0m\u001b[0mflush\u001b[0m\u001b[0;34m(\u001b[0m\u001b[0;34m)\u001b[0m\u001b[0;34m\u001b[0m\u001b[0m\n\u001b[0m\u001b[1;32m    331\u001b[0m             \u001b[0;32mif\u001b[0m \u001b[0mself\u001b[0m\u001b[0;34m.\u001b[0m\u001b[0m_is_file\u001b[0m\u001b[0;34m:\u001b[0m\u001b[0;34m\u001b[0m\u001b[0m\n\u001b[1;32m    332\u001b[0m                 \u001b[0mself\u001b[0m\u001b[0;34m.\u001b[0m\u001b[0mdata\u001b[0m\u001b[0;34m.\u001b[0m\u001b[0mclose\u001b[0m\u001b[0;34m(\u001b[0m\u001b[0;34m)\u001b[0m\u001b[0;34m\u001b[0m\u001b[0m\n",
      "\u001b[0;32m~/anaconda3/envs/tensorflow_p36/lib/python3.6/site-packages/h5py/_hl/files.py\u001b[0m in \u001b[0;36mflush\u001b[0;34m(self)\u001b[0m\n\u001b[1;32m    349\u001b[0m         \"\"\"\n\u001b[1;32m    350\u001b[0m         \u001b[0;32mwith\u001b[0m \u001b[0mphil\u001b[0m\u001b[0;34m:\u001b[0m\u001b[0;34m\u001b[0m\u001b[0m\n\u001b[0;32m--> 351\u001b[0;31m             \u001b[0mh5f\u001b[0m\u001b[0;34m.\u001b[0m\u001b[0mflush\u001b[0m\u001b[0;34m(\u001b[0m\u001b[0mself\u001b[0m\u001b[0;34m.\u001b[0m\u001b[0mfid\u001b[0m\u001b[0;34m)\u001b[0m\u001b[0;34m\u001b[0m\u001b[0m\n\u001b[0m\u001b[1;32m    352\u001b[0m \u001b[0;34m\u001b[0m\u001b[0m\n\u001b[1;32m    353\u001b[0m     \u001b[0;34m@\u001b[0m\u001b[0mwith_phil\u001b[0m\u001b[0;34m\u001b[0m\u001b[0m\n",
      "\u001b[0;32mh5py/_objects.pyx\u001b[0m in \u001b[0;36mh5py._objects.with_phil.wrapper\u001b[0;34m()\u001b[0m\n",
      "\u001b[0;32mh5py/_objects.pyx\u001b[0m in \u001b[0;36mh5py._objects.with_phil.wrapper\u001b[0;34m()\u001b[0m\n",
      "\u001b[0;32mh5py/h5f.pyx\u001b[0m in \u001b[0;36mh5py.h5f.flush\u001b[0;34m()\u001b[0m\n",
      "\u001b[0;31mRuntimeError\u001b[0m: Unable to flush file's cached information (file write failed: time = Sat Nov  9 18:12:56 2019\n, filename = 'zermodel_181251.h5', file descriptor = 43, errno = 28, error message = 'No space left on device', buf = 0x55cfac8cf1b0, total write size = 6872, bytes this sub-write = 6872, bytes actually written = 18446744073709551615, offset = 4096)"
     ]
    }
   ],
   "source": [
    "for x in [6,7,9]:\n",
    "    df=pd.read_csv(f'indoor/drone_{x}/groundtruth.txt', sep=' ', float_precision='high')\n",
    "    df.drop(labels=['qw','#'],axis=1,inplace=True)\n",
    "    ground=df.rename(columns={'qz':'qw','qy':'qz','qx':'qy','tz':'qx','ty':'tz','tx':'ty','timestamp':'tx','id':'timestamp'})\n",
    "    df=pd.read_csv(f'indoor/drone_{x}/images.txt', sep=' ',float_precision='high')\n",
    "    cols=df.columns\n",
    "    df.rename(columns={k:v for k,v in zip(df.columns[1:3],df.columns[2:])},inplace=True)\n",
    "    imdf=df.iloc[:,1:3]\n",
    "    targets=filter_by_timestamp_closest(imdf,ground)\n",
    "    images=np.array([[img_to_array(load_img(f'indoor/drone_{x}/'+targets.image_name.iloc[thing],color_mode='grayscale')),\n",
    "            img_to_array(load_img(f'indoor/drone_{x}/'+targets.image_name.iloc[thing+1],color_mode='grayscale'))] for thing in range(len(targets)-1)])\n",
    "    images=np.array(images)\n",
    "    targets=targets.iloc[1:,2:-1]\n",
    "    zerotargets=np.array(start_at_zeros(targets))\n",
    "    m0.fit(images, zerotargets,epochs=200,batch_size=71,callbacks=[es])\n",
    "    m0.save(f'zermodel_{time.strftime(\"%H%M%S\")}.h5')\n",
    "    preds0=m0.predict(images)\n",
    "    zeropreds=reverse_transform_zero(preds0,targets)"
   ]
  },
  {
   "cell_type": "code",
   "execution_count": null,
   "metadata": {},
   "outputs": [],
   "source": []
  },
  {
   "cell_type": "code",
   "execution_count": 48,
   "metadata": {
    "scrolled": true
   },
   "outputs": [
    {
     "name": "stdout",
     "output_type": "stream",
     "text": [
      "1245/1245 [==============================] - 36s 29ms/step\n"
     ]
    },
    {
     "data": {
      "text/plain": [
       "9.156077856806865"
      ]
     },
     "execution_count": 48,
     "metadata": {},
     "output_type": "execute_result"
    }
   ],
   "source": [
    "m0.evaluate(images,targets)"
   ]
  },
  {
   "cell_type": "code",
   "execution_count": 36,
   "metadata": {},
   "outputs": [],
   "source": [
    "zeropreds=reverse_transform_zero(preds0,targets)"
   ]
  },
  {
   "cell_type": "code",
   "execution_count": 37,
   "metadata": {},
   "outputs": [
    {
     "data": {
      "image/png": "[encoded data removed]",
      "text/plain": [
       "<Figure size 432x288 with 1 Axes>"
      ]
     },
     "metadata": {
      "needs_background": "light"
     },
     "output_type": "display_data"
    }
   ],
   "source": [
    "fig = plt.figure()\n",
    "ax = fig.add_subplot(111, projection='3d')\n",
    "ax.plot(targets.iloc[:,0],targets.iloc[:,1],targets.iloc[:,2])\n",
    "plt.show()"
   ]
  },
  {
   "cell_type": "code",
   "execution_count": 38,
   "metadata": {},
   "outputs": [
    {
     "data": {
      "image/png": "[encoded data removed]",
      "text/plain": [
       "<Figure size 432x288 with 1 Axes>"
      ]
     },
     "metadata": {
      "needs_background": "light"
     },
     "output_type": "display_data"
    }
   ],
   "source": [
    "fig = plt.figure()\n",
    "ax = fig.add_subplot(111, projection='3d')\n",
    "ax.plot(zeropreds[:,0],zeropreds[:,1],zeropreds[:,2])\n",
    "plt.show()"
   ]
  },
  {
   "cell_type": "code",
   "execution_count": null,
   "metadata": {},
   "outputs": [],
   "source": [
    "for idx in range(len(targets)):\n",
    "    fig = plt.figure()\n",
    "    ax = fig.add_subplot(111, projection='3d')\n",
    "    ax.plot(targets[:idx,0],targets[:idx,1],targets[:idx,2])\n",
    "    plt.savefig(f'giftestzero/zeropredstest10{idx}')\n",
    "    plt.close()"
   ]
  },
  {
   "cell_type": "code",
   "execution_count": 67,
   "metadata": {
    "scrolled": true
   },
   "outputs": [],
   "source": [
    "for idx in range(len(zeropreds)):\n",
    "    fig = plt.figure()\n",
    "    ax = fig.add_subplot(111, projection='3d')\n",
    "    ax.plot(zeropreds[:idx,0],zeropreds[:idx,1],zeropreds[:idx,2])\n",
    "    plt.savefig(f'giftestzero/zeropredstest10{idx}')\n",
    "    plt.close()"
   ]
  },
  {
   "cell_type": "code",
   "execution_count": 65,
   "metadata": {},
   "outputs": [],
   "source": [
    "plt.close()"
   ]
  },
  {
   "cell_type": "code",
   "execution_count": 72,
   "metadata": {
    "collapsed": true
   },
   "outputs": [
    {
     "data": {
      "text/html": [
       "<div>\n",
       "<style scoped>\n",
       "    .dataframe tbody tr th:only-of-type {\n",
       "        vertical-align: middle;\n",
       "    }\n",
       "\n",
       "    .dataframe tbody tr th {\n",
       "        vertical-align: top;\n",
       "    }\n",
       "\n",
       "    .dataframe thead th {\n",
       "        text-align: right;\n",
       "    }\n",
       "</style>\n",
       "<table border=\"1\" class=\"dataframe\">\n",
       "  <thead>\n",
       "    <tr style=\"text-align: right;\">\n",
       "      <th></th>\n",
       "      <th>tx</th>\n",
       "      <th>ty</th>\n",
       "      <th>tz</th>\n",
       "      <th>qx</th>\n",
       "      <th>qy</th>\n",
       "      <th>qz</th>\n",
       "      <th>qw</th>\n",
       "    </tr>\n",
       "  </thead>\n",
       "  <tbody>\n",
       "    <tr>\n",
       "      <th>1</th>\n",
       "      <td>4.310910</td>\n",
       "      <td>0.019995</td>\n",
       "      <td>-0.874450</td>\n",
       "      <td>0.052461</td>\n",
       "      <td>0.705153</td>\n",
       "      <td>-0.705118</td>\n",
       "      <td>-0.053065</td>\n",
       "    </tr>\n",
       "    <tr>\n",
       "      <th>2</th>\n",
       "      <td>4.307084</td>\n",
       "      <td>0.034576</td>\n",
       "      <td>-0.880641</td>\n",
       "      <td>0.040051</td>\n",
       "      <td>0.705947</td>\n",
       "      <td>-0.705942</td>\n",
       "      <td>-0.040992</td>\n",
       "    </tr>\n",
       "    <tr>\n",
       "      <th>3</th>\n",
       "      <td>4.301862</td>\n",
       "      <td>0.053290</td>\n",
       "      <td>-0.889118</td>\n",
       "      <td>-0.028785</td>\n",
       "      <td>-0.706464</td>\n",
       "      <td>0.706525</td>\n",
       "      <td>0.030049</td>\n",
       "    </tr>\n",
       "    <tr>\n",
       "      <th>4</th>\n",
       "      <td>4.295673</td>\n",
       "      <td>0.074945</td>\n",
       "      <td>-0.899532</td>\n",
       "      <td>-0.020226</td>\n",
       "      <td>-0.706718</td>\n",
       "      <td>0.706871</td>\n",
       "      <td>0.021762</td>\n",
       "    </tr>\n",
       "    <tr>\n",
       "      <th>5</th>\n",
       "      <td>4.288587</td>\n",
       "      <td>0.099754</td>\n",
       "      <td>-0.912179</td>\n",
       "      <td>-0.013528</td>\n",
       "      <td>-0.706836</td>\n",
       "      <td>0.707083</td>\n",
       "      <td>0.015316</td>\n",
       "    </tr>\n",
       "    <tr>\n",
       "      <th>6</th>\n",
       "      <td>4.281263</td>\n",
       "      <td>0.125798</td>\n",
       "      <td>-0.926339</td>\n",
       "      <td>-0.008569</td>\n",
       "      <td>-0.706887</td>\n",
       "      <td>0.707195</td>\n",
       "      <td>0.010593</td>\n",
       "    </tr>\n",
       "    <tr>\n",
       "      <th>7</th>\n",
       "      <td>4.274051</td>\n",
       "      <td>0.152010</td>\n",
       "      <td>-0.941572</td>\n",
       "      <td>-0.005037</td>\n",
       "      <td>-0.706921</td>\n",
       "      <td>0.707237</td>\n",
       "      <td>0.007288</td>\n",
       "    </tr>\n",
       "    <tr>\n",
       "      <th>8</th>\n",
       "      <td>4.267397</td>\n",
       "      <td>0.177027</td>\n",
       "      <td>-0.956891</td>\n",
       "      <td>-0.002955</td>\n",
       "      <td>-0.706952</td>\n",
       "      <td>0.707235</td>\n",
       "      <td>0.005395</td>\n",
       "    </tr>\n",
       "    <tr>\n",
       "      <th>9</th>\n",
       "      <td>4.261062</td>\n",
       "      <td>0.201974</td>\n",
       "      <td>-0.972804</td>\n",
       "      <td>-0.002207</td>\n",
       "      <td>-0.706985</td>\n",
       "      <td>0.707208</td>\n",
       "      <td>0.004784</td>\n",
       "    </tr>\n",
       "    <tr>\n",
       "      <th>10</th>\n",
       "      <td>4.255434</td>\n",
       "      <td>0.225576</td>\n",
       "      <td>-0.988388</td>\n",
       "      <td>-0.002887</td>\n",
       "      <td>-0.707019</td>\n",
       "      <td>0.707167</td>\n",
       "      <td>0.005526</td>\n",
       "    </tr>\n",
       "    <tr>\n",
       "      <th>11</th>\n",
       "      <td>4.250672</td>\n",
       "      <td>0.247564</td>\n",
       "      <td>-1.003395</td>\n",
       "      <td>-0.004966</td>\n",
       "      <td>-0.707047</td>\n",
       "      <td>0.707108</td>\n",
       "      <td>0.007595</td>\n",
       "    </tr>\n",
       "    <tr>\n",
       "      <th>12</th>\n",
       "      <td>4.246988</td>\n",
       "      <td>0.267100</td>\n",
       "      <td>-1.017186</td>\n",
       "      <td>0.008276</td>\n",
       "      <td>0.707056</td>\n",
       "      <td>-0.707026</td>\n",
       "      <td>-0.010839</td>\n",
       "    </tr>\n",
       "    <tr>\n",
       "      <th>13</th>\n",
       "      <td>4.244194</td>\n",
       "      <td>0.285224</td>\n",
       "      <td>-1.030461</td>\n",
       "      <td>0.012945</td>\n",
       "      <td>0.707024</td>\n",
       "      <td>-0.706903</td>\n",
       "      <td>-0.015391</td>\n",
       "    </tr>\n",
       "    <tr>\n",
       "      <th>14</th>\n",
       "      <td>4.242437</td>\n",
       "      <td>0.301219</td>\n",
       "      <td>-1.042634</td>\n",
       "      <td>0.018534</td>\n",
       "      <td>0.706911</td>\n",
       "      <td>-0.706753</td>\n",
       "      <td>-0.020815</td>\n",
       "    </tr>\n",
       "    <tr>\n",
       "      <th>15</th>\n",
       "      <td>4.241690</td>\n",
       "      <td>0.314677</td>\n",
       "      <td>-1.053279</td>\n",
       "      <td>0.024407</td>\n",
       "      <td>0.706689</td>\n",
       "      <td>-0.706608</td>\n",
       "      <td>-0.026484</td>\n",
       "    </tr>\n",
       "    <tr>\n",
       "      <th>16</th>\n",
       "      <td>4.241794</td>\n",
       "      <td>0.326462</td>\n",
       "      <td>-1.062993</td>\n",
       "      <td>-0.030521</td>\n",
       "      <td>-0.706320</td>\n",
       "      <td>0.706495</td>\n",
       "      <td>0.032344</td>\n",
       "    </tr>\n",
       "    <tr>\n",
       "      <th>17</th>\n",
       "      <td>4.242667</td>\n",
       "      <td>0.336196</td>\n",
       "      <td>-1.071392</td>\n",
       "      <td>-0.036377</td>\n",
       "      <td>-0.705827</td>\n",
       "      <td>0.706433</td>\n",
       "      <td>0.037917</td>\n",
       "    </tr>\n",
       "    <tr>\n",
       "      <th>18</th>\n",
       "      <td>4.244197</td>\n",
       "      <td>0.344036</td>\n",
       "      <td>-1.078497</td>\n",
       "      <td>-0.041725</td>\n",
       "      <td>-0.705250</td>\n",
       "      <td>0.706424</td>\n",
       "      <td>0.042969</td>\n",
       "    </tr>\n",
       "    <tr>\n",
       "      <th>19</th>\n",
       "      <td>4.246197</td>\n",
       "      <td>0.349976</td>\n",
       "      <td>-1.084168</td>\n",
       "      <td>-0.046200</td>\n",
       "      <td>-0.704655</td>\n",
       "      <td>0.706472</td>\n",
       "      <td>0.047167</td>\n",
       "    </tr>\n",
       "    <tr>\n",
       "      <th>20</th>\n",
       "      <td>4.248695</td>\n",
       "      <td>0.354593</td>\n",
       "      <td>-1.088897</td>\n",
       "      <td>-0.050105</td>\n",
       "      <td>-0.704046</td>\n",
       "      <td>0.706558</td>\n",
       "      <td>0.050841</td>\n",
       "    </tr>\n",
       "    <tr>\n",
       "      <th>21</th>\n",
       "      <td>4.251560</td>\n",
       "      <td>0.357892</td>\n",
       "      <td>-1.092692</td>\n",
       "      <td>-0.053490</td>\n",
       "      <td>-0.703483</td>\n",
       "      <td>0.706628</td>\n",
       "      <td>0.054109</td>\n",
       "    </tr>\n",
       "    <tr>\n",
       "      <th>22</th>\n",
       "      <td>4.254731</td>\n",
       "      <td>0.360094</td>\n",
       "      <td>-1.095766</td>\n",
       "      <td>-0.056567</td>\n",
       "      <td>-0.702999</td>\n",
       "      <td>0.706623</td>\n",
       "      <td>0.057241</td>\n",
       "    </tr>\n",
       "    <tr>\n",
       "      <th>23</th>\n",
       "      <td>4.258074</td>\n",
       "      <td>0.361343</td>\n",
       "      <td>-1.098189</td>\n",
       "      <td>-0.059447</td>\n",
       "      <td>-0.702611</td>\n",
       "      <td>0.706517</td>\n",
       "      <td>0.060313</td>\n",
       "    </tr>\n",
       "    <tr>\n",
       "      <th>24</th>\n",
       "      <td>4.261820</td>\n",
       "      <td>0.361839</td>\n",
       "      <td>-1.100179</td>\n",
       "      <td>-0.062509</td>\n",
       "      <td>-0.702270</td>\n",
       "      <td>0.706303</td>\n",
       "      <td>0.063598</td>\n",
       "    </tr>\n",
       "    <tr>\n",
       "      <th>25</th>\n",
       "      <td>4.265885</td>\n",
       "      <td>0.361642</td>\n",
       "      <td>-1.101711</td>\n",
       "      <td>-0.065854</td>\n",
       "      <td>-0.701964</td>\n",
       "      <td>0.705983</td>\n",
       "      <td>0.067066</td>\n",
       "    </tr>\n",
       "    <tr>\n",
       "      <th>26</th>\n",
       "      <td>4.270244</td>\n",
       "      <td>0.360862</td>\n",
       "      <td>-1.102825</td>\n",
       "      <td>-0.069544</td>\n",
       "      <td>-0.701667</td>\n",
       "      <td>0.705569</td>\n",
       "      <td>0.070702</td>\n",
       "    </tr>\n",
       "    <tr>\n",
       "      <th>27</th>\n",
       "      <td>4.274663</td>\n",
       "      <td>0.359654</td>\n",
       "      <td>-1.103523</td>\n",
       "      <td>-0.073297</td>\n",
       "      <td>-0.701377</td>\n",
       "      <td>0.705115</td>\n",
       "      <td>0.074236</td>\n",
       "    </tr>\n",
       "    <tr>\n",
       "      <th>28</th>\n",
       "      <td>4.279334</td>\n",
       "      <td>0.358054</td>\n",
       "      <td>-1.103863</td>\n",
       "      <td>-0.077177</td>\n",
       "      <td>-0.701065</td>\n",
       "      <td>0.704634</td>\n",
       "      <td>0.077731</td>\n",
       "    </tr>\n",
       "    <tr>\n",
       "      <th>29</th>\n",
       "      <td>4.284031</td>\n",
       "      <td>0.356239</td>\n",
       "      <td>-1.103864</td>\n",
       "      <td>-0.080907</td>\n",
       "      <td>-0.700746</td>\n",
       "      <td>0.704171</td>\n",
       "      <td>0.080943</td>\n",
       "    </tr>\n",
       "    <tr>\n",
       "      <th>30</th>\n",
       "      <td>4.288544</td>\n",
       "      <td>0.354472</td>\n",
       "      <td>-1.103660</td>\n",
       "      <td>-0.084274</td>\n",
       "      <td>-0.700462</td>\n",
       "      <td>0.703731</td>\n",
       "      <td>0.083752</td>\n",
       "    </tr>\n",
       "    <tr>\n",
       "      <th>...</th>\n",
       "      <td>...</td>\n",
       "      <td>...</td>\n",
       "      <td>...</td>\n",
       "      <td>...</td>\n",
       "      <td>...</td>\n",
       "      <td>...</td>\n",
       "      <td>...</td>\n",
       "    </tr>\n",
       "    <tr>\n",
       "      <th>1092</th>\n",
       "      <td>18.473611</td>\n",
       "      <td>-1.599358</td>\n",
       "      <td>0.747658</td>\n",
       "      <td>-0.061849</td>\n",
       "      <td>0.067348</td>\n",
       "      <td>0.930065</td>\n",
       "      <td>0.355834</td>\n",
       "    </tr>\n",
       "    <tr>\n",
       "      <th>1093</th>\n",
       "      <td>18.287239</td>\n",
       "      <td>-1.552662</td>\n",
       "      <td>0.748478</td>\n",
       "      <td>-0.012620</td>\n",
       "      <td>0.044865</td>\n",
       "      <td>0.921256</td>\n",
       "      <td>0.386154</td>\n",
       "    </tr>\n",
       "    <tr>\n",
       "      <th>1094</th>\n",
       "      <td>18.113915</td>\n",
       "      <td>-1.506659</td>\n",
       "      <td>0.754457</td>\n",
       "      <td>0.040787</td>\n",
       "      <td>0.024611</td>\n",
       "      <td>0.908092</td>\n",
       "      <td>0.416052</td>\n",
       "    </tr>\n",
       "    <tr>\n",
       "      <th>1095</th>\n",
       "      <td>17.948029</td>\n",
       "      <td>-1.469883</td>\n",
       "      <td>0.761236</td>\n",
       "      <td>0.099032</td>\n",
       "      <td>0.007280</td>\n",
       "      <td>0.889729</td>\n",
       "      <td>0.445559</td>\n",
       "    </tr>\n",
       "    <tr>\n",
       "      <th>1096</th>\n",
       "      <td>17.780875</td>\n",
       "      <td>-1.446776</td>\n",
       "      <td>0.763427</td>\n",
       "      <td>0.163045</td>\n",
       "      <td>-0.006476</td>\n",
       "      <td>0.864814</td>\n",
       "      <td>0.474837</td>\n",
       "    </tr>\n",
       "    <tr>\n",
       "      <th>1097</th>\n",
       "      <td>17.608750</td>\n",
       "      <td>-1.428354</td>\n",
       "      <td>0.759220</td>\n",
       "      <td>0.228989</td>\n",
       "      <td>-0.015942</td>\n",
       "      <td>0.833422</td>\n",
       "      <td>0.502711</td>\n",
       "    </tr>\n",
       "    <tr>\n",
       "      <th>1098</th>\n",
       "      <td>17.422057</td>\n",
       "      <td>-1.399120</td>\n",
       "      <td>0.751371</td>\n",
       "      <td>0.294772</td>\n",
       "      <td>-0.021121</td>\n",
       "      <td>0.795488</td>\n",
       "      <td>0.529021</td>\n",
       "    </tr>\n",
       "    <tr>\n",
       "      <th>1099</th>\n",
       "      <td>17.222577</td>\n",
       "      <td>-1.348348</td>\n",
       "      <td>0.744090</td>\n",
       "      <td>0.356640</td>\n",
       "      <td>-0.022174</td>\n",
       "      <td>0.752907</td>\n",
       "      <td>0.552673</td>\n",
       "    </tr>\n",
       "    <tr>\n",
       "      <th>1100</th>\n",
       "      <td>17.007339</td>\n",
       "      <td>-1.276903</td>\n",
       "      <td>0.737837</td>\n",
       "      <td>0.417479</td>\n",
       "      <td>-0.019615</td>\n",
       "      <td>0.703899</td>\n",
       "      <td>0.574328</td>\n",
       "    </tr>\n",
       "    <tr>\n",
       "      <th>1101</th>\n",
       "      <td>16.792099</td>\n",
       "      <td>-1.196253</td>\n",
       "      <td>0.728214</td>\n",
       "      <td>0.474462</td>\n",
       "      <td>-0.013943</td>\n",
       "      <td>0.651107</td>\n",
       "      <td>0.592243</td>\n",
       "    </tr>\n",
       "    <tr>\n",
       "      <th>1102</th>\n",
       "      <td>16.586946</td>\n",
       "      <td>-1.117925</td>\n",
       "      <td>0.710324</td>\n",
       "      <td>0.525551</td>\n",
       "      <td>-0.005945</td>\n",
       "      <td>0.597888</td>\n",
       "      <td>0.605220</td>\n",
       "    </tr>\n",
       "    <tr>\n",
       "      <th>1103</th>\n",
       "      <td>16.370772</td>\n",
       "      <td>-1.033930</td>\n",
       "      <td>0.687862</td>\n",
       "      <td>0.574005</td>\n",
       "      <td>0.004604</td>\n",
       "      <td>0.542251</td>\n",
       "      <td>0.613564</td>\n",
       "    </tr>\n",
       "    <tr>\n",
       "      <th>1104</th>\n",
       "      <td>16.148876</td>\n",
       "      <td>-0.941084</td>\n",
       "      <td>0.674650</td>\n",
       "      <td>0.617022</td>\n",
       "      <td>0.016638</td>\n",
       "      <td>0.488979</td>\n",
       "      <td>0.616365</td>\n",
       "    </tr>\n",
       "    <tr>\n",
       "      <th>1105</th>\n",
       "      <td>15.901504</td>\n",
       "      <td>-0.825482</td>\n",
       "      <td>0.684343</td>\n",
       "      <td>0.657791</td>\n",
       "      <td>0.030482</td>\n",
       "      <td>0.435968</td>\n",
       "      <td>0.613444</td>\n",
       "    </tr>\n",
       "    <tr>\n",
       "      <th>1106</th>\n",
       "      <td>15.648234</td>\n",
       "      <td>-0.699765</td>\n",
       "      <td>0.717808</td>\n",
       "      <td>0.693958</td>\n",
       "      <td>0.045274</td>\n",
       "      <td>0.387267</td>\n",
       "      <td>0.605307</td>\n",
       "    </tr>\n",
       "    <tr>\n",
       "      <th>1107</th>\n",
       "      <td>15.388022</td>\n",
       "      <td>-0.573351</td>\n",
       "      <td>0.765745</td>\n",
       "      <td>0.726902</td>\n",
       "      <td>0.061628</td>\n",
       "      <td>0.341498</td>\n",
       "      <td>0.592617</td>\n",
       "    </tr>\n",
       "    <tr>\n",
       "      <th>1108</th>\n",
       "      <td>15.124413</td>\n",
       "      <td>-0.457144</td>\n",
       "      <td>0.817829</td>\n",
       "      <td>0.756723</td>\n",
       "      <td>0.079579</td>\n",
       "      <td>0.298903</td>\n",
       "      <td>0.575930</td>\n",
       "    </tr>\n",
       "    <tr>\n",
       "      <th>1109</th>\n",
       "      <td>14.860662</td>\n",
       "      <td>-0.356238</td>\n",
       "      <td>0.866341</td>\n",
       "      <td>0.783422</td>\n",
       "      <td>0.098961</td>\n",
       "      <td>0.259272</td>\n",
       "      <td>0.556088</td>\n",
       "    </tr>\n",
       "    <tr>\n",
       "      <th>1110</th>\n",
       "      <td>14.599787</td>\n",
       "      <td>-0.269388</td>\n",
       "      <td>0.905614</td>\n",
       "      <td>0.806823</td>\n",
       "      <td>0.119550</td>\n",
       "      <td>0.221939</td>\n",
       "      <td>0.534310</td>\n",
       "    </tr>\n",
       "    <tr>\n",
       "      <th>1111</th>\n",
       "      <td>14.351668</td>\n",
       "      <td>-0.194951</td>\n",
       "      <td>0.929384</td>\n",
       "      <td>0.826176</td>\n",
       "      <td>0.140380</td>\n",
       "      <td>0.187352</td>\n",
       "      <td>0.512470</td>\n",
       "    </tr>\n",
       "    <tr>\n",
       "      <th>1112</th>\n",
       "      <td>14.099518</td>\n",
       "      <td>-0.122842</td>\n",
       "      <td>0.936292</td>\n",
       "      <td>0.842751</td>\n",
       "      <td>0.162455</td>\n",
       "      <td>0.152450</td>\n",
       "      <td>0.490038</td>\n",
       "    </tr>\n",
       "    <tr>\n",
       "      <th>1113</th>\n",
       "      <td>13.848734</td>\n",
       "      <td>-0.052177</td>\n",
       "      <td>0.927605</td>\n",
       "      <td>0.855931</td>\n",
       "      <td>0.184746</td>\n",
       "      <td>0.117433</td>\n",
       "      <td>0.468466</td>\n",
       "    </tr>\n",
       "    <tr>\n",
       "      <th>1114</th>\n",
       "      <td>13.595917</td>\n",
       "      <td>0.020610</td>\n",
       "      <td>0.907437</td>\n",
       "      <td>0.865712</td>\n",
       "      <td>0.206994</td>\n",
       "      <td>0.081324</td>\n",
       "      <td>0.448421</td>\n",
       "    </tr>\n",
       "    <tr>\n",
       "      <th>1115</th>\n",
       "      <td>13.338268</td>\n",
       "      <td>0.097967</td>\n",
       "      <td>0.881647</td>\n",
       "      <td>0.872104</td>\n",
       "      <td>0.228878</td>\n",
       "      <td>0.043400</td>\n",
       "      <td>0.430309</td>\n",
       "    </tr>\n",
       "    <tr>\n",
       "      <th>1116</th>\n",
       "      <td>13.077831</td>\n",
       "      <td>0.174042</td>\n",
       "      <td>0.858061</td>\n",
       "      <td>0.875388</td>\n",
       "      <td>0.249831</td>\n",
       "      <td>0.003869</td>\n",
       "      <td>0.413842</td>\n",
       "    </tr>\n",
       "    <tr>\n",
       "      <th>1117</th>\n",
       "      <td>12.819250</td>\n",
       "      <td>0.240567</td>\n",
       "      <td>0.843723</td>\n",
       "      <td>0.875931</td>\n",
       "      <td>0.269262</td>\n",
       "      <td>-0.036802</td>\n",
       "      <td>0.398609</td>\n",
       "    </tr>\n",
       "    <tr>\n",
       "      <th>1118</th>\n",
       "      <td>12.568140</td>\n",
       "      <td>0.291798</td>\n",
       "      <td>0.843367</td>\n",
       "      <td>0.874120</td>\n",
       "      <td>0.286704</td>\n",
       "      <td>-0.078092</td>\n",
       "      <td>0.384208</td>\n",
       "    </tr>\n",
       "    <tr>\n",
       "      <th>1119</th>\n",
       "      <td>12.334520</td>\n",
       "      <td>0.341262</td>\n",
       "      <td>0.848481</td>\n",
       "      <td>0.870487</td>\n",
       "      <td>0.301729</td>\n",
       "      <td>-0.119444</td>\n",
       "      <td>0.370059</td>\n",
       "    </tr>\n",
       "    <tr>\n",
       "      <th>1120</th>\n",
       "      <td>12.127578</td>\n",
       "      <td>0.411850</td>\n",
       "      <td>0.841411</td>\n",
       "      <td>0.865657</td>\n",
       "      <td>0.313862</td>\n",
       "      <td>-0.160334</td>\n",
       "      <td>0.355557</td>\n",
       "    </tr>\n",
       "    <tr>\n",
       "      <th>1121</th>\n",
       "      <td>11.953262</td>\n",
       "      <td>0.524814</td>\n",
       "      <td>0.803447</td>\n",
       "      <td>0.860255</td>\n",
       "      <td>0.322694</td>\n",
       "      <td>-0.200205</td>\n",
       "      <td>0.340218</td>\n",
       "    </tr>\n",
       "  </tbody>\n",
       "</table>\n",
       "<p>1121 rows × 7 columns</p>\n",
       "</div>"
      ],
      "text/plain": [
       "             tx        ty        tz        qx        qy        qz        qw\n",
       "1      4.310910  0.019995 -0.874450  0.052461  0.705153 -0.705118 -0.053065\n",
       "2      4.307084  0.034576 -0.880641  0.040051  0.705947 -0.705942 -0.040992\n",
       "3      4.301862  0.053290 -0.889118 -0.028785 -0.706464  0.706525  0.030049\n",
       "4      4.295673  0.074945 -0.899532 -0.020226 -0.706718  0.706871  0.021762\n",
       "5      4.288587  0.099754 -0.912179 -0.013528 -0.706836  0.707083  0.015316\n",
       "6      4.281263  0.125798 -0.926339 -0.008569 -0.706887  0.707195  0.010593\n",
       "7      4.274051  0.152010 -0.941572 -0.005037 -0.706921  0.707237  0.007288\n",
       "8      4.267397  0.177027 -0.956891 -0.002955 -0.706952  0.707235  0.005395\n",
       "9      4.261062  0.201974 -0.972804 -0.002207 -0.706985  0.707208  0.004784\n",
       "10     4.255434  0.225576 -0.988388 -0.002887 -0.707019  0.707167  0.005526\n",
       "11     4.250672  0.247564 -1.003395 -0.004966 -0.707047  0.707108  0.007595\n",
       "12     4.246988  0.267100 -1.017186  0.008276  0.707056 -0.707026 -0.010839\n",
       "13     4.244194  0.285224 -1.030461  0.012945  0.707024 -0.706903 -0.015391\n",
       "14     4.242437  0.301219 -1.042634  0.018534  0.706911 -0.706753 -0.020815\n",
       "15     4.241690  0.314677 -1.053279  0.024407  0.706689 -0.706608 -0.026484\n",
       "16     4.241794  0.326462 -1.062993 -0.030521 -0.706320  0.706495  0.032344\n",
       "17     4.242667  0.336196 -1.071392 -0.036377 -0.705827  0.706433  0.037917\n",
       "18     4.244197  0.344036 -1.078497 -0.041725 -0.705250  0.706424  0.042969\n",
       "19     4.246197  0.349976 -1.084168 -0.046200 -0.704655  0.706472  0.047167\n",
       "20     4.248695  0.354593 -1.088897 -0.050105 -0.704046  0.706558  0.050841\n",
       "21     4.251560  0.357892 -1.092692 -0.053490 -0.703483  0.706628  0.054109\n",
       "22     4.254731  0.360094 -1.095766 -0.056567 -0.702999  0.706623  0.057241\n",
       "23     4.258074  0.361343 -1.098189 -0.059447 -0.702611  0.706517  0.060313\n",
       "24     4.261820  0.361839 -1.100179 -0.062509 -0.702270  0.706303  0.063598\n",
       "25     4.265885  0.361642 -1.101711 -0.065854 -0.701964  0.705983  0.067066\n",
       "26     4.270244  0.360862 -1.102825 -0.069544 -0.701667  0.705569  0.070702\n",
       "27     4.274663  0.359654 -1.103523 -0.073297 -0.701377  0.705115  0.074236\n",
       "28     4.279334  0.358054 -1.103863 -0.077177 -0.701065  0.704634  0.077731\n",
       "29     4.284031  0.356239 -1.103864 -0.080907 -0.700746  0.704171  0.080943\n",
       "30     4.288544  0.354472 -1.103660 -0.084274 -0.700462  0.703731  0.083752\n",
       "...         ...       ...       ...       ...       ...       ...       ...\n",
       "1092  18.473611 -1.599358  0.747658 -0.061849  0.067348  0.930065  0.355834\n",
       "1093  18.287239 -1.552662  0.748478 -0.012620  0.044865  0.921256  0.386154\n",
       "1094  18.113915 -1.506659  0.754457  0.040787  0.024611  0.908092  0.416052\n",
       "1095  17.948029 -1.469883  0.761236  0.099032  0.007280  0.889729  0.445559\n",
       "1096  17.780875 -1.446776  0.763427  0.163045 -0.006476  0.864814  0.474837\n",
       "1097  17.608750 -1.428354  0.759220  0.228989 -0.015942  0.833422  0.502711\n",
       "1098  17.422057 -1.399120  0.751371  0.294772 -0.021121  0.795488  0.529021\n",
       "1099  17.222577 -1.348348  0.744090  0.356640 -0.022174  0.752907  0.552673\n",
       "1100  17.007339 -1.276903  0.737837  0.417479 -0.019615  0.703899  0.574328\n",
       "1101  16.792099 -1.196253  0.728214  0.474462 -0.013943  0.651107  0.592243\n",
       "1102  16.586946 -1.117925  0.710324  0.525551 -0.005945  0.597888  0.605220\n",
       "1103  16.370772 -1.033930  0.687862  0.574005  0.004604  0.542251  0.613564\n",
       "1104  16.148876 -0.941084  0.674650  0.617022  0.016638  0.488979  0.616365\n",
       "1105  15.901504 -0.825482  0.684343  0.657791  0.030482  0.435968  0.613444\n",
       "1106  15.648234 -0.699765  0.717808  0.693958  0.045274  0.387267  0.605307\n",
       "1107  15.388022 -0.573351  0.765745  0.726902  0.061628  0.341498  0.592617\n",
       "1108  15.124413 -0.457144  0.817829  0.756723  0.079579  0.298903  0.575930\n",
       "1109  14.860662 -0.356238  0.866341  0.783422  0.098961  0.259272  0.556088\n",
       "1110  14.599787 -0.269388  0.905614  0.806823  0.119550  0.221939  0.534310\n",
       "1111  14.351668 -0.194951  0.929384  0.826176  0.140380  0.187352  0.512470\n",
       "1112  14.099518 -0.122842  0.936292  0.842751  0.162455  0.152450  0.490038\n",
       "1113  13.848734 -0.052177  0.927605  0.855931  0.184746  0.117433  0.468466\n",
       "1114  13.595917  0.020610  0.907437  0.865712  0.206994  0.081324  0.448421\n",
       "1115  13.338268  0.097967  0.881647  0.872104  0.228878  0.043400  0.430309\n",
       "1116  13.077831  0.174042  0.858061  0.875388  0.249831  0.003869  0.413842\n",
       "1117  12.819250  0.240567  0.843723  0.875931  0.269262 -0.036802  0.398609\n",
       "1118  12.568140  0.291798  0.843367  0.874120  0.286704 -0.078092  0.384208\n",
       "1119  12.334520  0.341262  0.848481  0.870487  0.301729 -0.119444  0.370059\n",
       "1120  12.127578  0.411850  0.841411  0.865657  0.313862 -0.160334  0.355557\n",
       "1121  11.953262  0.524814  0.803447  0.860255  0.322694 -0.200205  0.340218\n",
       "\n",
       "[1121 rows x 7 columns]"
      ]
     },
     "execution_count": 72,
     "metadata": {},
     "output_type": "execute_result"
    }
   ],
   "source": [
    "targets"
   ]
  },
  {
   "cell_type": "code",
   "execution_count": 40,
   "metadata": {},
   "outputs": [
    {
     "data": {
      "text/plain": [
       "[<matplotlib.lines.Line2D at 0x7ff2c61616a0>]"
      ]
     },
     "execution_count": 40,
     "metadata": {},
     "output_type": "execute_result"
    },
    {
     "data": {
      "image/png": "[encoded data removed]",
      "text/plain": [
       "<Figure size 432x288 with 1 Axes>"
      ]
     },
     "metadata": {
      "needs_background": "light"
     },
     "output_type": "display_data"
    }
   ],
   "source": [
    "fig = plt.figure()\n",
    "ax = fig.add_subplot(111)\n",
    "ax.plot(zerotargets[:,0],zerotargets[:,1])"
   ]
  },
  {
   "cell_type": "code",
   "execution_count": 39,
   "metadata": {},
   "outputs": [
    {
     "data": {
      "text/plain": [
       "[<matplotlib.lines.Line2D at 0x7ff2c61a4c18>]"
      ]
     },
     "execution_count": 39,
     "metadata": {},
     "output_type": "execute_result"
    },
    {
     "data": {
      "image/png": "[encoded data removed]",
      "text/plain": [
       "<Figure size 432x288 with 1 Axes>"
      ]
     },
     "metadata": {
      "needs_background": "light"
     },
     "output_type": "display_data"
    }
   ],
   "source": [
    "fig = plt.figure()\n",
    "ax=fig.add_subplot(111)\n",
    "ax.plot(zeropreds[:,0],zeropreds[:,1])"
   ]
  },
  {
   "cell_type": "code",
   "execution_count": null,
   "metadata": {},
   "outputs": [],
   "source": []
  },
  {
   "cell_type": "code",
   "execution_count": null,
   "metadata": {},
   "outputs": [],
   "source": []
  },
  {
   "cell_type": "code",
   "execution_count": null,
   "metadata": {},
   "outputs": [],
   "source": []
  },
  {
   "cell_type": "code",
   "execution_count": 58,
   "metadata": {
    "collapsed": true
   },
   "outputs": [
    {
     "name": "stderr",
     "output_type": "stream",
     "text": [
      "/home/poxlox/anaconda3/lib/python3.7/site-packages/ipykernel_launcher.py:5: SettingWithCopyWarning: \n",
      "A value is trying to be set on a copy of a slice from a DataFrame.\n",
      "Try using .loc[row_indexer,col_indexer] = value instead\n",
      "\n",
      "See the caveats in the documentation: http://pandas.pydata.org/pandas-docs/stable/indexing.html#indexing-view-versus-copy\n",
      "  \"\"\"\n"
     ]
    },
    {
     "ename": "FileNotFoundError",
     "evalue": "[Errno 2] File b'indoor/drone_5/groundtruth.txt' does not exist: b'indoor/drone_5/groundtruth.txt'",
     "output_type": "error",
     "traceback": [
      "\u001b[0;31m---------------------------------------------------------------------------\u001b[0m",
      "\u001b[0;31mFileNotFoundError\u001b[0m                         Traceback (most recent call last)",
      "\u001b[0;32m<ipython-input-58-37d2c48b464c>\u001b[0m in \u001b[0;36m<module>\u001b[0;34m\u001b[0m\n\u001b[1;32m      2\u001b[0m \u001b[0md\u001b[0m\u001b[0;34m=\u001b[0m\u001b[0;34m{\u001b[0m\u001b[0;34m}\u001b[0m\u001b[0;34m\u001b[0m\u001b[0;34m\u001b[0m\u001b[0m\n\u001b[1;32m      3\u001b[0m \u001b[0;32mfor\u001b[0m \u001b[0mx\u001b[0m \u001b[0;32min\u001b[0m \u001b[0mdronenumbers\u001b[0m\u001b[0;34m:\u001b[0m\u001b[0;34m\u001b[0m\u001b[0;34m\u001b[0m\u001b[0m\n\u001b[0;32m----> 4\u001b[0;31m     \u001b[0mdf\u001b[0m\u001b[0;34m=\u001b[0m\u001b[0mpd\u001b[0m\u001b[0;34m.\u001b[0m\u001b[0mread_csv\u001b[0m\u001b[0;34m(\u001b[0m\u001b[0;34mf'indoor/drone_{x}/groundtruth.txt'\u001b[0m\u001b[0;34m,\u001b[0m \u001b[0msep\u001b[0m\u001b[0;34m=\u001b[0m\u001b[0;34m' '\u001b[0m\u001b[0;34m,\u001b[0m \u001b[0mfloat_precision\u001b[0m\u001b[0;34m=\u001b[0m\u001b[0;34m'high'\u001b[0m\u001b[0;34m)\u001b[0m\u001b[0;34m\u001b[0m\u001b[0;34m\u001b[0m\u001b[0m\n\u001b[0m\u001b[1;32m      5\u001b[0m     \u001b[0mdf\u001b[0m\u001b[0;34m.\u001b[0m\u001b[0mdrop\u001b[0m\u001b[0;34m(\u001b[0m\u001b[0mlabels\u001b[0m\u001b[0;34m=\u001b[0m\u001b[0;34m[\u001b[0m\u001b[0;34m'qw'\u001b[0m\u001b[0;34m,\u001b[0m\u001b[0;34m'#'\u001b[0m\u001b[0;34m]\u001b[0m\u001b[0;34m,\u001b[0m\u001b[0maxis\u001b[0m\u001b[0;34m=\u001b[0m\u001b[0;36m1\u001b[0m\u001b[0;34m,\u001b[0m\u001b[0minplace\u001b[0m\u001b[0;34m=\u001b[0m\u001b[0;32mTrue\u001b[0m\u001b[0;34m)\u001b[0m\u001b[0;34m\u001b[0m\u001b[0;34m\u001b[0m\u001b[0m\n\u001b[1;32m      6\u001b[0m     \u001b[0mground\u001b[0m\u001b[0;34m=\u001b[0m\u001b[0mdf\u001b[0m\u001b[0;34m.\u001b[0m\u001b[0mrename\u001b[0m\u001b[0;34m(\u001b[0m\u001b[0mcolumns\u001b[0m\u001b[0;34m=\u001b[0m\u001b[0;34m{\u001b[0m\u001b[0;34m'qz'\u001b[0m\u001b[0;34m:\u001b[0m\u001b[0;34m'qw'\u001b[0m\u001b[0;34m,\u001b[0m\u001b[0;34m'qy'\u001b[0m\u001b[0;34m:\u001b[0m\u001b[0;34m'qz'\u001b[0m\u001b[0;34m,\u001b[0m\u001b[0;34m'qx'\u001b[0m\u001b[0;34m:\u001b[0m\u001b[0;34m'qy'\u001b[0m\u001b[0;34m,\u001b[0m\u001b[0;34m'tz'\u001b[0m\u001b[0;34m:\u001b[0m\u001b[0;34m'qx'\u001b[0m\u001b[0;34m,\u001b[0m\u001b[0;34m'ty'\u001b[0m\u001b[0;34m:\u001b[0m\u001b[0;34m'tz'\u001b[0m\u001b[0;34m,\u001b[0m\u001b[0;34m'tx'\u001b[0m\u001b[0;34m:\u001b[0m\u001b[0;34m'ty'\u001b[0m\u001b[0;34m,\u001b[0m\u001b[0;34m'timestamp'\u001b[0m\u001b[0;34m:\u001b[0m\u001b[0;34m'tx'\u001b[0m\u001b[0;34m,\u001b[0m\u001b[0;34m'id'\u001b[0m\u001b[0;34m:\u001b[0m\u001b[0;34m'timestamp'\u001b[0m\u001b[0;34m}\u001b[0m\u001b[0;34m)\u001b[0m\u001b[0;34m\u001b[0m\u001b[0;34m\u001b[0m\u001b[0m\n",
      "\u001b[0;32m~/anaconda3/lib/python3.7/site-packages/pandas/io/parsers.py\u001b[0m in \u001b[0;36mparser_f\u001b[0;34m(filepath_or_buffer, sep, delimiter, header, names, index_col, usecols, squeeze, prefix, mangle_dupe_cols, dtype, engine, converters, true_values, false_values, skipinitialspace, skiprows, skipfooter, nrows, na_values, keep_default_na, na_filter, verbose, skip_blank_lines, parse_dates, infer_datetime_format, keep_date_col, date_parser, dayfirst, iterator, chunksize, compression, thousands, decimal, lineterminator, quotechar, quoting, doublequote, escapechar, comment, encoding, dialect, tupleize_cols, error_bad_lines, warn_bad_lines, delim_whitespace, low_memory, memory_map, float_precision)\u001b[0m\n\u001b[1;32m    700\u001b[0m                     skip_blank_lines=skip_blank_lines)\n\u001b[1;32m    701\u001b[0m \u001b[0;34m\u001b[0m\u001b[0m\n\u001b[0;32m--> 702\u001b[0;31m         \u001b[0;32mreturn\u001b[0m \u001b[0m_read\u001b[0m\u001b[0;34m(\u001b[0m\u001b[0mfilepath_or_buffer\u001b[0m\u001b[0;34m,\u001b[0m \u001b[0mkwds\u001b[0m\u001b[0;34m)\u001b[0m\u001b[0;34m\u001b[0m\u001b[0;34m\u001b[0m\u001b[0m\n\u001b[0m\u001b[1;32m    703\u001b[0m \u001b[0;34m\u001b[0m\u001b[0m\n\u001b[1;32m    704\u001b[0m     \u001b[0mparser_f\u001b[0m\u001b[0;34m.\u001b[0m\u001b[0m__name__\u001b[0m \u001b[0;34m=\u001b[0m \u001b[0mname\u001b[0m\u001b[0;34m\u001b[0m\u001b[0;34m\u001b[0m\u001b[0m\n",
      "\u001b[0;32m~/anaconda3/lib/python3.7/site-packages/pandas/io/parsers.py\u001b[0m in \u001b[0;36m_read\u001b[0;34m(filepath_or_buffer, kwds)\u001b[0m\n\u001b[1;32m    427\u001b[0m \u001b[0;34m\u001b[0m\u001b[0m\n\u001b[1;32m    428\u001b[0m     \u001b[0;31m# Create the parser.\u001b[0m\u001b[0;34m\u001b[0m\u001b[0;34m\u001b[0m\u001b[0;34m\u001b[0m\u001b[0m\n\u001b[0;32m--> 429\u001b[0;31m     \u001b[0mparser\u001b[0m \u001b[0;34m=\u001b[0m \u001b[0mTextFileReader\u001b[0m\u001b[0;34m(\u001b[0m\u001b[0mfilepath_or_buffer\u001b[0m\u001b[0;34m,\u001b[0m \u001b[0;34m**\u001b[0m\u001b[0mkwds\u001b[0m\u001b[0;34m)\u001b[0m\u001b[0;34m\u001b[0m\u001b[0;34m\u001b[0m\u001b[0m\n\u001b[0m\u001b[1;32m    430\u001b[0m \u001b[0;34m\u001b[0m\u001b[0m\n\u001b[1;32m    431\u001b[0m     \u001b[0;32mif\u001b[0m \u001b[0mchunksize\u001b[0m \u001b[0;32mor\u001b[0m \u001b[0miterator\u001b[0m\u001b[0;34m:\u001b[0m\u001b[0;34m\u001b[0m\u001b[0;34m\u001b[0m\u001b[0m\n",
      "\u001b[0;32m~/anaconda3/lib/python3.7/site-packages/pandas/io/parsers.py\u001b[0m in \u001b[0;36m__init__\u001b[0;34m(self, f, engine, **kwds)\u001b[0m\n\u001b[1;32m    893\u001b[0m             \u001b[0mself\u001b[0m\u001b[0;34m.\u001b[0m\u001b[0moptions\u001b[0m\u001b[0;34m[\u001b[0m\u001b[0;34m'has_index_names'\u001b[0m\u001b[0;34m]\u001b[0m \u001b[0;34m=\u001b[0m \u001b[0mkwds\u001b[0m\u001b[0;34m[\u001b[0m\u001b[0;34m'has_index_names'\u001b[0m\u001b[0;34m]\u001b[0m\u001b[0;34m\u001b[0m\u001b[0;34m\u001b[0m\u001b[0m\n\u001b[1;32m    894\u001b[0m \u001b[0;34m\u001b[0m\u001b[0m\n\u001b[0;32m--> 895\u001b[0;31m         \u001b[0mself\u001b[0m\u001b[0;34m.\u001b[0m\u001b[0m_make_engine\u001b[0m\u001b[0;34m(\u001b[0m\u001b[0mself\u001b[0m\u001b[0;34m.\u001b[0m\u001b[0mengine\u001b[0m\u001b[0;34m)\u001b[0m\u001b[0;34m\u001b[0m\u001b[0;34m\u001b[0m\u001b[0m\n\u001b[0m\u001b[1;32m    896\u001b[0m \u001b[0;34m\u001b[0m\u001b[0m\n\u001b[1;32m    897\u001b[0m     \u001b[0;32mdef\u001b[0m \u001b[0mclose\u001b[0m\u001b[0;34m(\u001b[0m\u001b[0mself\u001b[0m\u001b[0;34m)\u001b[0m\u001b[0;34m:\u001b[0m\u001b[0;34m\u001b[0m\u001b[0;34m\u001b[0m\u001b[0m\n",
      "\u001b[0;32m~/anaconda3/lib/python3.7/site-packages/pandas/io/parsers.py\u001b[0m in \u001b[0;36m_make_engine\u001b[0;34m(self, engine)\u001b[0m\n\u001b[1;32m   1120\u001b[0m     \u001b[0;32mdef\u001b[0m \u001b[0m_make_engine\u001b[0m\u001b[0;34m(\u001b[0m\u001b[0mself\u001b[0m\u001b[0;34m,\u001b[0m \u001b[0mengine\u001b[0m\u001b[0;34m=\u001b[0m\u001b[0;34m'c'\u001b[0m\u001b[0;34m)\u001b[0m\u001b[0;34m:\u001b[0m\u001b[0;34m\u001b[0m\u001b[0;34m\u001b[0m\u001b[0m\n\u001b[1;32m   1121\u001b[0m         \u001b[0;32mif\u001b[0m \u001b[0mengine\u001b[0m \u001b[0;34m==\u001b[0m \u001b[0;34m'c'\u001b[0m\u001b[0;34m:\u001b[0m\u001b[0;34m\u001b[0m\u001b[0;34m\u001b[0m\u001b[0m\n\u001b[0;32m-> 1122\u001b[0;31m             \u001b[0mself\u001b[0m\u001b[0;34m.\u001b[0m\u001b[0m_engine\u001b[0m \u001b[0;34m=\u001b[0m \u001b[0mCParserWrapper\u001b[0m\u001b[0;34m(\u001b[0m\u001b[0mself\u001b[0m\u001b[0;34m.\u001b[0m\u001b[0mf\u001b[0m\u001b[0;34m,\u001b[0m \u001b[0;34m**\u001b[0m\u001b[0mself\u001b[0m\u001b[0;34m.\u001b[0m\u001b[0moptions\u001b[0m\u001b[0;34m)\u001b[0m\u001b[0;34m\u001b[0m\u001b[0;34m\u001b[0m\u001b[0m\n\u001b[0m\u001b[1;32m   1123\u001b[0m         \u001b[0;32melse\u001b[0m\u001b[0;34m:\u001b[0m\u001b[0;34m\u001b[0m\u001b[0;34m\u001b[0m\u001b[0m\n\u001b[1;32m   1124\u001b[0m             \u001b[0;32mif\u001b[0m \u001b[0mengine\u001b[0m \u001b[0;34m==\u001b[0m \u001b[0;34m'python'\u001b[0m\u001b[0;34m:\u001b[0m\u001b[0;34m\u001b[0m\u001b[0;34m\u001b[0m\u001b[0m\n",
      "\u001b[0;32m~/anaconda3/lib/python3.7/site-packages/pandas/io/parsers.py\u001b[0m in \u001b[0;36m__init__\u001b[0;34m(self, src, **kwds)\u001b[0m\n\u001b[1;32m   1851\u001b[0m         \u001b[0mkwds\u001b[0m\u001b[0;34m[\u001b[0m\u001b[0;34m'usecols'\u001b[0m\u001b[0;34m]\u001b[0m \u001b[0;34m=\u001b[0m \u001b[0mself\u001b[0m\u001b[0;34m.\u001b[0m\u001b[0musecols\u001b[0m\u001b[0;34m\u001b[0m\u001b[0;34m\u001b[0m\u001b[0m\n\u001b[1;32m   1852\u001b[0m \u001b[0;34m\u001b[0m\u001b[0m\n\u001b[0;32m-> 1853\u001b[0;31m         \u001b[0mself\u001b[0m\u001b[0;34m.\u001b[0m\u001b[0m_reader\u001b[0m \u001b[0;34m=\u001b[0m \u001b[0mparsers\u001b[0m\u001b[0;34m.\u001b[0m\u001b[0mTextReader\u001b[0m\u001b[0;34m(\u001b[0m\u001b[0msrc\u001b[0m\u001b[0;34m,\u001b[0m \u001b[0;34m**\u001b[0m\u001b[0mkwds\u001b[0m\u001b[0;34m)\u001b[0m\u001b[0;34m\u001b[0m\u001b[0;34m\u001b[0m\u001b[0m\n\u001b[0m\u001b[1;32m   1854\u001b[0m         \u001b[0mself\u001b[0m\u001b[0;34m.\u001b[0m\u001b[0munnamed_cols\u001b[0m \u001b[0;34m=\u001b[0m \u001b[0mself\u001b[0m\u001b[0;34m.\u001b[0m\u001b[0m_reader\u001b[0m\u001b[0;34m.\u001b[0m\u001b[0munnamed_cols\u001b[0m\u001b[0;34m\u001b[0m\u001b[0;34m\u001b[0m\u001b[0m\n\u001b[1;32m   1855\u001b[0m \u001b[0;34m\u001b[0m\u001b[0m\n",
      "\u001b[0;32mpandas/_libs/parsers.pyx\u001b[0m in \u001b[0;36mpandas._libs.parsers.TextReader.__cinit__\u001b[0;34m()\u001b[0m\n",
      "\u001b[0;32mpandas/_libs/parsers.pyx\u001b[0m in \u001b[0;36mpandas._libs.parsers.TextReader._setup_parser_source\u001b[0;34m()\u001b[0m\n",
      "\u001b[0;31mFileNotFoundError\u001b[0m: [Errno 2] File b'indoor/drone_5/groundtruth.txt' does not exist: b'indoor/drone_5/groundtruth.txt'"
     ]
    }
   ],
   "source": [
    "dronenumbers=[3,5,6,7,9]\n",
    "d={}\n",
    "for x in dronenumbers:\n",
    "    df=pd.read_csv(f'indoor/drone_{x}/groundtruth.txt', sep=' ', float_precision='high')\n",
    "    df.drop(labels=['qw','#'],axis=1,inplace=True)\n",
    "    ground=df.rename(columns={'qz':'qw','qy':'qz','qx':'qy','tz':'qx','ty':'tz','tx':'ty','timestamp':'tx','id':'timestamp'})\n",
    "    df=pd.read_csv(f'indoor/drone_{x}/images.txt', sep=' ',float_precision='high')\n",
    "    cols=df.columns\n",
    "    df.rename(columns={k:v for k,v in zip(df.columns[1:3],df.columns[2:])},inplace=True)\n",
    "    imdf=df.iloc[:,1:3]\n",
    "    targets=filter_by_timestamp_closest(imdf,ground)\n",
    "    images=np.array([[img_to_array(load_img(f'indoor/drone_{x}/'+targets.image_name.iloc[thing],color_mode='grayscale')),\n",
    "            img_to_array(load_img(f'indoor/drone_{x}/'+targets.image_name.iloc[thing+1],color_mode='grayscale'))] for thing in range(len(targets)-1)])\n",
    "    images=np.array(images)\n",
    "    targets=targets.iloc[1:,2:-1]\n",
    "    zerotargets=np.array(start_at_zeros(targets))\n",
    "    d[x]=[images,zerotargets]"
   ]
  },
  {
   "cell_type": "code",
   "execution_count": null,
   "metadata": {},
   "outputs": [],
   "source": [
    "trainimgs=np.array([d[x][0]for x in dronenumbers])\n",
    "trainlabels=np.array([d[x][1]for x in dronenumbers])\n",
    "trainimgs=np.vstack(trainimgs)\n",
    "trainlabels=np.vstack(trainlabels)\n",
    "testimgs=images\n",
    "testlabels=zerotargets"
   ]
  },
  {
   "cell_type": "code",
   "execution_count": 56,
   "metadata": {},
   "outputs": [
    {
     "ename": "NameError",
     "evalue": "name 'trainimgs' is not defined",
     "output_type": "error",
     "traceback": [
      "\u001b[0;31m---------------------------------------------------------------------------\u001b[0m",
      "\u001b[0;31mNameError\u001b[0m                                 Traceback (most recent call last)",
      "\u001b[0;32m<ipython-input-56-935ba37d76d0>\u001b[0m in \u001b[0;36m<module>\u001b[0;34m\u001b[0m\n\u001b[0;32m----> 1\u001b[0;31m \u001b[0mtrainimgs\u001b[0m\u001b[0;34m.\u001b[0m\u001b[0mshape\u001b[0m\u001b[0;34m\u001b[0m\u001b[0;34m\u001b[0m\u001b[0m\n\u001b[0m",
      "\u001b[0;31mNameError\u001b[0m: name 'trainimgs' is not defined"
     ]
    }
   ],
   "source": [
    "trainimgs.shape"
   ]
  },
  {
   "cell_type": "code",
   "execution_count": 144,
   "metadata": {},
   "outputs": [
    {
     "data": {
      "text/plain": [
       "(7988, 7)"
      ]
     },
     "execution_count": 144,
     "metadata": {},
     "output_type": "execute_result"
    }
   ],
   "source": [
    "trainlabels.shape"
   ]
  },
  {
   "cell_type": "code",
   "execution_count": 145,
   "metadata": {},
   "outputs": [
    {
     "data": {
      "text/plain": [
       "(1121, 2, 260, 346, 1)"
      ]
     },
     "execution_count": 145,
     "metadata": {},
     "output_type": "execute_result"
    }
   ],
   "source": [
    "testimgs.shape"
   ]
  },
  {
   "cell_type": "code",
   "execution_count": 146,
   "metadata": {},
   "outputs": [
    {
     "data": {
      "text/plain": [
       "(1121, 7)"
      ]
     },
     "execution_count": 146,
     "metadata": {},
     "output_type": "execute_result"
    }
   ],
   "source": [
    "testlabels.shape"
   ]
  },
  {
   "cell_type": "code",
   "execution_count": 147,
   "metadata": {},
   "outputs": [
    {
     "data": {
      "text/plain": [
       "(2, 260, 346, 1)"
      ]
     },
     "execution_count": 147,
     "metadata": {},
     "output_type": "execute_result"
    }
   ],
   "source": [
    "inputshape"
   ]
  },
  {
   "cell_type": "code",
   "execution_count": 148,
   "metadata": {},
   "outputs": [],
   "source": [
    "inputshape=images[0].shape"
   ]
  },
  {
   "cell_type": "code",
   "execution_count": 149,
   "metadata": {},
   "outputs": [],
   "source": [
    "m0=Sequential()\n",
    "m0.add(TimeDistributed(Conv2D(filters=64, kernel_size=(7,7), strides=(2,2),\n",
    "        padding='SAME', activation='relu',input_shape=inputshape))) #1\n",
    "m0.add(TimeDistributed(Conv2D(128, (5,5),strides=(2,2),padding='SAME', activation='relu'))) #2\n",
    "m0.add(Dropout(0.1))\n",
    "m0.add(TimeDistributed(Conv2D(256, (5,5),strides=(2,2),padding='SAME', activation='relu'))) #3\n",
    "m0.add(Dropout(0.1))\n",
    "m0.add(TimeDistributed(Conv2D(256, (3,3),strides=(1,1),padding='SAME', activation='relu'))) #4\n",
    "m0.add(Dropout(0.1))\n",
    "m0.add(TimeDistributed(Conv2D(512, (3,3),strides=(2,2),padding='SAME', activation='relu'))) #5\n",
    "m0.add(Dropout(0.1))\n",
    "m0.add(TimeDistributed(Conv2D(512, (3,3),strides=(1,1),padding='SAME', activation='relu'))) #6\n",
    "m0.add(Dropout(0.1))\n",
    "m0.add(TimeDistributed(Conv2D(512, (3,3),strides=(2,2),padding='SAME', activation='relu'))) #7\n",
    "m0.add(Dropout(0.1))\n",
    "m0.add(TimeDistributed(Conv2D(512, (3,3),strides=(2,2),padding='SAME', activation='relu'))) #8\n",
    "m0.add(Dropout(0.1))\n",
    "m0.add(TimeDistributed(Conv2D(1024, (3,3),strides=(2,2),padding='SAME'))) #9\n",
    "m0.add(Dropout(0.15))\n",
    "m0.add(TimeDistributed(Flatten()))\n",
    "m0.add(LSTM(1000, activation='sigmoid',recurrent_activation='tanh',return_sequences=True))\n",
    "m0.add(LSTM(1000, activation='sigmoid',recurrent_activation='tanh'))\n",
    "m0.add(Dense(7,activation='linear'))\n",
    "m0.compile(optimizer='Adagrad',lr=.0001,loss=['mse'])"
   ]
  },
  {
   "cell_type": "code",
   "execution_count": 150,
   "metadata": {},
   "outputs": [],
   "source": [
    "es=EarlyStopping(monitor='val_loss',restore_best_weights=True, patience=7)"
   ]
  },
  {
   "cell_type": "code",
   "execution_count": null,
   "metadata": {},
   "outputs": [
    {
     "name": "stdout",
     "output_type": "stream",
     "text": [
      "Train on 7988 samples, validate on 1121 samples\n",
      "Epoch 1/200\n"
     ]
    }
   ],
   "source": [
    "m0.fit(trainimgs,trainlabels,epochs=200,batch_size=128,callbacks=[es],validation_data=(testimgs,testlabels))"
   ]
  },
  {
   "cell_type": "code",
   "execution_count": 46,
   "metadata": {},
   "outputs": [
    {
     "data": {
      "text/plain": [
       "0.10681366564909806"
      ]
     },
     "execution_count": 46,
     "metadata": {},
     "output_type": "execute_result"
    }
   ],
   "source": [
    "(-0.326823600202155)**2"
   ]
  },
  {
   "cell_type": "code",
   "execution_count": 47,
   "metadata": {},
   "outputs": [
    {
     "data": {
      "text/plain": [
       "1.0"
      ]
     },
     "execution_count": 47,
     "metadata": {},
     "output_type": "execute_result"
    }
   ],
   "source": [
    "(-0.326823600202155)**2 + (-0.627033435516296)**2 + (0.627109044184194)**2+ (0.326725652188376)**2"
   ]
  },
  {
   "cell_type": "code",
   "execution_count": 48,
   "metadata": {},
   "outputs": [],
   "source": [
    "from scipy.spatial.transform import Rotation as R"
   ]
  },
  {
   "cell_type": "code",
   "execution_count": 61,
   "metadata": {},
   "outputs": [
    {
     "data": {
      "text/plain": [
       "array([-3.14146448, -0.96078912,  1.57074254])"
      ]
     },
     "execution_count": 61,
     "metadata": {},
     "output_type": "execute_result"
    }
   ],
   "source": [
    "R.from_quat([-0.326823600202155, -0.627033435516296, 0.627109044184194, 0.326725652188376]).as_euler('zyx')"
   ]
  },
  {
   "cell_type": "code",
   "execution_count": 55,
   "metadata": {},
   "outputs": [
    {
     "data": {
      "text/plain": [
       "array([-179.99265624,  -55.04916139,   89.99691853])"
      ]
     },
     "execution_count": 55,
     "metadata": {},
     "output_type": "execute_result"
    }
   ],
   "source": [
    "r.as_euler('zyx', degrees=True)"
   ]
  },
  {
   "cell_type": "code",
   "execution_count": null,
   "metadata": {},
   "outputs": [],
   "source": []
  }
 ],
 "metadata": {
  "kernelspec": {
   "display_name": "Python 3",
   "language": "python",
   "name": "python3"
  },
  "language_info": {
   "codemirror_mode": {
    "name": "ipython",
    "version": 3
   },
   "file_extension": ".py",
   "mimetype": "text/x-python",
   "name": "python",
   "nbconvert_exporter": "python",
   "pygments_lexer": "ipython3",
   "version": "3.7.3"
  }
 },
 "nbformat": 4,
 "nbformat_minor": 2
}
